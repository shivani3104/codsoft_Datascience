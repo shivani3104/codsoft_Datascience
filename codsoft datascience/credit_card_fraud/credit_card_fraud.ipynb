{
  "nbformat": 4,
  "nbformat_minor": 0,
  "metadata": {
    "colab": {
      "provenance": []
    },
    "kernelspec": {
      "name": "python3",
      "display_name": "Python 3"
    },
    "language_info": {
      "name": "python"
    }
  },
  "cells": [
    {
      "cell_type": "code",
      "execution_count": null,
      "metadata": {
        "id": "qrCK87esO-sw"
      },
      "outputs": [],
      "source": [
        "import numpy as np\n",
        "import pandas as pd\n",
        "import os\n",
        "for dirname, _, filenames in os.walk('/kaggle/input'):\n",
        "    for filename in filenames:\n",
        "        print(os.path.join(dirname, filename))"
      ]
    },
    {
      "cell_type": "code",
      "source": [
        "from google.colab import drive"
      ],
      "metadata": {
        "id": "8GUPe9zvPbuz"
      },
      "execution_count": null,
      "outputs": []
    },
    {
      "cell_type": "code",
      "source": [
        "drive.mount('/content/drive')"
      ],
      "metadata": {
        "colab": {
          "base_uri": "https://localhost:8080/"
        },
        "id": "6bFkT7gXPrcC",
        "outputId": "26e0c05b-86a7-4c73-cc3b-83dc8332d7b1"
      },
      "execution_count": null,
      "outputs": [
        {
          "output_type": "stream",
          "name": "stdout",
          "text": [
            "Mounted at /content/drive\n"
          ]
        }
      ]
    },
    {
      "cell_type": "code",
      "source": [
        "df = pd.read_csv('/content/drive/MyDrive/data/creditcard.csv')"
      ],
      "metadata": {
        "id": "iW8Cs_lrP9qX"
      },
      "execution_count": null,
      "outputs": []
    },
    {
      "cell_type": "code",
      "source": [
        "df.head()"
      ],
      "metadata": {
        "colab": {
          "base_uri": "https://localhost:8080/",
          "height": 255
        },
        "id": "2VfE9TEQQPwe",
        "outputId": "a2955b85-2c82-4b1a-eb45-2450e0f3ad5d"
      },
      "execution_count": null,
      "outputs": [
        {
          "output_type": "execute_result",
          "data": {
            "text/plain": [
              "   Time        V1        V2        V3        V4        V5        V6        V7  \\\n",
              "0   0.0 -1.359807 -0.072781  2.536347  1.378155 -0.338321  0.462388  0.239599   \n",
              "1   0.0  1.191857  0.266151  0.166480  0.448154  0.060018 -0.082361 -0.078803   \n",
              "2   1.0 -1.358354 -1.340163  1.773209  0.379780 -0.503198  1.800499  0.791461   \n",
              "3   1.0 -0.966272 -0.185226  1.792993 -0.863291 -0.010309  1.247203  0.237609   \n",
              "4   2.0 -1.158233  0.877737  1.548718  0.403034 -0.407193  0.095921  0.592941   \n",
              "\n",
              "         V8        V9  ...       V21       V22       V23       V24       V25  \\\n",
              "0  0.098698  0.363787  ... -0.018307  0.277838 -0.110474  0.066928  0.128539   \n",
              "1  0.085102 -0.255425  ... -0.225775 -0.638672  0.101288 -0.339846  0.167170   \n",
              "2  0.247676 -1.514654  ...  0.247998  0.771679  0.909412 -0.689281 -0.327642   \n",
              "3  0.377436 -1.387024  ... -0.108300  0.005274 -0.190321 -1.175575  0.647376   \n",
              "4 -0.270533  0.817739  ... -0.009431  0.798278 -0.137458  0.141267 -0.206010   \n",
              "\n",
              "        V26       V27       V28  Amount  Class  \n",
              "0 -0.189115  0.133558 -0.021053  149.62      0  \n",
              "1  0.125895 -0.008983  0.014724    2.69      0  \n",
              "2 -0.139097 -0.055353 -0.059752  378.66      0  \n",
              "3 -0.221929  0.062723  0.061458  123.50      0  \n",
              "4  0.502292  0.219422  0.215153   69.99      0  \n",
              "\n",
              "[5 rows x 31 columns]"
            ],
            "text/html": [
              "\n",
              "  <div id=\"df-1c578c8a-da4f-42f1-8635-6b4d404f9465\" class=\"colab-df-container\">\n",
              "    <div>\n",
              "<style scoped>\n",
              "    .dataframe tbody tr th:only-of-type {\n",
              "        vertical-align: middle;\n",
              "    }\n",
              "\n",
              "    .dataframe tbody tr th {\n",
              "        vertical-align: top;\n",
              "    }\n",
              "\n",
              "    .dataframe thead th {\n",
              "        text-align: right;\n",
              "    }\n",
              "</style>\n",
              "<table border=\"1\" class=\"dataframe\">\n",
              "  <thead>\n",
              "    <tr style=\"text-align: right;\">\n",
              "      <th></th>\n",
              "      <th>Time</th>\n",
              "      <th>V1</th>\n",
              "      <th>V2</th>\n",
              "      <th>V3</th>\n",
              "      <th>V4</th>\n",
              "      <th>V5</th>\n",
              "      <th>V6</th>\n",
              "      <th>V7</th>\n",
              "      <th>V8</th>\n",
              "      <th>V9</th>\n",
              "      <th>...</th>\n",
              "      <th>V21</th>\n",
              "      <th>V22</th>\n",
              "      <th>V23</th>\n",
              "      <th>V24</th>\n",
              "      <th>V25</th>\n",
              "      <th>V26</th>\n",
              "      <th>V27</th>\n",
              "      <th>V28</th>\n",
              "      <th>Amount</th>\n",
              "      <th>Class</th>\n",
              "    </tr>\n",
              "  </thead>\n",
              "  <tbody>\n",
              "    <tr>\n",
              "      <th>0</th>\n",
              "      <td>0.0</td>\n",
              "      <td>-1.359807</td>\n",
              "      <td>-0.072781</td>\n",
              "      <td>2.536347</td>\n",
              "      <td>1.378155</td>\n",
              "      <td>-0.338321</td>\n",
              "      <td>0.462388</td>\n",
              "      <td>0.239599</td>\n",
              "      <td>0.098698</td>\n",
              "      <td>0.363787</td>\n",
              "      <td>...</td>\n",
              "      <td>-0.018307</td>\n",
              "      <td>0.277838</td>\n",
              "      <td>-0.110474</td>\n",
              "      <td>0.066928</td>\n",
              "      <td>0.128539</td>\n",
              "      <td>-0.189115</td>\n",
              "      <td>0.133558</td>\n",
              "      <td>-0.021053</td>\n",
              "      <td>149.62</td>\n",
              "      <td>0</td>\n",
              "    </tr>\n",
              "    <tr>\n",
              "      <th>1</th>\n",
              "      <td>0.0</td>\n",
              "      <td>1.191857</td>\n",
              "      <td>0.266151</td>\n",
              "      <td>0.166480</td>\n",
              "      <td>0.448154</td>\n",
              "      <td>0.060018</td>\n",
              "      <td>-0.082361</td>\n",
              "      <td>-0.078803</td>\n",
              "      <td>0.085102</td>\n",
              "      <td>-0.255425</td>\n",
              "      <td>...</td>\n",
              "      <td>-0.225775</td>\n",
              "      <td>-0.638672</td>\n",
              "      <td>0.101288</td>\n",
              "      <td>-0.339846</td>\n",
              "      <td>0.167170</td>\n",
              "      <td>0.125895</td>\n",
              "      <td>-0.008983</td>\n",
              "      <td>0.014724</td>\n",
              "      <td>2.69</td>\n",
              "      <td>0</td>\n",
              "    </tr>\n",
              "    <tr>\n",
              "      <th>2</th>\n",
              "      <td>1.0</td>\n",
              "      <td>-1.358354</td>\n",
              "      <td>-1.340163</td>\n",
              "      <td>1.773209</td>\n",
              "      <td>0.379780</td>\n",
              "      <td>-0.503198</td>\n",
              "      <td>1.800499</td>\n",
              "      <td>0.791461</td>\n",
              "      <td>0.247676</td>\n",
              "      <td>-1.514654</td>\n",
              "      <td>...</td>\n",
              "      <td>0.247998</td>\n",
              "      <td>0.771679</td>\n",
              "      <td>0.909412</td>\n",
              "      <td>-0.689281</td>\n",
              "      <td>-0.327642</td>\n",
              "      <td>-0.139097</td>\n",
              "      <td>-0.055353</td>\n",
              "      <td>-0.059752</td>\n",
              "      <td>378.66</td>\n",
              "      <td>0</td>\n",
              "    </tr>\n",
              "    <tr>\n",
              "      <th>3</th>\n",
              "      <td>1.0</td>\n",
              "      <td>-0.966272</td>\n",
              "      <td>-0.185226</td>\n",
              "      <td>1.792993</td>\n",
              "      <td>-0.863291</td>\n",
              "      <td>-0.010309</td>\n",
              "      <td>1.247203</td>\n",
              "      <td>0.237609</td>\n",
              "      <td>0.377436</td>\n",
              "      <td>-1.387024</td>\n",
              "      <td>...</td>\n",
              "      <td>-0.108300</td>\n",
              "      <td>0.005274</td>\n",
              "      <td>-0.190321</td>\n",
              "      <td>-1.175575</td>\n",
              "      <td>0.647376</td>\n",
              "      <td>-0.221929</td>\n",
              "      <td>0.062723</td>\n",
              "      <td>0.061458</td>\n",
              "      <td>123.50</td>\n",
              "      <td>0</td>\n",
              "    </tr>\n",
              "    <tr>\n",
              "      <th>4</th>\n",
              "      <td>2.0</td>\n",
              "      <td>-1.158233</td>\n",
              "      <td>0.877737</td>\n",
              "      <td>1.548718</td>\n",
              "      <td>0.403034</td>\n",
              "      <td>-0.407193</td>\n",
              "      <td>0.095921</td>\n",
              "      <td>0.592941</td>\n",
              "      <td>-0.270533</td>\n",
              "      <td>0.817739</td>\n",
              "      <td>...</td>\n",
              "      <td>-0.009431</td>\n",
              "      <td>0.798278</td>\n",
              "      <td>-0.137458</td>\n",
              "      <td>0.141267</td>\n",
              "      <td>-0.206010</td>\n",
              "      <td>0.502292</td>\n",
              "      <td>0.219422</td>\n",
              "      <td>0.215153</td>\n",
              "      <td>69.99</td>\n",
              "      <td>0</td>\n",
              "    </tr>\n",
              "  </tbody>\n",
              "</table>\n",
              "<p>5 rows × 31 columns</p>\n",
              "</div>\n",
              "    <div class=\"colab-df-buttons\">\n",
              "\n",
              "  <div class=\"colab-df-container\">\n",
              "    <button class=\"colab-df-convert\" onclick=\"convertToInteractive('df-1c578c8a-da4f-42f1-8635-6b4d404f9465')\"\n",
              "            title=\"Convert this dataframe to an interactive table.\"\n",
              "            style=\"display:none;\">\n",
              "\n",
              "  <svg xmlns=\"http://www.w3.org/2000/svg\" height=\"24px\" viewBox=\"0 -960 960 960\">\n",
              "    <path d=\"M120-120v-720h720v720H120Zm60-500h600v-160H180v160Zm220 220h160v-160H400v160Zm0 220h160v-160H400v160ZM180-400h160v-160H180v160Zm440 0h160v-160H620v160ZM180-180h160v-160H180v160Zm440 0h160v-160H620v160Z\"/>\n",
              "  </svg>\n",
              "    </button>\n",
              "\n",
              "  <style>\n",
              "    .colab-df-container {\n",
              "      display:flex;\n",
              "      gap: 12px;\n",
              "    }\n",
              "\n",
              "    .colab-df-convert {\n",
              "      background-color: #E8F0FE;\n",
              "      border: none;\n",
              "      border-radius: 50%;\n",
              "      cursor: pointer;\n",
              "      display: none;\n",
              "      fill: #1967D2;\n",
              "      height: 32px;\n",
              "      padding: 0 0 0 0;\n",
              "      width: 32px;\n",
              "    }\n",
              "\n",
              "    .colab-df-convert:hover {\n",
              "      background-color: #E2EBFA;\n",
              "      box-shadow: 0px 1px 2px rgba(60, 64, 67, 0.3), 0px 1px 3px 1px rgba(60, 64, 67, 0.15);\n",
              "      fill: #174EA6;\n",
              "    }\n",
              "\n",
              "    .colab-df-buttons div {\n",
              "      margin-bottom: 4px;\n",
              "    }\n",
              "\n",
              "    [theme=dark] .colab-df-convert {\n",
              "      background-color: #3B4455;\n",
              "      fill: #D2E3FC;\n",
              "    }\n",
              "\n",
              "    [theme=dark] .colab-df-convert:hover {\n",
              "      background-color: #434B5C;\n",
              "      box-shadow: 0px 1px 3px 1px rgba(0, 0, 0, 0.15);\n",
              "      filter: drop-shadow(0px 1px 2px rgba(0, 0, 0, 0.3));\n",
              "      fill: #FFFFFF;\n",
              "    }\n",
              "  </style>\n",
              "\n",
              "    <script>\n",
              "      const buttonEl =\n",
              "        document.querySelector('#df-1c578c8a-da4f-42f1-8635-6b4d404f9465 button.colab-df-convert');\n",
              "      buttonEl.style.display =\n",
              "        google.colab.kernel.accessAllowed ? 'block' : 'none';\n",
              "\n",
              "      async function convertToInteractive(key) {\n",
              "        const element = document.querySelector('#df-1c578c8a-da4f-42f1-8635-6b4d404f9465');\n",
              "        const dataTable =\n",
              "          await google.colab.kernel.invokeFunction('convertToInteractive',\n",
              "                                                    [key], {});\n",
              "        if (!dataTable) return;\n",
              "\n",
              "        const docLinkHtml = 'Like what you see? Visit the ' +\n",
              "          '<a target=\"_blank\" href=https://colab.research.google.com/notebooks/data_table.ipynb>data table notebook</a>'\n",
              "          + ' to learn more about interactive tables.';\n",
              "        element.innerHTML = '';\n",
              "        dataTable['output_type'] = 'display_data';\n",
              "        await google.colab.output.renderOutput(dataTable, element);\n",
              "        const docLink = document.createElement('div');\n",
              "        docLink.innerHTML = docLinkHtml;\n",
              "        element.appendChild(docLink);\n",
              "      }\n",
              "    </script>\n",
              "  </div>\n",
              "\n",
              "\n",
              "<div id=\"df-a81ba759-9466-4784-9143-0fe8b01b278e\">\n",
              "  <button class=\"colab-df-quickchart\" onclick=\"quickchart('df-a81ba759-9466-4784-9143-0fe8b01b278e')\"\n",
              "            title=\"Suggest charts\"\n",
              "            style=\"display:none;\">\n",
              "\n",
              "<svg xmlns=\"http://www.w3.org/2000/svg\" height=\"24px\"viewBox=\"0 0 24 24\"\n",
              "     width=\"24px\">\n",
              "    <g>\n",
              "        <path d=\"M19 3H5c-1.1 0-2 .9-2 2v14c0 1.1.9 2 2 2h14c1.1 0 2-.9 2-2V5c0-1.1-.9-2-2-2zM9 17H7v-7h2v7zm4 0h-2V7h2v10zm4 0h-2v-4h2v4z\"/>\n",
              "    </g>\n",
              "</svg>\n",
              "  </button>\n",
              "\n",
              "<style>\n",
              "  .colab-df-quickchart {\n",
              "      --bg-color: #E8F0FE;\n",
              "      --fill-color: #1967D2;\n",
              "      --hover-bg-color: #E2EBFA;\n",
              "      --hover-fill-color: #174EA6;\n",
              "      --disabled-fill-color: #AAA;\n",
              "      --disabled-bg-color: #DDD;\n",
              "  }\n",
              "\n",
              "  [theme=dark] .colab-df-quickchart {\n",
              "      --bg-color: #3B4455;\n",
              "      --fill-color: #D2E3FC;\n",
              "      --hover-bg-color: #434B5C;\n",
              "      --hover-fill-color: #FFFFFF;\n",
              "      --disabled-bg-color: #3B4455;\n",
              "      --disabled-fill-color: #666;\n",
              "  }\n",
              "\n",
              "  .colab-df-quickchart {\n",
              "    background-color: var(--bg-color);\n",
              "    border: none;\n",
              "    border-radius: 50%;\n",
              "    cursor: pointer;\n",
              "    display: none;\n",
              "    fill: var(--fill-color);\n",
              "    height: 32px;\n",
              "    padding: 0;\n",
              "    width: 32px;\n",
              "  }\n",
              "\n",
              "  .colab-df-quickchart:hover {\n",
              "    background-color: var(--hover-bg-color);\n",
              "    box-shadow: 0 1px 2px rgba(60, 64, 67, 0.3), 0 1px 3px 1px rgba(60, 64, 67, 0.15);\n",
              "    fill: var(--button-hover-fill-color);\n",
              "  }\n",
              "\n",
              "  .colab-df-quickchart-complete:disabled,\n",
              "  .colab-df-quickchart-complete:disabled:hover {\n",
              "    background-color: var(--disabled-bg-color);\n",
              "    fill: var(--disabled-fill-color);\n",
              "    box-shadow: none;\n",
              "  }\n",
              "\n",
              "  .colab-df-spinner {\n",
              "    border: 2px solid var(--fill-color);\n",
              "    border-color: transparent;\n",
              "    border-bottom-color: var(--fill-color);\n",
              "    animation:\n",
              "      spin 1s steps(1) infinite;\n",
              "  }\n",
              "\n",
              "  @keyframes spin {\n",
              "    0% {\n",
              "      border-color: transparent;\n",
              "      border-bottom-color: var(--fill-color);\n",
              "      border-left-color: var(--fill-color);\n",
              "    }\n",
              "    20% {\n",
              "      border-color: transparent;\n",
              "      border-left-color: var(--fill-color);\n",
              "      border-top-color: var(--fill-color);\n",
              "    }\n",
              "    30% {\n",
              "      border-color: transparent;\n",
              "      border-left-color: var(--fill-color);\n",
              "      border-top-color: var(--fill-color);\n",
              "      border-right-color: var(--fill-color);\n",
              "    }\n",
              "    40% {\n",
              "      border-color: transparent;\n",
              "      border-right-color: var(--fill-color);\n",
              "      border-top-color: var(--fill-color);\n",
              "    }\n",
              "    60% {\n",
              "      border-color: transparent;\n",
              "      border-right-color: var(--fill-color);\n",
              "    }\n",
              "    80% {\n",
              "      border-color: transparent;\n",
              "      border-right-color: var(--fill-color);\n",
              "      border-bottom-color: var(--fill-color);\n",
              "    }\n",
              "    90% {\n",
              "      border-color: transparent;\n",
              "      border-bottom-color: var(--fill-color);\n",
              "    }\n",
              "  }\n",
              "</style>\n",
              "\n",
              "  <script>\n",
              "    async function quickchart(key) {\n",
              "      const quickchartButtonEl =\n",
              "        document.querySelector('#' + key + ' button');\n",
              "      quickchartButtonEl.disabled = true;  // To prevent multiple clicks.\n",
              "      quickchartButtonEl.classList.add('colab-df-spinner');\n",
              "      try {\n",
              "        const charts = await google.colab.kernel.invokeFunction(\n",
              "            'suggestCharts', [key], {});\n",
              "      } catch (error) {\n",
              "        console.error('Error during call to suggestCharts:', error);\n",
              "      }\n",
              "      quickchartButtonEl.classList.remove('colab-df-spinner');\n",
              "      quickchartButtonEl.classList.add('colab-df-quickchart-complete');\n",
              "    }\n",
              "    (() => {\n",
              "      let quickchartButtonEl =\n",
              "        document.querySelector('#df-a81ba759-9466-4784-9143-0fe8b01b278e button');\n",
              "      quickchartButtonEl.style.display =\n",
              "        google.colab.kernel.accessAllowed ? 'block' : 'none';\n",
              "    })();\n",
              "  </script>\n",
              "</div>\n",
              "\n",
              "    </div>\n",
              "  </div>\n"
            ]
          },
          "metadata": {},
          "execution_count": 6
        }
      ]
    },
    {
      "cell_type": "code",
      "source": [
        "df['Class'].value_counts()"
      ],
      "metadata": {
        "colab": {
          "base_uri": "https://localhost:8080/"
        },
        "id": "ZgJRPtTaQYD4",
        "outputId": "762f75bd-2878-48e6-baee-ae4039fd5721"
      },
      "execution_count": null,
      "outputs": [
        {
          "output_type": "execute_result",
          "data": {
            "text/plain": [
              "0    284315\n",
              "1       492\n",
              "Name: Class, dtype: int64"
            ]
          },
          "metadata": {},
          "execution_count": 7
        }
      ]
    },
    {
      "cell_type": "code",
      "source": [
        "\n",
        "df = df.sample(frac = 1, random_state = 1)\n",
        "df = df.reset_index(drop = True)\n",
        "df.head()"
      ],
      "metadata": {
        "colab": {
          "base_uri": "https://localhost:8080/",
          "height": 255
        },
        "id": "h54WW52fQbyK",
        "outputId": "975965a9-f810-44e6-9051-47cf0976f26c"
      },
      "execution_count": null,
      "outputs": [
        {
          "output_type": "execute_result",
          "data": {
            "text/plain": [
              "       Time        V1        V2        V3        V4        V5        V6  \\\n",
              "0  119907.0 -0.611712 -0.769705 -0.149759 -0.224877  2.028577 -2.019887   \n",
              "1   78340.0 -0.814682  1.319219  1.329415  0.027273 -0.284871 -0.653985   \n",
              "2   82382.0 -0.318193  1.118618  0.969864 -0.127052  0.569563 -0.532484   \n",
              "3   31717.0 -1.328271  1.018378  1.775426 -1.574193 -0.117696 -0.457733   \n",
              "4   80923.0  1.276712  0.617120 -0.578014  0.879173  0.061706 -1.472002   \n",
              "\n",
              "         V7        V8        V9  ...       V21       V22       V23       V24  \\\n",
              "0  0.292491 -0.523020  0.358468  ... -0.075208  0.045536  0.380739  0.023440   \n",
              "1  0.321552  0.435975 -0.704298  ... -0.128619 -0.368565  0.090660  0.401147   \n",
              "2  0.706252 -0.064966 -0.463271  ... -0.305402 -0.774704 -0.123884 -0.495687   \n",
              "3  0.681867 -0.031641  0.383872  ... -0.220815 -0.419013 -0.239197  0.009967   \n",
              "4  0.373692 -0.287204 -0.084482  ... -0.160161 -0.430404 -0.076738  0.258708   \n",
              "\n",
              "        V25       V26       V27       V28  Amount  Class  \n",
              "0 -2.220686 -0.201146  0.066501  0.221180    1.79      0  \n",
              "1 -0.261034  0.080621  0.162427  0.059456    1.98      0  \n",
              "2 -0.018148  0.121679  0.249050  0.092516    0.89      0  \n",
              "3  0.232829  0.814177  0.098797 -0.004273   15.98      0  \n",
              "4  0.552170  0.370701 -0.034255  0.041709    0.76      0  \n",
              "\n",
              "[5 rows x 31 columns]"
            ],
            "text/html": [
              "\n",
              "  <div id=\"df-36dcd979-cd86-4245-b1fb-663e561554ba\" class=\"colab-df-container\">\n",
              "    <div>\n",
              "<style scoped>\n",
              "    .dataframe tbody tr th:only-of-type {\n",
              "        vertical-align: middle;\n",
              "    }\n",
              "\n",
              "    .dataframe tbody tr th {\n",
              "        vertical-align: top;\n",
              "    }\n",
              "\n",
              "    .dataframe thead th {\n",
              "        text-align: right;\n",
              "    }\n",
              "</style>\n",
              "<table border=\"1\" class=\"dataframe\">\n",
              "  <thead>\n",
              "    <tr style=\"text-align: right;\">\n",
              "      <th></th>\n",
              "      <th>Time</th>\n",
              "      <th>V1</th>\n",
              "      <th>V2</th>\n",
              "      <th>V3</th>\n",
              "      <th>V4</th>\n",
              "      <th>V5</th>\n",
              "      <th>V6</th>\n",
              "      <th>V7</th>\n",
              "      <th>V8</th>\n",
              "      <th>V9</th>\n",
              "      <th>...</th>\n",
              "      <th>V21</th>\n",
              "      <th>V22</th>\n",
              "      <th>V23</th>\n",
              "      <th>V24</th>\n",
              "      <th>V25</th>\n",
              "      <th>V26</th>\n",
              "      <th>V27</th>\n",
              "      <th>V28</th>\n",
              "      <th>Amount</th>\n",
              "      <th>Class</th>\n",
              "    </tr>\n",
              "  </thead>\n",
              "  <tbody>\n",
              "    <tr>\n",
              "      <th>0</th>\n",
              "      <td>119907.0</td>\n",
              "      <td>-0.611712</td>\n",
              "      <td>-0.769705</td>\n",
              "      <td>-0.149759</td>\n",
              "      <td>-0.224877</td>\n",
              "      <td>2.028577</td>\n",
              "      <td>-2.019887</td>\n",
              "      <td>0.292491</td>\n",
              "      <td>-0.523020</td>\n",
              "      <td>0.358468</td>\n",
              "      <td>...</td>\n",
              "      <td>-0.075208</td>\n",
              "      <td>0.045536</td>\n",
              "      <td>0.380739</td>\n",
              "      <td>0.023440</td>\n",
              "      <td>-2.220686</td>\n",
              "      <td>-0.201146</td>\n",
              "      <td>0.066501</td>\n",
              "      <td>0.221180</td>\n",
              "      <td>1.79</td>\n",
              "      <td>0</td>\n",
              "    </tr>\n",
              "    <tr>\n",
              "      <th>1</th>\n",
              "      <td>78340.0</td>\n",
              "      <td>-0.814682</td>\n",
              "      <td>1.319219</td>\n",
              "      <td>1.329415</td>\n",
              "      <td>0.027273</td>\n",
              "      <td>-0.284871</td>\n",
              "      <td>-0.653985</td>\n",
              "      <td>0.321552</td>\n",
              "      <td>0.435975</td>\n",
              "      <td>-0.704298</td>\n",
              "      <td>...</td>\n",
              "      <td>-0.128619</td>\n",
              "      <td>-0.368565</td>\n",
              "      <td>0.090660</td>\n",
              "      <td>0.401147</td>\n",
              "      <td>-0.261034</td>\n",
              "      <td>0.080621</td>\n",
              "      <td>0.162427</td>\n",
              "      <td>0.059456</td>\n",
              "      <td>1.98</td>\n",
              "      <td>0</td>\n",
              "    </tr>\n",
              "    <tr>\n",
              "      <th>2</th>\n",
              "      <td>82382.0</td>\n",
              "      <td>-0.318193</td>\n",
              "      <td>1.118618</td>\n",
              "      <td>0.969864</td>\n",
              "      <td>-0.127052</td>\n",
              "      <td>0.569563</td>\n",
              "      <td>-0.532484</td>\n",
              "      <td>0.706252</td>\n",
              "      <td>-0.064966</td>\n",
              "      <td>-0.463271</td>\n",
              "      <td>...</td>\n",
              "      <td>-0.305402</td>\n",
              "      <td>-0.774704</td>\n",
              "      <td>-0.123884</td>\n",
              "      <td>-0.495687</td>\n",
              "      <td>-0.018148</td>\n",
              "      <td>0.121679</td>\n",
              "      <td>0.249050</td>\n",
              "      <td>0.092516</td>\n",
              "      <td>0.89</td>\n",
              "      <td>0</td>\n",
              "    </tr>\n",
              "    <tr>\n",
              "      <th>3</th>\n",
              "      <td>31717.0</td>\n",
              "      <td>-1.328271</td>\n",
              "      <td>1.018378</td>\n",
              "      <td>1.775426</td>\n",
              "      <td>-1.574193</td>\n",
              "      <td>-0.117696</td>\n",
              "      <td>-0.457733</td>\n",
              "      <td>0.681867</td>\n",
              "      <td>-0.031641</td>\n",
              "      <td>0.383872</td>\n",
              "      <td>...</td>\n",
              "      <td>-0.220815</td>\n",
              "      <td>-0.419013</td>\n",
              "      <td>-0.239197</td>\n",
              "      <td>0.009967</td>\n",
              "      <td>0.232829</td>\n",
              "      <td>0.814177</td>\n",
              "      <td>0.098797</td>\n",
              "      <td>-0.004273</td>\n",
              "      <td>15.98</td>\n",
              "      <td>0</td>\n",
              "    </tr>\n",
              "    <tr>\n",
              "      <th>4</th>\n",
              "      <td>80923.0</td>\n",
              "      <td>1.276712</td>\n",
              "      <td>0.617120</td>\n",
              "      <td>-0.578014</td>\n",
              "      <td>0.879173</td>\n",
              "      <td>0.061706</td>\n",
              "      <td>-1.472002</td>\n",
              "      <td>0.373692</td>\n",
              "      <td>-0.287204</td>\n",
              "      <td>-0.084482</td>\n",
              "      <td>...</td>\n",
              "      <td>-0.160161</td>\n",
              "      <td>-0.430404</td>\n",
              "      <td>-0.076738</td>\n",
              "      <td>0.258708</td>\n",
              "      <td>0.552170</td>\n",
              "      <td>0.370701</td>\n",
              "      <td>-0.034255</td>\n",
              "      <td>0.041709</td>\n",
              "      <td>0.76</td>\n",
              "      <td>0</td>\n",
              "    </tr>\n",
              "  </tbody>\n",
              "</table>\n",
              "<p>5 rows × 31 columns</p>\n",
              "</div>\n",
              "    <div class=\"colab-df-buttons\">\n",
              "\n",
              "  <div class=\"colab-df-container\">\n",
              "    <button class=\"colab-df-convert\" onclick=\"convertToInteractive('df-36dcd979-cd86-4245-b1fb-663e561554ba')\"\n",
              "            title=\"Convert this dataframe to an interactive table.\"\n",
              "            style=\"display:none;\">\n",
              "\n",
              "  <svg xmlns=\"http://www.w3.org/2000/svg\" height=\"24px\" viewBox=\"0 -960 960 960\">\n",
              "    <path d=\"M120-120v-720h720v720H120Zm60-500h600v-160H180v160Zm220 220h160v-160H400v160Zm0 220h160v-160H400v160ZM180-400h160v-160H180v160Zm440 0h160v-160H620v160ZM180-180h160v-160H180v160Zm440 0h160v-160H620v160Z\"/>\n",
              "  </svg>\n",
              "    </button>\n",
              "\n",
              "  <style>\n",
              "    .colab-df-container {\n",
              "      display:flex;\n",
              "      gap: 12px;\n",
              "    }\n",
              "\n",
              "    .colab-df-convert {\n",
              "      background-color: #E8F0FE;\n",
              "      border: none;\n",
              "      border-radius: 50%;\n",
              "      cursor: pointer;\n",
              "      display: none;\n",
              "      fill: #1967D2;\n",
              "      height: 32px;\n",
              "      padding: 0 0 0 0;\n",
              "      width: 32px;\n",
              "    }\n",
              "\n",
              "    .colab-df-convert:hover {\n",
              "      background-color: #E2EBFA;\n",
              "      box-shadow: 0px 1px 2px rgba(60, 64, 67, 0.3), 0px 1px 3px 1px rgba(60, 64, 67, 0.15);\n",
              "      fill: #174EA6;\n",
              "    }\n",
              "\n",
              "    .colab-df-buttons div {\n",
              "      margin-bottom: 4px;\n",
              "    }\n",
              "\n",
              "    [theme=dark] .colab-df-convert {\n",
              "      background-color: #3B4455;\n",
              "      fill: #D2E3FC;\n",
              "    }\n",
              "\n",
              "    [theme=dark] .colab-df-convert:hover {\n",
              "      background-color: #434B5C;\n",
              "      box-shadow: 0px 1px 3px 1px rgba(0, 0, 0, 0.15);\n",
              "      filter: drop-shadow(0px 1px 2px rgba(0, 0, 0, 0.3));\n",
              "      fill: #FFFFFF;\n",
              "    }\n",
              "  </style>\n",
              "\n",
              "    <script>\n",
              "      const buttonEl =\n",
              "        document.querySelector('#df-36dcd979-cd86-4245-b1fb-663e561554ba button.colab-df-convert');\n",
              "      buttonEl.style.display =\n",
              "        google.colab.kernel.accessAllowed ? 'block' : 'none';\n",
              "\n",
              "      async function convertToInteractive(key) {\n",
              "        const element = document.querySelector('#df-36dcd979-cd86-4245-b1fb-663e561554ba');\n",
              "        const dataTable =\n",
              "          await google.colab.kernel.invokeFunction('convertToInteractive',\n",
              "                                                    [key], {});\n",
              "        if (!dataTable) return;\n",
              "\n",
              "        const docLinkHtml = 'Like what you see? Visit the ' +\n",
              "          '<a target=\"_blank\" href=https://colab.research.google.com/notebooks/data_table.ipynb>data table notebook</a>'\n",
              "          + ' to learn more about interactive tables.';\n",
              "        element.innerHTML = '';\n",
              "        dataTable['output_type'] = 'display_data';\n",
              "        await google.colab.output.renderOutput(dataTable, element);\n",
              "        const docLink = document.createElement('div');\n",
              "        docLink.innerHTML = docLinkHtml;\n",
              "        element.appendChild(docLink);\n",
              "      }\n",
              "    </script>\n",
              "  </div>\n",
              "\n",
              "\n",
              "<div id=\"df-c6289c21-0591-4709-b3db-c283f32ba677\">\n",
              "  <button class=\"colab-df-quickchart\" onclick=\"quickchart('df-c6289c21-0591-4709-b3db-c283f32ba677')\"\n",
              "            title=\"Suggest charts\"\n",
              "            style=\"display:none;\">\n",
              "\n",
              "<svg xmlns=\"http://www.w3.org/2000/svg\" height=\"24px\"viewBox=\"0 0 24 24\"\n",
              "     width=\"24px\">\n",
              "    <g>\n",
              "        <path d=\"M19 3H5c-1.1 0-2 .9-2 2v14c0 1.1.9 2 2 2h14c1.1 0 2-.9 2-2V5c0-1.1-.9-2-2-2zM9 17H7v-7h2v7zm4 0h-2V7h2v10zm4 0h-2v-4h2v4z\"/>\n",
              "    </g>\n",
              "</svg>\n",
              "  </button>\n",
              "\n",
              "<style>\n",
              "  .colab-df-quickchart {\n",
              "      --bg-color: #E8F0FE;\n",
              "      --fill-color: #1967D2;\n",
              "      --hover-bg-color: #E2EBFA;\n",
              "      --hover-fill-color: #174EA6;\n",
              "      --disabled-fill-color: #AAA;\n",
              "      --disabled-bg-color: #DDD;\n",
              "  }\n",
              "\n",
              "  [theme=dark] .colab-df-quickchart {\n",
              "      --bg-color: #3B4455;\n",
              "      --fill-color: #D2E3FC;\n",
              "      --hover-bg-color: #434B5C;\n",
              "      --hover-fill-color: #FFFFFF;\n",
              "      --disabled-bg-color: #3B4455;\n",
              "      --disabled-fill-color: #666;\n",
              "  }\n",
              "\n",
              "  .colab-df-quickchart {\n",
              "    background-color: var(--bg-color);\n",
              "    border: none;\n",
              "    border-radius: 50%;\n",
              "    cursor: pointer;\n",
              "    display: none;\n",
              "    fill: var(--fill-color);\n",
              "    height: 32px;\n",
              "    padding: 0;\n",
              "    width: 32px;\n",
              "  }\n",
              "\n",
              "  .colab-df-quickchart:hover {\n",
              "    background-color: var(--hover-bg-color);\n",
              "    box-shadow: 0 1px 2px rgba(60, 64, 67, 0.3), 0 1px 3px 1px rgba(60, 64, 67, 0.15);\n",
              "    fill: var(--button-hover-fill-color);\n",
              "  }\n",
              "\n",
              "  .colab-df-quickchart-complete:disabled,\n",
              "  .colab-df-quickchart-complete:disabled:hover {\n",
              "    background-color: var(--disabled-bg-color);\n",
              "    fill: var(--disabled-fill-color);\n",
              "    box-shadow: none;\n",
              "  }\n",
              "\n",
              "  .colab-df-spinner {\n",
              "    border: 2px solid var(--fill-color);\n",
              "    border-color: transparent;\n",
              "    border-bottom-color: var(--fill-color);\n",
              "    animation:\n",
              "      spin 1s steps(1) infinite;\n",
              "  }\n",
              "\n",
              "  @keyframes spin {\n",
              "    0% {\n",
              "      border-color: transparent;\n",
              "      border-bottom-color: var(--fill-color);\n",
              "      border-left-color: var(--fill-color);\n",
              "    }\n",
              "    20% {\n",
              "      border-color: transparent;\n",
              "      border-left-color: var(--fill-color);\n",
              "      border-top-color: var(--fill-color);\n",
              "    }\n",
              "    30% {\n",
              "      border-color: transparent;\n",
              "      border-left-color: var(--fill-color);\n",
              "      border-top-color: var(--fill-color);\n",
              "      border-right-color: var(--fill-color);\n",
              "    }\n",
              "    40% {\n",
              "      border-color: transparent;\n",
              "      border-right-color: var(--fill-color);\n",
              "      border-top-color: var(--fill-color);\n",
              "    }\n",
              "    60% {\n",
              "      border-color: transparent;\n",
              "      border-right-color: var(--fill-color);\n",
              "    }\n",
              "    80% {\n",
              "      border-color: transparent;\n",
              "      border-right-color: var(--fill-color);\n",
              "      border-bottom-color: var(--fill-color);\n",
              "    }\n",
              "    90% {\n",
              "      border-color: transparent;\n",
              "      border-bottom-color: var(--fill-color);\n",
              "    }\n",
              "  }\n",
              "</style>\n",
              "\n",
              "  <script>\n",
              "    async function quickchart(key) {\n",
              "      const quickchartButtonEl =\n",
              "        document.querySelector('#' + key + ' button');\n",
              "      quickchartButtonEl.disabled = true;  // To prevent multiple clicks.\n",
              "      quickchartButtonEl.classList.add('colab-df-spinner');\n",
              "      try {\n",
              "        const charts = await google.colab.kernel.invokeFunction(\n",
              "            'suggestCharts', [key], {});\n",
              "      } catch (error) {\n",
              "        console.error('Error during call to suggestCharts:', error);\n",
              "      }\n",
              "      quickchartButtonEl.classList.remove('colab-df-spinner');\n",
              "      quickchartButtonEl.classList.add('colab-df-quickchart-complete');\n",
              "    }\n",
              "    (() => {\n",
              "      let quickchartButtonEl =\n",
              "        document.querySelector('#df-c6289c21-0591-4709-b3db-c283f32ba677 button');\n",
              "      quickchartButtonEl.style.display =\n",
              "        google.colab.kernel.accessAllowed ? 'block' : 'none';\n",
              "    })();\n",
              "  </script>\n",
              "</div>\n",
              "\n",
              "    </div>\n",
              "  </div>\n"
            ]
          },
          "metadata": {},
          "execution_count": 8
        }
      ]
    },
    {
      "cell_type": "code",
      "source": [
        "as_np = df.to_numpy()\n",
        "index = int(len(as_np)* .92)\n",
        "x_train,y_train = as_np[:index,:-1],as_np[:index,-1]\n",
        "x_test,y_test = as_np[index:, :-1], as_np[index:, -1]\n",
        "(x_train.shape, y_train.shape),(x_test.shape, y_test.shape)"
      ],
      "metadata": {
        "colab": {
          "base_uri": "https://localhost:8080/"
        },
        "id": "EGELIbszQkcl",
        "outputId": "98a629fb-b264-417d-97c0-196798f8c075"
      },
      "execution_count": null,
      "outputs": [
        {
          "output_type": "execute_result",
          "data": {
            "text/plain": [
              "(((262022, 30), (262022,)), ((22785, 30), (22785,)))"
            ]
          },
          "metadata": {},
          "execution_count": 9
        }
      ]
    },
    {
      "cell_type": "code",
      "source": [
        "from sklearn.preprocessing import StandardScaler\n",
        "\n",
        "scaler = StandardScaler().fit(x_train)\n",
        "\n",
        "x_train = scaler.transform(x_train)\n",
        "x_test = scaler.transform(x_test)"
      ],
      "metadata": {
        "id": "F5uavnrnQpWE"
      },
      "execution_count": null,
      "outputs": []
    },
    {
      "cell_type": "code",
      "source": [
        "from sklearn.linear_model import LogisticRegression\n",
        "\n",
        "model = LogisticRegression().fit(x_train,y_train)\n",
        "test_predictions = model.predict(x_test)\n",
        "pd.value_counts(test_predictions)"
      ],
      "metadata": {
        "colab": {
          "base_uri": "https://localhost:8080/"
        },
        "id": "UUGF_DtZQrFN",
        "outputId": "ceb24e27-bad8-490f-e393-6973bb7d791c"
      },
      "execution_count": null,
      "outputs": [
        {
          "output_type": "execute_result",
          "data": {
            "text/plain": [
              "0.0    22757\n",
              "1.0       28\n",
              "dtype: int64"
            ]
          },
          "metadata": {},
          "execution_count": 11
        }
      ]
    },
    {
      "cell_type": "code",
      "source": [
        "from sklearn.metrics import confusion_matrix, ConfusionMatrixDisplay\n",
        "\n",
        "cm = confusion_matrix(y_test, test_predictions, labels=[0, 1])\n",
        "disp = ConfusionMatrixDisplay(confusion_matrix=cm,\n",
        "                              display_labels=['Not Fraud', 'Fraud'])\n",
        "disp.plot()"
      ],
      "metadata": {
        "colab": {
          "base_uri": "https://localhost:8080/",
          "height": 466
        },
        "id": "aKyCx14NQwg8",
        "outputId": "3b8231c2-e5a9-45d9-f255-8c363d910188"
      },
      "execution_count": null,
      "outputs": [
        {
          "output_type": "execute_result",
          "data": {
            "text/plain": [
              "<sklearn.metrics._plot.confusion_matrix.ConfusionMatrixDisplay at 0x79aa08e73d30>"
            ]
          },
          "metadata": {},
          "execution_count": 12
        },
        {
          "output_type": "display_data",
          "data": {
            "text/plain": [
              "<Figure size 640x480 with 2 Axes>"
            ],
            "image/png": "[encoded data removed]"
          },
          "metadata": {}
        }
      ]
    },
    {
      "cell_type": "code",
      "source": [
        "\n",
        "tn, fp, fn, tp = cm.ravel()\n",
        "\n",
        "s = \"\"\"\n",
        "True Negatives: {0}\n",
        "False Positives: {1}\n",
        "False Negatives: {2}\n",
        "True Positives: {3}\n",
        "\"\"\".format(tn, fp, fn, tp)\n",
        "\n",
        "print(s)"
      ],
      "metadata": {
        "colab": {
          "base_uri": "https://localhost:8080/"
        },
        "id": "4a1ux6opQ5V-",
        "outputId": "9a8ff1a0-a731-44a6-fa44-22d46daad788"
      },
      "execution_count": null,
      "outputs": [
        {
          "output_type": "stream",
          "name": "stdout",
          "text": [
            "\n",
            "True Negatives: 22741\n",
            "False Positives: 8\n",
            "False Negatives: 16\n",
            "True Positives: 20\n",
            "\n"
          ]
        }
      ]
    },
    {
      "cell_type": "code",
      "source": [
        "def accuracy(tn, fp, fn, tp):\n",
        "  return (tp + tn) / (tp + tn + fp + fn)\n",
        "\n",
        "\"Accuracy: {0}\".format(accuracy(tn, fp, fn, tp))"
      ],
      "metadata": {
        "colab": {
          "base_uri": "https://localhost:8080/",
          "height": 36
        },
        "id": "m3xMLRKXQ7ZK",
        "outputId": "6081df0b-b683-45e0-a132-e0cc2381816c"
      },
      "execution_count": null,
      "outputs": [
        {
          "output_type": "execute_result",
          "data": {
            "text/plain": [
              "'Accuracy: 0.9989466754443713'"
            ],
            "application/vnd.google.colaboratory.intrinsic+json": {
              "type": "string"
            }
          },
          "metadata": {},
          "execution_count": 15
        }
      ]
    },
    {
      "cell_type": "code",
      "source": [
        "def tpr(tn, fp, fn, tp):\n",
        "  return tp / (tp + fn)\n",
        "\n",
        "\"True Positive Rate: {0}\".format(tpr(tn, fp, fn, tp))"
      ],
      "metadata": {
        "colab": {
          "base_uri": "https://localhost:8080/",
          "height": 36
        },
        "id": "kC6OIcH0RFbN",
        "outputId": "2f789283-05da-4307-c05f-f6e4dbcead93"
      },
      "execution_count": null,
      "outputs": [
        {
          "output_type": "execute_result",
          "data": {
            "text/plain": [
              "'True Positive Rate: 0.5555555555555556'"
            ],
            "application/vnd.google.colaboratory.intrinsic+json": {
              "type": "string"
            }
          },
          "metadata": {},
          "execution_count": 16
        }
      ]
    },
    {
      "cell_type": "code",
      "source": [
        "def fnr(tn, fp, fn, tp):\n",
        "  return fn / (tp + fn)\n",
        "\n",
        "\"False Negative Rate: {0}\".format(fnr(tn, fp, fn, tp))"
      ],
      "metadata": {
        "colab": {
          "base_uri": "https://localhost:8080/",
          "height": 36
        },
        "id": "eyyDzwwTRIQ-",
        "outputId": "ae9126a1-dca2-48a5-f548-af19565f8805"
      },
      "execution_count": null,
      "outputs": [
        {
          "output_type": "execute_result",
          "data": {
            "text/plain": [
              "'False Negative Rate: 0.4444444444444444'"
            ],
            "application/vnd.google.colaboratory.intrinsic+json": {
              "type": "string"
            }
          },
          "metadata": {},
          "execution_count": 17
        }
      ]
    },
    {
      "cell_type": "code",
      "source": [
        "\"True Positive Rate + False Negative Rate: {0}\".format(tpr(tn, fp, fn, tp) + fnr(tn, fp, fn, tp))"
      ],
      "metadata": {
        "colab": {
          "base_uri": "https://localhost:8080/",
          "height": 36
        },
        "id": "c3FK14gGRMvP",
        "outputId": "c231a91e-aaf5-4fdd-c1d4-11e614e81310"
      },
      "execution_count": null,
      "outputs": [
        {
          "output_type": "execute_result",
          "data": {
            "text/plain": [
              "'True Positive Rate + False Negative Rate: 1.0'"
            ],
            "application/vnd.google.colaboratory.intrinsic+json": {
              "type": "string"
            }
          },
          "metadata": {},
          "execution_count": 18
        }
      ]
    },
    {
      "cell_type": "code",
      "source": [
        "def tnr(tn, fp, fn, tp):\n",
        "  return tn / (tn + fp)\n",
        "\n",
        "\"True Negative Rate: {0}\".format(tnr(tn, fp, fn, tp))"
      ],
      "metadata": {
        "colab": {
          "base_uri": "https://localhost:8080/",
          "height": 36
        },
        "id": "8IDdTUT1RPbb",
        "outputId": "05ac5cdf-c0ee-4b15-f0ca-8c09d2ef178b"
      },
      "execution_count": null,
      "outputs": [
        {
          "output_type": "execute_result",
          "data": {
            "text/plain": [
              "'True Negative Rate: 0.9996483361906018'"
            ],
            "application/vnd.google.colaboratory.intrinsic+json": {
              "type": "string"
            }
          },
          "metadata": {},
          "execution_count": 19
        }
      ]
    },
    {
      "cell_type": "code",
      "source": [
        "def fpr(tn, fp, fn, tp):\n",
        "  return fp / (tn + fp)\n",
        "\n",
        "\"False Positive Rate: {0}\".format(fpr(tn, fp, fn, tp))"
      ],
      "metadata": {
        "colab": {
          "base_uri": "https://localhost:8080/",
          "height": 36
        },
        "id": "VJz5a8KPRTXN",
        "outputId": "b8525459-eeb2-4e5a-a231-c06965ec7ec9"
      },
      "execution_count": null,
      "outputs": [
        {
          "output_type": "execute_result",
          "data": {
            "text/plain": [
              "'False Positive Rate: 0.00035166380939821533'"
            ],
            "application/vnd.google.colaboratory.intrinsic+json": {
              "type": "string"
            }
          },
          "metadata": {},
          "execution_count": 20
        }
      ]
    },
    {
      "cell_type": "code",
      "source": [
        "\"True Negative Rate + False Positive Rate: {0}\".format(tnr(tn, fp, fn, tp) + fpr(tn, fp, fn, tp))"
      ],
      "metadata": {
        "colab": {
          "base_uri": "https://localhost:8080/",
          "height": 36
        },
        "id": "o-D_IDIhRTu3",
        "outputId": "8eea541d-cb8f-4cc3-ebce-1f122f38a328"
      },
      "execution_count": null,
      "outputs": [
        {
          "output_type": "execute_result",
          "data": {
            "text/plain": [
              "'True Negative Rate + False Positive Rate: 1.0'"
            ],
            "application/vnd.google.colaboratory.intrinsic+json": {
              "type": "string"
            }
          },
          "metadata": {},
          "execution_count": 21
        }
      ]
    },
    {
      "cell_type": "code",
      "source": [
        "def ppv(tn, fp, fn, tp):\n",
        "  return tp / (tp + fp)\n",
        "\n",
        "\"Positive Predictive Value: {0}\".format(ppv(tn, fp, fn, tp))"
      ],
      "metadata": {
        "colab": {
          "base_uri": "https://localhost:8080/",
          "height": 36
        },
        "id": "DX_hPRFPRY3v",
        "outputId": "55a23df9-e1fd-4164-a5fb-53732f56268e"
      },
      "execution_count": null,
      "outputs": [
        {
          "output_type": "execute_result",
          "data": {
            "text/plain": [
              "'Positive Predictive Value: 0.7142857142857143'"
            ],
            "application/vnd.google.colaboratory.intrinsic+json": {
              "type": "string"
            }
          },
          "metadata": {},
          "execution_count": 22
        }
      ]
    },
    {
      "cell_type": "code",
      "source": [
        "def npv(tn, fp, fn, tp):\n",
        "  return tn / (tn + fn)\n",
        "\n",
        "\"Negative Predictive Value: {0}\".format(npv(tn, fp, fn, tp))"
      ],
      "metadata": {
        "colab": {
          "base_uri": "https://localhost:8080/",
          "height": 36
        },
        "id": "Ng95cbhERcVy",
        "outputId": "d868f127-42f8-4857-baa6-7c616509bf7c"
      },
      "execution_count": null,
      "outputs": [
        {
          "output_type": "execute_result",
          "data": {
            "text/plain": [
              "'Negative Predictive Value: 0.9992969196291251'"
            ],
            "application/vnd.google.colaboratory.intrinsic+json": {
              "type": "string"
            }
          },
          "metadata": {},
          "execution_count": 23
        }
      ]
    },
    {
      "cell_type": "code",
      "source": [
        "def balanced_accuracy(tn, fp, fn, tp):\n",
        "  tprr = tpr(tn, fp, fn, tp)\n",
        "  tnrr = tnr(tn, fp, fn, tp)\n",
        "  return (tprr + tnrr) / 2\n",
        "\n",
        "\"Balanced Accuracy: {0}\".format(balanced_accuracy(tn, fp, fn, tp))"
      ],
      "metadata": {
        "colab": {
          "base_uri": "https://localhost:8080/",
          "height": 36
        },
        "id": "d9MeRIw5Ri-I",
        "outputId": "ea95602e-f9f8-4c06-beae-5d3b6906c200"
      },
      "execution_count": null,
      "outputs": [
        {
          "output_type": "execute_result",
          "data": {
            "text/plain": [
              "'Balanced Accuracy: 0.7776019458730787'"
            ],
            "application/vnd.google.colaboratory.intrinsic+json": {
              "type": "string"
            }
          },
          "metadata": {},
          "execution_count": 24
        }
      ]
    },
    {
      "cell_type": "code",
      "source": [
        "def f1(tn, fp, fn, tp):\n",
        "  p = ppv(tn, fp, fn, tp)\n",
        "  r = tpr(tn, fp, fn, tp)\n",
        "\n",
        "  return (2*p*r) / (p + r)\n",
        "\n",
        "\"F1 Score: {0}\".format(f1(tn, fp, fn, tp))"
      ],
      "metadata": {
        "colab": {
          "base_uri": "https://localhost:8080/",
          "height": 36
        },
        "id": "cQ0ZXLSBRlpY",
        "outputId": "8eeeeb56-0d59-406b-ced9-bf0f57666042"
      },
      "execution_count": null,
      "outputs": [
        {
          "output_type": "execute_result",
          "data": {
            "text/plain": [
              "'F1 Score: 0.6250000000000001'"
            ],
            "application/vnd.google.colaboratory.intrinsic+json": {
              "type": "string"
            }
          },
          "metadata": {},
          "execution_count": 25
        }
      ]
    },
    {
      "cell_type": "code",
      "source": [
        "probabilities = model.predict_proba(x_test)[:, 1]\n",
        "\n",
        "probabilities"
      ],
      "metadata": {
        "colab": {
          "base_uri": "https://localhost:8080/"
        },
        "id": "zBjYnXqdRo0O",
        "outputId": "fc87da2c-bc57-4c47-a538-fd4ed6dd84d1"
      },
      "execution_count": null,
      "outputs": [
        {
          "output_type": "execute_result",
          "data": {
            "text/plain": [
              "array([0.00012139, 0.0003532 , 0.00030147, ..., 0.00473659, 0.00017273,\n",
              "       0.00171865])"
            ]
          },
          "metadata": {},
          "execution_count": 26
        }
      ]
    },
    {
      "cell_type": "code",
      "source": [
        "pd.value_counts(probabilities > 0.5)"
      ],
      "metadata": {
        "colab": {
          "base_uri": "https://localhost:8080/"
        },
        "id": "4BrOqfptRrl7",
        "outputId": "775da1b7-a1b7-4870-f7db-1ab3f3fd1741"
      },
      "execution_count": null,
      "outputs": [
        {
          "output_type": "execute_result",
          "data": {
            "text/plain": [
              "False    22757\n",
              "True        28\n",
              "dtype: int64"
            ]
          },
          "metadata": {},
          "execution_count": 27
        }
      ]
    },
    {
      "cell_type": "code",
      "source": [
        "import numpy as np\n",
        "\n",
        "thresholds = np.linspace(0, 1, num=2000).astype(np.float64)\n",
        "\n",
        "thresholds"
      ],
      "metadata": {
        "colab": {
          "base_uri": "https://localhost:8080/"
        },
        "id": "7C1JR9neRr47",
        "outputId": "541e12f6-1c7e-455f-8637-b47768a56e95"
      },
      "execution_count": null,
      "outputs": [
        {
          "output_type": "execute_result",
          "data": {
            "text/plain": [
              "array([0.00000000e+00, 5.00250125e-04, 1.00050025e-03, ...,\n",
              "       9.98999500e-01, 9.99499750e-01, 1.00000000e+00])"
            ]
          },
          "metadata": {},
          "execution_count": 28
        }
      ]
    },
    {
      "cell_type": "code",
      "source": [
        "all_predictions = np.array([(probabilities > t).astype(int) for t in thresholds])\n",
        "\n",
        "all_predictions.shape"
      ],
      "metadata": {
        "colab": {
          "base_uri": "https://localhost:8080/"
        },
        "id": "em4DnTkfRr9m",
        "outputId": "2e67ae66-368d-420f-cc17-e68c968b0e04"
      },
      "execution_count": null,
      "outputs": [
        {
          "output_type": "execute_result",
          "data": {
            "text/plain": [
              "(2000, 22785)"
            ]
          },
          "metadata": {},
          "execution_count": 29
        }
      ]
    },
    {
      "cell_type": "code",
      "source": [
        "pd.value_counts(all_predictions[0])"
      ],
      "metadata": {
        "colab": {
          "base_uri": "https://localhost:8080/"
        },
        "id": "ztf60qZXRzxB",
        "outputId": "a6be1821-0d71-4c42-886d-7b05a85ec74d"
      },
      "execution_count": null,
      "outputs": [
        {
          "output_type": "execute_result",
          "data": {
            "text/plain": [
              "1    22785\n",
              "dtype: int64"
            ]
          },
          "metadata": {},
          "execution_count": 30
        }
      ]
    },
    {
      "cell_type": "code",
      "source": [
        "\n",
        "confusion_matrices = [confusion_matrix(y_test, predictions) for predictions in all_predictions]\n",
        "tn_fp_fn_tps = [cm.ravel() for cm in confusion_matrices]\n",
        "\n",
        "tprs = [tpr(tn, fp, fn, tp) for tn, fp, fn, tp in tn_fp_fn_tps]\n",
        "fprs = [fpr(tn, fp, fn, tp) for tn, fp, fn, tp in tn_fp_fn_tps]"
      ],
      "metadata": {
        "id": "33QSVdooR0NQ"
      },
      "execution_count": null,
      "outputs": []
    },
    {
      "cell_type": "code",
      "source": [
        "import plotly.express as px\n",
        "px.scatter(x=fprs, y=tprs, color=thresholds, labels=dict(x='False Positive Rate', y='True Positive Rate', color='Threshold'), title='ROC Curve')"
      ],
      "metadata": {
        "colab": {
          "base_uri": "https://localhost:8080/",
          "height": 542
        },
        "id": "AqzW659yR4Fm",
        "outputId": "bc174326-0970-4d98-d413-c3023f573634"
      },
      "execution_count": null,
      "outputs": [
        {
          "output_type": "display_data",
          "data": {
            "text/html": [
              "<html>\n",
              "<head><meta charset=\"utf-8\" /></head>\n",
              "<body>\n",
              "    <div>            <script src=\"https://cdnjs.cloudflare.com/ajax/libs/mathjax/2.7.5/MathJax.js?config=TeX-AMS-MML_SVG\"></script><script type=\"text/javascript\">if (window.MathJax && window.MathJax.Hub && window.MathJax.Hub.Config) {window.MathJax.Hub.Config({SVG: {font: \"STIX-Web\"}});}</script>                <script type=\"text/javascript\">window.PlotlyConfig = {MathJaxConfig: 'local'};</script>\n",
              "        <script charset=\"utf-8\" src=\"https://cdn.plot.ly/plotly-2.24.1.min.js\"></script>                <div id=\"19362281-b3ff-4fce-9a16-45a6d9dc4a9b\" class=\"plotly-graph-div\" style=\"height:525px; width:100%;\"></div>            <script type=\"text/javascript\">                                    window.PLOTLYENV=window.PLOTLYENV || {};                                    if (document.getElementById(\"19362281-b3ff-4fce-9a16-45a6d9dc4a9b\")) {                    Plotly.newPlot(                        \"19362281-b3ff-4fce-9a16-45a6d9dc4a9b\",                        [{\"hovertemplate\":\"False Positive Rate=%{x}\\u003cbr\\u003eTrue Positive Rate=%{y}\\u003cbr\\u003eThreshold=%{marker.color}\\u003cextra\\u003e\\u003c\\u002fextra\\u003e\",\"legendgroup\":\"\",\"marker\":{\"color\":[0.0,0.0005002501250625312,0.0010005002501250625,0.0015007503751875936,0.002001000500250125,0.0025012506253126563,0.003001500750375187,0.0035017508754377185,0.00400200100050025,0.004502251125562781,0.0050025012506253125,0.005502751375687844,0.006003001500750374,0.006503251625812906,0.007003501750875437,0.007503751875937968,0.0080040020010005,0.00850425212606303,0.009004502251125562,0.009504752376188093,0.010005002501250625,0.010505252626313155,0.011005502751375688,0.011505752876438218,0.012006003001500749,0.01250625312656328,0.013006503251625811,0.013506753376688344,0.014007003501750874,0.014507253626813406,0.015007503751875937,0.015507753876938469,0.016008004002001,0.01650825412706353,0.01700850425212606,0.017508754377188594,0.018009004502251125,0.018509254627313655,0.019009504752376186,0.01950975487743872,0.02001000500250125,0.02051025512756378,0.02101050525262631,0.02151075537768884,0.022011005502751375,0.022511255627813906,0.023011505752876436,0.023511755877938967,0.024012006003001497,0.02451225612806403,0.02501250625312656,0.025512756378189092,0.026013006503251623,0.026513256628314157,0.027013506753376687,0.027513756878439218,0.028014007003501748,0.02851425712856428,0.029014507253626812,0.029514757378689343,0.030015007503751873,0.030515257628814404,0.031015507753876938,0.03151575787893947,0.032016008004002,0.03251625812906453,0.03301650825412706,0.03351675837918959,0.03401700850425212,0.03451725862931466,0.03501750875437719,0.03551775887943972,0.03601800900450225,0.03651825912956478,0.03701850925462731,0.03751875937968984,0.03801900950475237,0.0385192596298149,0.03901950975487744,0.03951975987993997,0.0400200100050025,0.04052026013006503,0.04102051025512756,0.04152076038019009,0.04202101050525262,0.04252126063031515,0.04302151075537768,0.04352176088044022,0.04402201100550275,0.04452226113056528,0.04502251125562781,0.04552276138069034,0.04602301150575287,0.0465232616308154,0.047023511755877934,0.047523761880940464,0.048024012006002995,0.04852426213106553,0.04902451225612806,0.04952476238119059,0.05002501250625312,0.050525262631315654,0.051025512756378184,0.051525762881440715,0.052026013006503245,0.052526263131565776,0.05302651325662831,0.053526763381690844,0.054027013506753374,0.054527263631815905,0.055027513756878435,0.055527763881940966,0.056028014007003496,0.056528264132066026,0.05702851425712856,0.057528764382191094,0.058029014507253625,0.058529264632316155,0.059029514757378686,0.059529764882441216,0.06003001500750375,0.06053026513256628,0.06103051525762881,0.06153076538269134,0.062031015507753876,0.0625312656328164,0.06303151575787894,0.06353176588294146,0.064032016008004,0.06453226613306653,0.06503251625812906,0.0655327663831916,0.06603301650825412,0.06653326663331666,0.06703351675837918,0.06753376688344172,0.06803401700850424,0.06853426713356678,0.06903451725862932,0.06953476738369184,0.07003501750875438,0.0705352676338169,0.07103551775887944,0.07153576788394196,0.0720360180090045,0.07253626813406702,0.07303651825912956,0.0735367683841921,0.07403701850925462,0.07453726863431716,0.07503751875937968,0.07553776888444222,0.07603801900950474,0.07653826913456728,0.0770385192596298,0.07753876938469234,0.07803901950975488,0.0785392696348174,0.07903951975987994,0.07953976988494246,0.080040020010005,0.08054027013506752,0.08104052026013006,0.08154077038519258,0.08204102051025512,0.08254127063531766,0.08304152076038018,0.08354177088544272,0.08404202101050524,0.08454227113556778,0.0850425212606303,0.08554277138569284,0.08604302151075537,0.0865432716358179,0.08704352176088044,0.08754377188594296,0.0880440220110055,0.08854427213606803,0.08904452226113056,0.08954477238619309,0.09004502251125562,0.09054527263631815,0.09104552276138068,0.09154577288644322,0.09204602301150575,0.09254627313656828,0.0930465232616308,0.09354677338669334,0.09404702351175587,0.0945472736368184,0.09504752376188093,0.09554777388694347,0.09604802401200599,0.09654827413706853,0.09704852426213106,0.09754877438719359,0.09804902451225612,0.09854927463731865,0.09904952476238119,0.09954977488744371,0.10005002501250625,0.10055027513756877,0.10105052526263131,0.10155077538769385,0.10205102551275637,0.1025512756378189,0.10305152576288143,0.10355177588794397,0.10405202601300649,0.10455227613806903,0.10505252626313155,0.10555277638819409,0.10605302651325663,0.10655327663831915,0.10705352676338169,0.10755377688844421,0.10805402701350675,0.10855427713856927,0.10905452726363181,0.10955477738869433,0.11005502751375687,0.11055527763881941,0.11105552776388193,0.11155577788894447,0.11205602801400699,0.11255627813906953,0.11305652826413205,0.11355677838919459,0.11405702851425711,0.11455727863931965,0.11505752876438219,0.11555777888944471,0.11605802901450725,0.11655827913956977,0.11705852926463231,0.11755877938969483,0.11805902951475737,0.1185592796398199,0.11905952976488243,0.11955977988994497,0.1200600300150075,0.12056028014007003,0.12106053026513255,0.12156078039019509,0.12206103051525762,0.12256128064032015,0.12306153076538268,0.12356178089044521,0.12406203101550775,0.12456228114057027,0.1250625312656328,0.12556278139069535,0.12606303151575787,0.1265632816408204,0.12706353176588292,0.12756378189094547,0.128064032016008,0.12856428214107052,0.12906453226613307,0.1295647823911956,0.13006503251625812,0.13056528264132064,0.1310655327663832,0.13156578289144572,0.13206603301650824,0.13256628314157076,0.1330665332666333,0.13356678339169584,0.13406703351675836,0.1345672836418209,0.13506753376688344,0.13556778389194596,0.13606803401700848,0.13656828414207103,0.13706853426713356,0.13756878439219608,0.13806903451725863,0.13856928464232116,0.13906953476738368,0.1395697848924462,0.14007003501750875,0.14057028514257128,0.1410705352676338,0.14157078539269632,0.14207103551775888,0.1425712856428214,0.14307153576788392,0.14357178589294647,0.144072036018009,0.14457228614307152,0.14507253626813404,0.1455727863931966,0.14607303651825912,0.14657328664332164,0.1470735367683842,0.14757378689344672,0.14807403701850924,0.14857428714357176,0.14907453726863432,0.14957478739369684,0.15007503751875936,0.1505752876438219,0.15107553776888444,0.15157578789394696,0.15207603801900949,0.15257628814407204,0.15307653826913456,0.15357678839419708,0.1540770385192596,0.15457728864432216,0.15507753876938468,0.1555777888944472,0.15607803901950976,0.15657828914457228,0.1570785392696348,0.15757878939469733,0.15807903951975988,0.1585792896448224,0.15907953976988493,0.15957978989494745,0.16008004002001,0.16058029014507252,0.16108054027013505,0.1615807903951976,0.16208104052026012,0.16258129064532265,0.16308154077038517,0.16358179089544772,0.16408204102051024,0.16458229114557277,0.16508254127063532,0.16558279139569784,0.16608304152076037,0.1665832916458229,0.16708354177088544,0.16758379189594796,0.1680840420210105,0.168584292146073,0.16908454227113556,0.1695847923961981,0.1700850425212606,0.17058529264632316,0.17108554277138568,0.1715857928964482,0.17208604302151073,0.17258629314657328,0.1730865432716358,0.17358679339669833,0.17408704352176088,0.1745872936468234,0.17508754377188593,0.17558779389694845,0.176088044022011,0.17658829414707353,0.17708854427213605,0.17758879439719857,0.17808904452226113,0.17858929464732365,0.17908954477238617,0.17958979489744872,0.18009004502251125,0.18059029514757377,0.1810905452726363,0.18159079539769885,0.18209104552276137,0.1825912956478239,0.18309154577288644,0.18359179589794897,0.1840920460230115,0.18459229614807401,0.18509254627313657,0.1855927963981991,0.1860930465232616,0.18659329664832414,0.1870935467733867,0.1875937968984492,0.18809404702351173,0.18859429714857429,0.1890945472736368,0.18959479739869933,0.19009504752376186,0.1905952976488244,0.19109554777388693,0.19159579789894945,0.19209604802401198,0.19259629814907453,0.19309654827413705,0.19359679839919958,0.19409704852426213,0.19459729864932465,0.19509754877438718,0.1955977988994497,0.19609804902451225,0.19659829914957477,0.1970985492746373,0.19759879939969985,0.19809904952476237,0.1985992996498249,0.19909954977488742,0.19959979989994997,0.2001000500250125,0.20060030015007502,0.20110055027513754,0.2016008004002001,0.20210105052526262,0.20260130065032514,0.2031015507753877,0.2036018009004502,0.20410205102551274,0.20460230115057526,0.2051025512756378,0.20560280140070034,0.20610305152576286,0.2066033016508254,0.20710355177588793,0.20760380190095046,0.20810405202601298,0.20860430215107553,0.20910455227613806,0.20960480240120058,0.2101050525262631,0.21060530265132565,0.21110555277638818,0.2116058029014507,0.21210605302651325,0.21260630315157578,0.2131065532766383,0.21360680340170082,0.21410705352676337,0.2146073036518259,0.21510755377688842,0.21560780390195097,0.2161080540270135,0.21660830415207602,0.21710855427713854,0.2176088044022011,0.21810905452726362,0.21860930465232614,0.21910955477738867,0.21960980490245122,0.22011005502751374,0.22061030515257626,0.22111055527763882,0.22161080540270134,0.22211105552776386,0.22261130565282639,0.22311155577788894,0.22361180590295146,0.22411205602801398,0.22461230615307654,0.22511255627813906,0.22561280640320158,0.2261130565282641,0.22661330665332666,0.22711355677838918,0.2276138069034517,0.22811405702851423,0.22861430715357678,0.2291145572786393,0.22961480740370183,0.23011505752876438,0.2306153076538269,0.23111555777888942,0.23161580790395195,0.2321160580290145,0.23261630815407702,0.23311655827913955,0.2336168084042021,0.23411705852926462,0.23461730865432714,0.23511755877938967,0.23561780890445222,0.23611805902951474,0.23661830915457727,0.2371185592796398,0.23761880940470234,0.23811905952976486,0.2386193096548274,0.23911955977988994,0.23961980990495246,0.240120060030015,0.2406203101550775,0.24112056028014006,0.24162081040520259,0.2421210605302651,0.24262131065532766,0.24312156078039018,0.2436218109054527,0.24412206103051523,0.24462231115557778,0.2451225612806403,0.24562281140570283,0.24612306153076535,0.2466233116558279,0.24712356178089043,0.24762381190595295,0.2481240620310155,0.24862431215607803,0.24912456228114055,0.24962481240620307,0.2501250625312656,0.25062531265632815,0.2511255627813907,0.2516258129064532,0.25212606303151575,0.2526263131565783,0.2531265632816408,0.25362681340670334,0.25412706353176584,0.2546273136568284,0.25512756378189094,0.25562781390695344,0.256128064032016,0.25662831415707854,0.25712856428214104,0.2576288144072036,0.25812906453226614,0.25862931465732864,0.2591295647823912,0.2596298149074537,0.26013006503251623,0.2606303151575788,0.2611305652826413,0.26163081540770383,0.2621310655327664,0.2626313156578289,0.26313156578289143,0.263631815907954,0.2641320660330165,0.26463231615807903,0.2651325662831415,0.2656328164082041,0.2661330665332666,0.2666333166583291,0.2671335667833917,0.2676338169084542,0.2681340670335167,0.26863431715857927,0.2691345672836418,0.2696348174087043,0.27013506753376687,0.2706353176588294,0.2711355677838919,0.27163581790895447,0.27213606803401696,0.2726363181590795,0.27313656828414207,0.27363681840920456,0.2741370685342671,0.27463731865932967,0.27513756878439216,0.2756378189094547,0.27613806903451726,0.27663831915957976,0.2771385692846423,0.2776388194097048,0.27813906953476736,0.2786393196598299,0.2791395697848924,0.27963981990995496,0.2801400700350175,0.28064032016008,0.28114057028514255,0.2816408204102051,0.2821410705352676,0.28264132066033015,0.28314157078539265,0.2836418209104552,0.28414207103551775,0.28464232116058025,0.2851425712856428,0.28564282141070535,0.28614307153576785,0.2866433216608304,0.28714357178589295,0.28764382191095544,0.288144072036018,0.28864432216108055,0.28914457228614304,0.2896448224112056,0.2901450725362681,0.29064532266133064,0.2911455727863932,0.2916458229114557,0.29214607303651824,0.2926463231615808,0.2931465732866433,0.29364682341170584,0.2941470735367684,0.2946473236618309,0.29514757378689344,0.29564782391195593,0.2961480740370185,0.29664832416208103,0.29714857428714353,0.2976488244122061,0.29814907453726863,0.29864932466233113,0.2991495747873937,0.29964982491245623,0.3001500750375187,0.3006503251625813,0.3011505752876438,0.3016508254127063,0.3021510755377689,0.30265132566283137,0.3031515757878939,0.3036518259129565,0.30415207603801897,0.3046523261630815,0.3051525762881441,0.30565282641320657,0.3061530765382691,0.30665332666333167,0.30715357678839417,0.3076538269134567,0.3081540770385192,0.30865432716358177,0.3091545772886443,0.3096548274137068,0.31015507753876936,0.3106553276638319,0.3111555777888944,0.31165582791395696,0.3121560780390195,0.312656328164082,0.31315657828914456,0.31365682841420706,0.3141570785392696,0.31465732866433216,0.31515757878939465,0.3156578289144572,0.31615807903951976,0.31665832916458225,0.3171585792896448,0.31765882941470736,0.31815907953976985,0.3186593296648324,0.3191595797898949,0.31965982991495745,0.32016008004002,0.3206603301650825,0.32116058029014505,0.3216608304152076,0.3221610805402701,0.32266133066533265,0.3231615807903952,0.3236618309154577,0.32416208104052024,0.32466233116558274,0.3251625812906453,0.32566283141570784,0.32616308154077034,0.3266633316658329,0.32716358179089544,0.32766383191595794,0.3281640820410205,0.32866433216608304,0.32916458229114554,0.3296648324162081,0.33016508254127064,0.33066533266633313,0.3311655827913957,0.3316658329164582,0.33216608304152073,0.3326663331665833,0.3331665832916458,0.33366683341670833,0.3341670835417709,0.3346673336668334,0.33516758379189593,0.3356678339169585,0.336168084042021,0.3366683341670835,0.337168584292146,0.3376688344172086,0.3381690845422711,0.3386693346673336,0.3391695847923962,0.3396698349174587,0.3401700850425212,0.34067033516758377,0.3411705852926463,0.3416708354177088,0.34217108554277137,0.34267133566783387,0.3431715857928964,0.34367183591795897,0.34417208604302146,0.344672336168084,0.34517258629314657,0.34567283641820906,0.3461730865432716,0.34667333666833416,0.34717358679339666,0.3476738369184592,0.34817408704352176,0.34867433716858426,0.3491745872936468,0.3496748374187093,0.35017508754377186,0.3506753376688344,0.3511755877938969,0.35167583791895946,0.352176088044022,0.3526763381690845,0.35317658829414705,0.3536768384192096,0.3541770885442721,0.35467733866933465,0.35517758879439715,0.3556778389194597,0.35617808904452225,0.35667833916958475,0.3571785892946473,0.35767883941970985,0.35817908954477234,0.3586793396698349,0.35917958979489745,0.35967983991995994,0.3601800900450225,0.360680340170085,0.36118059029514754,0.3616808404202101,0.3621810905452726,0.36268134067033514,0.3631815907953977,0.3636818409204602,0.36418209104552274,0.3646823411705853,0.3651825912956478,0.36568284142071034,0.3661830915457729,0.3666833416708354,0.36718359179589793,0.36768384192096043,0.368184092046023,0.36868434217108553,0.36918459229614803,0.3696848424212106,0.37018509254627313,0.3706853426713356,0.3711855927963982,0.37168584292146073,0.3721860930465232,0.3726863431715858,0.3731865932966483,0.3736868434217108,0.3741870935467734,0.37468734367183587,0.3751875937968984,0.375687843921961,0.37618809404702347,0.376688344172086,0.37718859429714857,0.37768884442221107,0.3781890945472736,0.3786893446723361,0.37918959479739867,0.3796898449224612,0.3801900950475237,0.38069034517258626,0.3811905952976488,0.3816908454227113,0.38219109554777386,0.3826913456728364,0.3831915957978989,0.38369184592296146,0.38419209604802396,0.3846923461730865,0.38519259629814906,0.38569284642321155,0.3861930965482741,0.38669334667333666,0.38719359679839915,0.3876938469234617,0.38819409704852426,0.38869434717358675,0.3891945972986493,0.38969484742371185,0.39019509754877435,0.3906953476738369,0.3911955977988994,0.39169584792396195,0.3921960980490245,0.392696348174087,0.39319659829914955,0.3936968484242121,0.3941970985492746,0.39469734867433715,0.3951975987993997,0.3956978489244622,0.39619809904952474,0.39669834917458724,0.3971985992996498,0.39769884942471234,0.39819909954977484,0.3986993496748374,0.39919959979989994,0.39969984992496244,0.400200100050025,0.40070035017508754,0.40120060030015003,0.4017008504252126,0.4022011005502751,0.40270135067533763,0.4032016008004002,0.4037018509254627,0.40420210105052523,0.4047023511755878,0.4052026013006503,0.40570285142571283,0.4062031015507754,0.4067033516758379,0.4072036018009004,0.407703851925963,0.4082041020510255,0.408704352176088,0.4092046023011505,0.4097048524262131,0.4102051025512756,0.4107053526763381,0.41120560280140067,0.4117058529264632,0.4122061030515257,0.41270635317658827,0.4132066033016508,0.4137068534267133,0.41420710355177587,0.41470735367683836,0.4152076038019009,0.41570785392696347,0.41620810405202596,0.4167083541770885,0.41720860430215106,0.41770885442721356,0.4182091045522761,0.41870935467733866,0.41920960480240116,0.4197098549274637,0.4202101050525262,0.42071035517758876,0.4212106053026513,0.4217108554277138,0.42221110555277636,0.4227113556778389,0.4232116058029014,0.42371185592796395,0.4242121060530265,0.424712356178089,0.42521260630315155,0.4257128564282141,0.4262131065532766,0.42671335667833915,0.42721360680340165,0.4277138569284642,0.42821410705352675,0.42871435717858924,0.4292146073036518,0.42971485742871435,0.43021510755377684,0.4307153576788394,0.43121560780390195,0.43171585792896444,0.432216108054027,0.4327163581790895,0.43321660830415204,0.4337168584292146,0.4342171085542771,0.43471735867933964,0.4352176088044022,0.4357178589294647,0.43621810905452724,0.4367183591795898,0.4372186093046523,0.43771885942971483,0.43821910955477733,0.4387193596798399,0.43921960980490243,0.43971985992996493,0.4402201100550275,0.44072036018009003,0.4412206103051525,0.4417208604302151,0.44222111055527763,0.4427213606803401,0.4432216108054027,0.44372186093046523,0.4442221110555277,0.4447223611805903,0.44522261130565277,0.4457228614307153,0.4462231115557779,0.44672336168084037,0.4472236118059029,0.44772386193096547,0.44822411205602797,0.4487243621810905,0.44922461230615307,0.44972486243121557,0.4502251125562781,0.4507253626813406,0.45122561280640316,0.4517258629314657,0.4522261130565282,0.45272636318159076,0.4532266133066533,0.4537268634317158,0.45422711355677836,0.4547273636818409,0.4552276138069034,0.45572786393196596,0.45622811405702846,0.456728364182091,0.45722861430715356,0.45772886443221605,0.4582291145572786,0.45872936468234116,0.45922961480740365,0.4597298649324662,0.46023011505752875,0.46073036518259125,0.4612306153076538,0.4617308654327163,0.46223111555777885,0.4627313656828414,0.4632316158079039,0.46373186593296645,0.464232116058029,0.4647323661830915,0.46523261630815405,0.4657328664332166,0.4662331165582791,0.46673336668334164,0.4672336168084042,0.4677338669334667,0.46823411705852924,0.46873436718359174,0.4692346173086543,0.46973486743371684,0.47023511755877934,0.4707353676838419,0.47123561780890444,0.47173586793396693,0.4722361180590295,0.47273636818409204,0.47323661830915453,0.4737368684342171,0.4742371185592796,0.47473736868434213,0.4752376188094047,0.4757378689344672,0.47623811905952973,0.4767383691845923,0.4772386193096548,0.47773886943471733,0.4782391195597799,0.4787393696848424,0.4792396198099049,0.4797398699349674,0.48024012006003,0.4807403701850925,0.481240620310155,0.48174087043521757,0.4822411205602801,0.4827413706853426,0.48324162081040517,0.4837418709354677,0.4842421210605302,0.48474237118559277,0.4852426213106553,0.4857428714357178,0.48624312156078037,0.48674337168584286,0.4872436218109054,0.48774387193596797,0.48824412206103046,0.488744372186093,0.48924462231115556,0.48974487243621806,0.4902451225612806,0.49074537268634316,0.49124562281140566,0.4917458729364682,0.4922461230615307,0.49274637318659326,0.4932466233116558,0.4937468734367183,0.49424712356178085,0.4947473736868434,0.4952476238119059,0.49574787393696845,0.496248124062031,0.4967483741870935,0.49724862431215605,0.49774887443721855,0.4982491245622811,0.49874937468734365,0.49924962481240615,0.4997498749374687,0.5002501250625312,0.5007503751875938,0.5012506253126563,0.5017508754377188,0.5022511255627814,0.5027513756878439,0.5032516258129064,0.503751875937969,0.5042521260630315,0.504752376188094,0.5052526263131566,0.5057528764382191,0.5062531265632816,0.5067533766883441,0.5072536268134067,0.5077538769384692,0.5082541270635317,0.5087543771885943,0.5092546273136568,0.5097548774387193,0.5102551275637819,0.5107553776888444,0.5112556278139069,0.5117558779389695,0.512256128064032,0.5127563781890945,0.5132566283141571,0.5137568784392196,0.5142571285642821,0.5147573786893447,0.5152576288144072,0.5157578789394697,0.5162581290645323,0.5167583791895948,0.5172586293146573,0.5177588794397199,0.5182591295647824,0.5187593796898449,0.5192596298149074,0.51975987993997,0.5202601300650325,0.520760380190095,0.5212606303151576,0.5217608804402201,0.5222611305652826,0.5227613806903452,0.5232616308154077,0.5237618809404702,0.5242621310655328,0.5247623811905953,0.5252626313156578,0.5257628814407204,0.5262631315657829,0.5267633816908454,0.527263631815908,0.5277638819409705,0.528264132066033,0.5287643821910956,0.5292646323161581,0.5297648824412206,0.530265132566283,0.5307653826913457,0.5312656328164082,0.5317658829414706,0.5322661330665333,0.5327663831915957,0.5332666333166582,0.5337668834417209,0.5342671335667833,0.5347673836918458,0.5352676338169085,0.535767883941971,0.5362681340670334,0.536768384192096,0.5372686343171585,0.537768884442221,0.5382691345672836,0.5387693846923461,0.5392696348174086,0.5397698849424712,0.5402701350675337,0.5407703851925962,0.5412706353176588,0.5417708854427213,0.5422711355677838,0.5427713856928463,0.5432716358179089,0.5437718859429714,0.5442721360680339,0.5447723861930965,0.545272636318159,0.5457728864432215,0.5462731365682841,0.5467733866933466,0.5472736368184091,0.5477738869434717,0.5482741370685342,0.5487743871935967,0.5492746373186593,0.5497748874437218,0.5502751375687843,0.5507753876938469,0.5512756378189094,0.5517758879439719,0.5522761380690345,0.552776388194097,0.5532766383191595,0.5537768884442221,0.5542771385692846,0.5547773886943471,0.5552776388194096,0.5557778889444722,0.5562781390695347,0.5567783891945972,0.5572786393196598,0.5577788894447223,0.5582791395697848,0.5587793896948474,0.5592796398199099,0.5597798899449724,0.560280140070035,0.5607803901950975,0.56128064032016,0.5617808904452226,0.5622811405702851,0.5627813906953476,0.5632816408204102,0.5637818909454727,0.5642821410705352,0.5647823911955978,0.5652826413206603,0.5657828914457228,0.5662831415707853,0.5667833916958479,0.5672836418209104,0.5677838919459729,0.5682841420710355,0.568784392196098,0.5692846423211605,0.5697848924462231,0.5702851425712856,0.5707853926963481,0.5712856428214107,0.5717858929464732,0.5722861430715357,0.5727863931965983,0.5732866433216608,0.5737868934467233,0.5742871435717859,0.5747873936968484,0.5752876438219109,0.5757878939469735,0.576288144072036,0.5767883941970985,0.5772886443221611,0.5777888944472236,0.5782891445722861,0.5787893946973486,0.5792896448224112,0.5797898949474737,0.5802901450725362,0.5807903951975988,0.5812906453226613,0.5817908954477238,0.5822911455727864,0.5827913956978489,0.5832916458229114,0.583791895947974,0.5842921460730365,0.584792396198099,0.5852926463231616,0.5857928964482241,0.5862931465732866,0.5867933966983492,0.5872936468234117,0.5877938969484742,0.5882941470735368,0.5887943971985993,0.5892946473236618,0.5897948974487243,0.5902951475737869,0.5907953976988494,0.5912956478239119,0.5917958979489745,0.592296148074037,0.5927963981990995,0.5932966483241621,0.5937968984492246,0.5942971485742871,0.5947973986993497,0.5952976488244122,0.5957978989494747,0.5962981490745373,0.5967983991995998,0.5972986493246623,0.5977988994497249,0.5982991495747874,0.5987993996998499,0.5992996498249125,0.599799899949975,0.6003001500750375,0.6008004002001001,0.6013006503251626,0.601800900450225,0.6023011505752875,0.6028014007003502,0.6033016508254126,0.6038019009504751,0.6043021510755378,0.6048024012006002,0.6053026513256627,0.6058029014507254,0.6063031515757878,0.6068034017008503,0.607303651825913,0.6078039019509754,0.6083041520760379,0.6088044022011005,0.609304652326163,0.6098049024512255,0.6103051525762881,0.6108054027013506,0.6113056528264131,0.6118059029514757,0.6123061530765382,0.6128064032016007,0.6133066533266633,0.6138069034517258,0.6143071535767883,0.6148074037018508,0.6153076538269134,0.6158079039519759,0.6163081540770384,0.616808404202101,0.6173086543271635,0.617808904452226,0.6183091545772886,0.6188094047023511,0.6193096548274136,0.6198099049524762,0.6203101550775387,0.6208104052026012,0.6213106553276638,0.6218109054527263,0.6223111555777888,0.6228114057028514,0.6233116558279139,0.6238119059529764,0.624312156078039,0.6248124062031015,0.625312656328164,0.6258129064532265,0.6263131565782891,0.6268134067033516,0.6273136568284141,0.6278139069534767,0.6283141570785392,0.6288144072036017,0.6293146573286643,0.6298149074537268,0.6303151575787893,0.6308154077038519,0.6313156578289144,0.6318159079539769,0.6323161580790395,0.632816408204102,0.6333166583291645,0.6338169084542271,0.6343171585792896,0.6348174087043521,0.6353176588294147,0.6358179089544772,0.6363181590795397,0.6368184092046023,0.6373186593296648,0.6378189094547273,0.6383191595797898,0.6388194097048524,0.6393196598299149,0.6398199099549774,0.64032016008004,0.6408204102051025,0.641320660330165,0.6418209104552276,0.6423211605802901,0.6428214107053526,0.6433216608304152,0.6438219109554777,0.6443221610805402,0.6448224112056028,0.6453226613306653,0.6458229114557278,0.6463231615807904,0.6468234117058529,0.6473236618309154,0.647823911955978,0.6483241620810405,0.648824412206103,0.6493246623311655,0.6498249124562281,0.6503251625812906,0.6508254127063531,0.6513256628314157,0.6518259129564782,0.6523261630815407,0.6528264132066033,0.6533266633316658,0.6538269134567283,0.6543271635817909,0.6548274137068534,0.6553276638319159,0.6558279139569785,0.656328164082041,0.6568284142071035,0.6573286643321661,0.6578289144572286,0.6583291645822911,0.6588294147073537,0.6593296648324162,0.6598299149574787,0.6603301650825413,0.6608304152076038,0.6613306653326663,0.6618309154577288,0.6623311655827914,0.6628314157078539,0.6633316658329164,0.663831915957979,0.6643321660830415,0.664832416208104,0.6653326663331666,0.6658329164582291,0.6663331665832916,0.6668334167083542,0.6673336668334167,0.6678339169584792,0.6683341670835418,0.6688344172086043,0.6693346673336668,0.6698349174587294,0.6703351675837919,0.6708354177088544,0.671335667833917,0.6718359179589795,0.672336168084042,0.6728364182091046,0.673336668334167,0.6738369184592296,0.674337168584292,0.6748374187093547,0.6753376688344171,0.6758379189594796,0.6763381690845423,0.6768384192096047,0.6773386693346672,0.6778389194597298,0.6783391695847923,0.6788394197098548,0.6793396698349174,0.6798399199599799,0.6803401700850424,0.680840420210105,0.6813406703351675,0.68184092046023,0.6823411705852926,0.6828414207103551,0.6833416708354176,0.6838419209604802,0.6843421710855427,0.6848424212106052,0.6853426713356677,0.6858429214607303,0.6863431715857928,0.6868434217108553,0.6873436718359179,0.6878439219609804,0.6883441720860429,0.6888444222111055,0.689344672336168,0.6898449224612305,0.6903451725862931,0.6908454227113556,0.6913456728364181,0.6918459229614807,0.6923461730865432,0.6928464232116057,0.6933466733366683,0.6938469234617308,0.6943471735867933,0.6948474237118559,0.6953476738369184,0.6958479239619809,0.6963481740870435,0.696848424212106,0.6973486743371685,0.697848924462231,0.6983491745872936,0.6988494247123561,0.6993496748374186,0.6998499249624812,0.7003501750875437,0.7008504252126062,0.7013506753376688,0.7018509254627313,0.7023511755877938,0.7028514257128564,0.7033516758379189,0.7038519259629814,0.704352176088044,0.7048524262131065,0.705352676338169,0.7058529264632316,0.7063531765882941,0.7068534267133566,0.7073536768384192,0.7078539269634817,0.7083541770885442,0.7088544272136067,0.7093546773386693,0.7098549274637318,0.7103551775887943,0.7108554277138569,0.7113556778389194,0.7118559279639819,0.7123561780890445,0.712856428214107,0.7133566783391695,0.7138569284642321,0.7143571785892946,0.7148574287143571,0.7153576788394197,0.7158579289644822,0.7163581790895447,0.7168584292146073,0.7173586793396698,0.7178589294647323,0.7183591795897949,0.7188594297148574,0.7193596798399199,0.7198599299649825,0.720360180090045,0.7208604302151075,0.72136068034017,0.7218609304652326,0.7223611805902951,0.7228614307153576,0.7233616808404202,0.7238619309654827,0.7243621810905452,0.7248624312156078,0.7253626813406703,0.7258629314657328,0.7263631815907954,0.7268634317158579,0.7273636818409204,0.727863931965983,0.7283641820910455,0.728864432216108,0.7293646823411706,0.7298649324662331,0.7303651825912956,0.7308654327163582,0.7313656828414207,0.7318659329664832,0.7323661830915458,0.7328664332166083,0.7333666833416708,0.7338669334667333,0.7343671835917959,0.7348674337168584,0.7353676838419209,0.7358679339669835,0.736368184092046,0.7368684342171085,0.7373686843421711,0.7378689344672336,0.7383691845922961,0.7388694347173587,0.7393696848424212,0.7398699349674837,0.7403701850925463,0.7408704352176088,0.7413706853426713,0.7418709354677339,0.7423711855927964,0.7428714357178589,0.7433716858429215,0.743871935967984,0.7443721860930465,0.744872436218109,0.7453726863431716,0.745872936468234,0.7463731865932965,0.7468734367183592,0.7473736868434216,0.7478739369684841,0.7483741870935467,0.7488744372186092,0.7493746873436717,0.7498749374687343,0.7503751875937968,0.7508754377188593,0.751375687843922,0.7518759379689844,0.7523761880940469,0.7528764382191095,0.753376688344172,0.7538769384692345,0.7543771885942971,0.7548774387193596,0.7553776888444221,0.7558779389694847,0.7563781890945472,0.7568784392196097,0.7573786893446722,0.7578789394697348,0.7583791895947973,0.7588794397198598,0.7593796898449224,0.7598799399699849,0.7603801900950474,0.76088044022011,0.7613806903451725,0.761880940470235,0.7623811905952976,0.7628814407203601,0.7633816908454226,0.7638819409704852,0.7643821910955477,0.7648824412206102,0.7653826913456728,0.7658829414707353,0.7663831915957978,0.7668834417208604,0.7673836918459229,0.7678839419709854,0.7683841920960479,0.7688844422211105,0.769384692346173,0.7698849424712355,0.7703851925962981,0.7708854427213606,0.7713856928464231,0.7718859429714857,0.7723861930965482,0.7728864432216107,0.7733866933466733,0.7738869434717358,0.7743871935967983,0.7748874437218609,0.7753876938469234,0.7758879439719859,0.7763881940970485,0.776888444222111,0.7773886943471735,0.7778889444722361,0.7783891945972986,0.7788894447223611,0.7793896948474237,0.7798899449724862,0.7803901950975487,0.7808904452226112,0.7813906953476738,0.7818909454727363,0.7823911955977988,0.7828914457228614,0.7833916958479239,0.7838919459729864,0.784392196098049,0.7848924462231115,0.785392696348174,0.7858929464732366,0.7863931965982991,0.7868934467233616,0.7873936968484242,0.7878939469734867,0.7883941970985492,0.7888944472236118,0.7893946973486743,0.7898949474737368,0.7903951975987994,0.7908954477238619,0.7913956978489244,0.791895947973987,0.7923961980990495,0.792896448224112,0.7933966983491745,0.7938969484742371,0.7943971985992996,0.7948974487243621,0.7953976988494247,0.7958979489744872,0.7963981990995497,0.7968984492246123,0.7973986993496748,0.7978989494747373,0.7983991995997999,0.7988994497248624,0.7993996998499249,0.7998999499749875,0.80040020010005,0.8009004502251125,0.8014007003501751,0.8019009504752376,0.8024012006003001,0.8029014507253627,0.8034017008504252,0.8039019509754877,0.8044022011005502,0.8049024512256128,0.8054027013506753,0.8059029514757378,0.8064032016008004,0.8069034517258629,0.8074037018509254,0.807903951975988,0.8084042021010505,0.808904452226113,0.8094047023511756,0.8099049524762381,0.8104052026013006,0.8109054527263632,0.8114057028514257,0.8119059529764882,0.8124062031015508,0.8129064532266133,0.8134067033516758,0.8139069534767384,0.8144072036018009,0.8149074537268634,0.815407703851926,0.8159079539769885,0.816408204102051,0.8169084542271134,0.817408704352176,0.8179089544772385,0.818409204602301,0.8189094547273637,0.8194097048524261,0.8199099549774886,0.8204102051025512,0.8209104552276137,0.8214107053526762,0.8219109554777388,0.8224112056028013,0.8229114557278638,0.8234117058529264,0.8239119559779889,0.8244122061030514,0.824912456228114,0.8254127063531765,0.825912956478239,0.8264132066033016,0.8269134567283641,0.8274137068534266,0.8279139569784892,0.8284142071035517,0.8289144572286142,0.8294147073536767,0.8299149574787393,0.8304152076038018,0.8309154577288643,0.8314157078539269,0.8319159579789894,0.8324162081040519,0.8329164582291145,0.833416708354177,0.8339169584792395,0.8344172086043021,0.8349174587293646,0.8354177088544271,0.8359179589794897,0.8364182091045522,0.8369184592296147,0.8374187093546773,0.8379189594797398,0.8384192096048023,0.8389194597298649,0.8394197098549274,0.8399199599799899,0.8404202101050524,0.840920460230115,0.8414207103551775,0.84192096048024,0.8424212106053026,0.8429214607303651,0.8434217108554276,0.8439219609804902,0.8444222111055527,0.8449224612306152,0.8454227113556778,0.8459229614807403,0.8464232116058028,0.8469234617308654,0.8474237118559279,0.8479239619809904,0.848424212106053,0.8489244622311155,0.849424712356178,0.8499249624812406,0.8504252126063031,0.8509254627313656,0.8514257128564282,0.8519259629814907,0.8524262131065532,0.8529264632316157,0.8534267133566783,0.8539269634817408,0.8544272136068033,0.8549274637318659,0.8554277138569284,0.8559279639819909,0.8564282141070535,0.856928464232116,0.8574287143571785,0.8579289644822411,0.8584292146073036,0.8589294647323661,0.8594297148574287,0.8599299649824912,0.8604302151075537,0.8609304652326163,0.8614307153576788,0.8619309654827413,0.8624312156078039,0.8629314657328664,0.8634317158579289,0.8639319659829914,0.864432216108054,0.8649324662331165,0.865432716358179,0.8659329664832416,0.8664332166083041,0.8669334667333666,0.8674337168584292,0.8679339669834917,0.8684342171085542,0.8689344672336168,0.8694347173586793,0.8699349674837418,0.8704352176088044,0.8709354677338669,0.8714357178589294,0.871935967983992,0.8724362181090545,0.872936468234117,0.8734367183591796,0.8739369684842421,0.8744372186093046,0.8749374687343672,0.8754377188594297,0.8759379689844922,0.8764382191095547,0.8769384692346173,0.8774387193596798,0.8779389694847423,0.8784392196098049,0.8789394697348674,0.8794397198599299,0.8799399699849925,0.880440220110055,0.8809404702351175,0.8814407203601801,0.8819409704852426,0.882441220610305,0.8829414707353677,0.8834417208604302,0.8839419709854927,0.8844422211105553,0.8849424712356178,0.8854427213606803,0.8859429714857429,0.8864432216108054,0.8869434717358678,0.8874437218609305,0.887943971985993,0.8884442221110554,0.8889444722361179,0.8894447223611806,0.889944972486243,0.8904452226113055,0.8909454727363681,0.8914457228614306,0.8919459729864931,0.8924462231115557,0.8929464732366182,0.8934467233616807,0.8939469734867433,0.8944472236118058,0.8949474737368683,0.8954477238619309,0.8959479739869934,0.8964482241120559,0.8969484742371185,0.897448724362181,0.8979489744872435,0.8984492246123061,0.8989494747373686,0.8994497248624311,0.8999499749874936,0.9004502251125562,0.9009504752376187,0.9014507253626812,0.9019509754877438,0.9024512256128063,0.9029514757378688,0.9034517258629314,0.9039519759879939,0.9044522261130564,0.904952476238119,0.9054527263631815,0.905952976488244,0.9064532266133066,0.9069534767383691,0.9074537268634316,0.9079539769884942,0.9084542271135567,0.9089544772386192,0.9094547273636818,0.9099549774887443,0.9104552276138068,0.9109554777388694,0.9114557278639319,0.9119559779889944,0.9124562281140569,0.9129564782391195,0.913456728364182,0.9139569784892445,0.9144572286143071,0.9149574787393696,0.9154577288644321,0.9159579789894947,0.9164582291145572,0.9169584792396197,0.9174587293646823,0.9179589794897448,0.9184592296148073,0.9189594797398699,0.9194597298649324,0.9199599799899949,0.9204602301150575,0.92096048024012,0.9214607303651825,0.9219609804902451,0.9224612306153076,0.9229614807403701,0.9234617308654326,0.9239619809904952,0.9244622311155577,0.9249624812406202,0.9254627313656828,0.9259629814907453,0.9264632316158078,0.9269634817408704,0.9274637318659329,0.9279639819909954,0.928464232116058,0.9289644822411205,0.929464732366183,0.9299649824912456,0.9304652326163081,0.9309654827413706,0.9314657328664332,0.9319659829914957,0.9324662331165582,0.9329664832416208,0.9334667333666833,0.9339669834917458,0.9344672336168084,0.9349674837418709,0.9354677338669334,0.9359679839919959,0.9364682341170585,0.936968484242121,0.9374687343671835,0.9379689844922461,0.9384692346173086,0.9389694847423711,0.9394697348674337,0.9399699849924962,0.9404702351175587,0.9409704852426213,0.9414707353676838,0.9419709854927463,0.9424712356178089,0.9429714857428714,0.9434717358679339,0.9439719859929965,0.944472236118059,0.9449724862431215,0.9454727363681841,0.9459729864932466,0.9464732366183091,0.9469734867433717,0.9474737368684342,0.9479739869934967,0.9484742371185592,0.9489744872436218,0.9494747373686843,0.9499749874937468,0.9504752376188094,0.9509754877438719,0.9514757378689344,0.951975987993997,0.9524762381190595,0.952976488244122,0.9534767383691846,0.9539769884942471,0.9544772386193096,0.9549774887443722,0.9554777388694347,0.9559779889944972,0.9564782391195598,0.9569784892446223,0.9574787393696848,0.9579789894947474,0.9584792396198099,0.9589794897448723,0.9594797398699348,0.9599799899949975,0.96048024012006,0.9609804902451224,0.961480740370185,0.9619809904952475,0.96248124062031,0.9629814907453726,0.9634817408704351,0.9639819909954976,0.9644822411205602,0.9649824912456227,0.9654827413706852,0.9659829914957478,0.9664832416208103,0.9669834917458728,0.9674837418709354,0.9679839919959979,0.9684842421210604,0.968984492246123,0.9694847423711855,0.969984992496248,0.9704852426213106,0.9709854927463731,0.9714857428714356,0.9719859929964981,0.9724862431215607,0.9729864932466232,0.9734867433716857,0.9739869934967483,0.9744872436218108,0.9749874937468733,0.9754877438719359,0.9759879939969984,0.9764882441220609,0.9769884942471235,0.977488744372186,0.9779889944972485,0.9784892446223111,0.9789894947473736,0.9794897448724361,0.9799899949974987,0.9804902451225612,0.9809904952476237,0.9814907453726863,0.9819909954977488,0.9824912456228113,0.9829914957478738,0.9834917458729364,0.9839919959979989,0.9844922461230614,0.984992496248124,0.9854927463731865,0.985992996498249,0.9864932466233116,0.9869934967483741,0.9874937468734366,0.9879939969984992,0.9884942471235617,0.9889944972486242,0.9894947473736868,0.9899949974987493,0.9904952476238118,0.9909954977488744,0.9914957478739369,0.9919959979989994,0.992496248124062,0.9929964982491245,0.993496748374187,0.9939969984992496,0.9944972486243121,0.9949974987493746,0.9954977488744371,0.9959979989994997,0.9964982491245622,0.9969984992496247,0.9974987493746873,0.9979989994997498,0.9984992496248123,0.9989994997498749,0.9994997498749374,1.0],\"coloraxis\":\"coloraxis\",\"symbol\":\"circle\"},\"mode\":\"markers\",\"name\":\"\",\"showlegend\":false,\"x\":[1.0,0.20928392456811287,0.08985010330124402,0.05006813486307091,0.031869532726713265,0.023033979515583104,0.01723152666051255,0.013802804518879951,0.011341157853092443,0.00967075475845092,0.008703679282605828,0.007868477735285068,0.006989318211789529,0.005934326783594884,0.00527495714097323,0.004527671546002022,0.004000175831904699,0.0036485120225064837,0.0032528902369334915,0.0028572684513604994,0.002593520594311838,0.0023737307134379534,0.0022858147610883995,0.002153940832564069,0.0021099828563892918,0.002022066904039738,0.001978108927864961,0.0018901929755154073,0.0018462349993406304,0.0017143610708162996,0.0017143610708162996,0.0017143610708162996,0.0016704030946415227,0.0016704030946415227,0.0016704030946415227,0.0015824871422919688,0.0015824871422919688,0.001494571189942415,0.001450613213767638,0.001450613213767638,0.0013626972614180844,0.0013626972614180844,0.0013626972614180844,0.0013187392852433075,0.0013187392852433075,0.0013187392852433075,0.0013187392852433075,0.0013187392852433075,0.0013187392852433075,0.0013187392852433075,0.0012747813090685305,0.0012747813090685305,0.0012747813090685305,0.0012747813090685305,0.0012308233328937536,0.0012308233328937536,0.0012308233328937536,0.0012308233328937536,0.0012308233328937536,0.0012308233328937536,0.0012308233328937536,0.0011429073805441997,0.0011429073805441997,0.0011429073805441997,0.0010989494043694228,0.0010989494043694228,0.0010989494043694228,0.0010989494043694228,0.0010989494043694228,0.0010989494043694228,0.0010549914281946459,0.0010549914281946459,0.0010549914281946459,0.0010549914281946459,0.001011033452019869,0.001011033452019869,0.001011033452019869,0.001011033452019869,0.001011033452019869,0.001011033452019869,0.001011033452019869,0.001011033452019869,0.001011033452019869,0.001011033452019869,0.001011033452019869,0.001011033452019869,0.001011033452019869,0.001011033452019869,0.001011033452019869,0.001011033452019869,0.001011033452019869,0.001011033452019869,0.001011033452019869,0.001011033452019869,0.001011033452019869,0.001011033452019869,0.001011033452019869,0.001011033452019869,0.001011033452019869,0.001011033452019869,0.0009670754758450921,0.0009670754758450921,0.0009670754758450921,0.0009670754758450921,0.0009670754758450921,0.0009231174996703152,0.0009231174996703152,0.0009231174996703152,0.0009231174996703152,0.0009231174996703152,0.0009231174996703152,0.0009231174996703152,0.0008791595234955383,0.0008791595234955383,0.0008791595234955383,0.0008791595234955383,0.0008791595234955383,0.0008791595234955383,0.0008791595234955383,0.0008791595234955383,0.0008791595234955383,0.0008791595234955383,0.0008791595234955383,0.0008791595234955383,0.0008791595234955383,0.0008791595234955383,0.0008791595234955383,0.0008791595234955383,0.0008791595234955383,0.0008352015473207613,0.0008352015473207613,0.0008352015473207613,0.0008352015473207613,0.0008352015473207613,0.0008352015473207613,0.0008352015473207613,0.0008352015473207613,0.0008352015473207613,0.0008352015473207613,0.0008352015473207613,0.0008352015473207613,0.0008352015473207613,0.0008352015473207613,0.0008352015473207613,0.0008352015473207613,0.0008352015473207613,0.0008352015473207613,0.0007912435711459844,0.0007912435711459844,0.0007912435711459844,0.0007912435711459844,0.0007912435711459844,0.0007912435711459844,0.0007912435711459844,0.0007912435711459844,0.0007912435711459844,0.0007912435711459844,0.0007472855949712075,0.0007472855949712075,0.0007472855949712075,0.0007472855949712075,0.0007472855949712075,0.0007472855949712075,0.0007472855949712075,0.0007472855949712075,0.0007472855949712075,0.0007472855949712075,0.0007033276187964307,0.0007033276187964307,0.0007033276187964307,0.0007033276187964307,0.0007033276187964307,0.0007033276187964307,0.0007033276187964307,0.0007033276187964307,0.0007033276187964307,0.0007033276187964307,0.0007033276187964307,0.0007033276187964307,0.0007033276187964307,0.0006593696426216537,0.0006593696426216537,0.0006593696426216537,0.0006593696426216537,0.0006593696426216537,0.0006593696426216537,0.0006593696426216537,0.0006593696426216537,0.0006593696426216537,0.0006593696426216537,0.0006593696426216537,0.0006593696426216537,0.0006593696426216537,0.0006593696426216537,0.0006593696426216537,0.0006593696426216537,0.0006593696426216537,0.0006593696426216537,0.0006593696426216537,0.0006593696426216537,0.0006593696426216537,0.0006593696426216537,0.0006593696426216537,0.0006593696426216537,0.0006593696426216537,0.0006593696426216537,0.0006593696426216537,0.0006593696426216537,0.0006593696426216537,0.0006593696426216537,0.0006593696426216537,0.0006154116664468768,0.0006154116664468768,0.0006154116664468768,0.0006154116664468768,0.0006154116664468768,0.0006154116664468768,0.0006154116664468768,0.0006154116664468768,0.0006154116664468768,0.0006154116664468768,0.0006154116664468768,0.0006154116664468768,0.0006154116664468768,0.0006154116664468768,0.0006154116664468768,0.0006154116664468768,0.0006154116664468768,0.0006154116664468768,0.0006154116664468768,0.0006154116664468768,0.0006154116664468768,0.0006154116664468768,0.0006154116664468768,0.0006154116664468768,0.0006154116664468768,0.0006154116664468768,0.0006154116664468768,0.0006154116664468768,0.0006154116664468768,0.0006154116664468768,0.0006154116664468768,0.0006154116664468768,0.0006154116664468768,0.0006154116664468768,0.0006154116664468768,0.0006154116664468768,0.0006154116664468768,0.0006154116664468768,0.0006154116664468768,0.0006154116664468768,0.0006154116664468768,0.0006154116664468768,0.0006154116664468768,0.0006154116664468768,0.0006154116664468768,0.0006154116664468768,0.0006154116664468768,0.0006154116664468768,0.0006154116664468768,0.0006154116664468768,0.0006154116664468768,0.0006154116664468768,0.0006154116664468768,0.0006154116664468768,0.0006154116664468768,0.0006154116664468768,0.0006154116664468768,0.0006154116664468768,0.0006154116664468768,0.0006154116664468768,0.0006154116664468768,0.0006154116664468768,0.0006154116664468768,0.0006154116664468768,0.0006154116664468768,0.0006154116664468768,0.0006154116664468768,0.0006154116664468768,0.0006154116664468768,0.0006154116664468768,0.0006154116664468768,0.0006154116664468768,0.0006154116664468768,0.0006154116664468768,0.0006154116664468768,0.0006154116664468768,0.0006154116664468768,0.0006154116664468768,0.0006154116664468768,0.0006154116664468768,0.0006154116664468768,0.0006154116664468768,0.0006154116664468768,0.0006154116664468768,0.0006154116664468768,0.0006154116664468768,0.0006154116664468768,0.0006154116664468768,0.0006154116664468768,0.0006154116664468768,0.0006154116664468768,0.0006154116664468768,0.0006154116664468768,0.0006154116664468768,0.0006154116664468768,0.0006154116664468768,0.0006154116664468768,0.0006154116664468768,0.0006154116664468768,0.0006154116664468768,0.0006154116664468768,0.0006154116664468768,0.0006154116664468768,0.0006154116664468768,0.0006154116664468768,0.0006154116664468768,0.0006154116664468768,0.0006154116664468768,0.0006154116664468768,0.0006154116664468768,0.0006154116664468768,0.0006154116664468768,0.0006154116664468768,0.0006154116664468768,0.0006154116664468768,0.0006154116664468768,0.0006154116664468768,0.0006154116664468768,0.0006154116664468768,0.0006154116664468768,0.0006154116664468768,0.0006154116664468768,0.0006154116664468768,0.0006154116664468768,0.0006154116664468768,0.0006154116664468768,0.0006154116664468768,0.0006154116664468768,0.0006154116664468768,0.0006154116664468768,0.0006154116664468768,0.0006154116664468768,0.0006154116664468768,0.0006154116664468768,0.0006154116664468768,0.0006154116664468768,0.0006154116664468768,0.0006154116664468768,0.0006154116664468768,0.0006154116664468768,0.0006154116664468768,0.0006154116664468768,0.0006154116664468768,0.0006154116664468768,0.0006154116664468768,0.0006154116664468768,0.0006154116664468768,0.0006154116664468768,0.0006154116664468768,0.0006154116664468768,0.0006154116664468768,0.0006154116664468768,0.0006154116664468768,0.0006154116664468768,0.0006154116664468768,0.0006154116664468768,0.0006154116664468768,0.0006154116664468768,0.0006154116664468768,0.0006154116664468768,0.0006154116664468768,0.0006154116664468768,0.0006154116664468768,0.0006154116664468768,0.0006154116664468768,0.0006154116664468768,0.0006154116664468768,0.0006154116664468768,0.0006154116664468768,0.0006154116664468768,0.0006154116664468768,0.0006154116664468768,0.0006154116664468768,0.0005714536902720999,0.0005714536902720999,0.0005714536902720999,0.0005714536902720999,0.0005714536902720999,0.0005714536902720999,0.0005714536902720999,0.0005714536902720999,0.0005714536902720999,0.0005714536902720999,0.0005714536902720999,0.0005714536902720999,0.0005714536902720999,0.0005714536902720999,0.0005714536902720999,0.0005714536902720999,0.0005714536902720999,0.0005714536902720999,0.0005714536902720999,0.0005714536902720999,0.0005714536902720999,0.0005714536902720999,0.0005714536902720999,0.0005714536902720999,0.0005714536902720999,0.0005714536902720999,0.0005714536902720999,0.0005714536902720999,0.0005714536902720999,0.0005714536902720999,0.0005714536902720999,0.0005714536902720999,0.0005714536902720999,0.0005714536902720999,0.0005714536902720999,0.0005714536902720999,0.0005714536902720999,0.0005714536902720999,0.0005714536902720999,0.0005714536902720999,0.0005714536902720999,0.0005714536902720999,0.0005714536902720999,0.0005714536902720999,0.0005714536902720999,0.0005714536902720999,0.0005714536902720999,0.0005714536902720999,0.0005714536902720999,0.0005714536902720999,0.0005714536902720999,0.0005714536902720999,0.0005714536902720999,0.0005714536902720999,0.0005714536902720999,0.0005714536902720999,0.0005714536902720999,0.0005714536902720999,0.0005714536902720999,0.0005714536902720999,0.0005714536902720999,0.0005714536902720999,0.0005714536902720999,0.0005714536902720999,0.0005714536902720999,0.0005714536902720999,0.0005714536902720999,0.0005714536902720999,0.0005714536902720999,0.0005714536902720999,0.0005714536902720999,0.0005714536902720999,0.0005714536902720999,0.0005714536902720999,0.0005714536902720999,0.0005714536902720999,0.0005714536902720999,0.0005714536902720999,0.0005714536902720999,0.0005714536902720999,0.0005714536902720999,0.0005714536902720999,0.0005714536902720999,0.0005714536902720999,0.0005714536902720999,0.0005714536902720999,0.0005714536902720999,0.0005714536902720999,0.0005714536902720999,0.0005714536902720999,0.0005714536902720999,0.0005274957140973229,0.0005274957140973229,0.0005274957140973229,0.0005274957140973229,0.0005274957140973229,0.0005274957140973229,0.0005274957140973229,0.0005274957140973229,0.0005274957140973229,0.0005274957140973229,0.0005274957140973229,0.0005274957140973229,0.0005274957140973229,0.0005274957140973229,0.0005274957140973229,0.0005274957140973229,0.0005274957140973229,0.0005274957140973229,0.0005274957140973229,0.0005274957140973229,0.0005274957140973229,0.0005274957140973229,0.0005274957140973229,0.0005274957140973229,0.0005274957140973229,0.0005274957140973229,0.0005274957140973229,0.0005274957140973229,0.0005274957140973229,0.0005274957140973229,0.0005274957140973229,0.0005274957140973229,0.0005274957140973229,0.0005274957140973229,0.0005274957140973229,0.0005274957140973229,0.0005274957140973229,0.0005274957140973229,0.0005274957140973229,0.0005274957140973229,0.0005274957140973229,0.0005274957140973229,0.0005274957140973229,0.0005274957140973229,0.0005274957140973229,0.0005274957140973229,0.0005274957140973229,0.0005274957140973229,0.0005274957140973229,0.0005274957140973229,0.0005274957140973229,0.0005274957140973229,0.0005274957140973229,0.0005274957140973229,0.0005274957140973229,0.0005274957140973229,0.0005274957140973229,0.0005274957140973229,0.0005274957140973229,0.0005274957140973229,0.0005274957140973229,0.0005274957140973229,0.0005274957140973229,0.0005274957140973229,0.0005274957140973229,0.0005274957140973229,0.0005274957140973229,0.0005274957140973229,0.0005274957140973229,0.0005274957140973229,0.0005274957140973229,0.0005274957140973229,0.0005274957140973229,0.0005274957140973229,0.0005274957140973229,0.0005274957140973229,0.0005274957140973229,0.0005274957140973229,0.0005274957140973229,0.0005274957140973229,0.0005274957140973229,0.0005274957140973229,0.0005274957140973229,0.0005274957140973229,0.0005274957140973229,0.0005274957140973229,0.0005274957140973229,0.0005274957140973229,0.0005274957140973229,0.0005274957140973229,0.0005274957140973229,0.0005274957140973229,0.0005274957140973229,0.0005274957140973229,0.0005274957140973229,0.0005274957140973229,0.0005274957140973229,0.0005274957140973229,0.0005274957140973229,0.0005274957140973229,0.0005274957140973229,0.0005274957140973229,0.0005274957140973229,0.0005274957140973229,0.0005274957140973229,0.0005274957140973229,0.0005274957140973229,0.0005274957140973229,0.0005274957140973229,0.0005274957140973229,0.0005274957140973229,0.0005274957140973229,0.0005274957140973229,0.0005274957140973229,0.0005274957140973229,0.0005274957140973229,0.0005274957140973229,0.0005274957140973229,0.0005274957140973229,0.0005274957140973229,0.0005274957140973229,0.0005274957140973229,0.0005274957140973229,0.0005274957140973229,0.0005274957140973229,0.0005274957140973229,0.0005274957140973229,0.0005274957140973229,0.0005274957140973229,0.0005274957140973229,0.0005274957140973229,0.0005274957140973229,0.0005274957140973229,0.0005274957140973229,0.0005274957140973229,0.0005274957140973229,0.0005274957140973229,0.0005274957140973229,0.0005274957140973229,0.0005274957140973229,0.0005274957140973229,0.0005274957140973229,0.0005274957140973229,0.0005274957140973229,0.0005274957140973229,0.0005274957140973229,0.0005274957140973229,0.0005274957140973229,0.00048353773792254607,0.00048353773792254607,0.00048353773792254607,0.00048353773792254607,0.00048353773792254607,0.00048353773792254607,0.00048353773792254607,0.00048353773792254607,0.00048353773792254607,0.00048353773792254607,0.00048353773792254607,0.00048353773792254607,0.00048353773792254607,0.00048353773792254607,0.00048353773792254607,0.00048353773792254607,0.00048353773792254607,0.00048353773792254607,0.00048353773792254607,0.00048353773792254607,0.00048353773792254607,0.00048353773792254607,0.00048353773792254607,0.00048353773792254607,0.00048353773792254607,0.00048353773792254607,0.00048353773792254607,0.00048353773792254607,0.00048353773792254607,0.00048353773792254607,0.00048353773792254607,0.00048353773792254607,0.00048353773792254607,0.00048353773792254607,0.00048353773792254607,0.00048353773792254607,0.00048353773792254607,0.00048353773792254607,0.00048353773792254607,0.00048353773792254607,0.00048353773792254607,0.00048353773792254607,0.00048353773792254607,0.00048353773792254607,0.00048353773792254607,0.00048353773792254607,0.00048353773792254607,0.00048353773792254607,0.00048353773792254607,0.00048353773792254607,0.00048353773792254607,0.00048353773792254607,0.00048353773792254607,0.00048353773792254607,0.00048353773792254607,0.00048353773792254607,0.00048353773792254607,0.00048353773792254607,0.00048353773792254607,0.00048353773792254607,0.00048353773792254607,0.00048353773792254607,0.00048353773792254607,0.00048353773792254607,0.00048353773792254607,0.00048353773792254607,0.00048353773792254607,0.00048353773792254607,0.00048353773792254607,0.00048353773792254607,0.00048353773792254607,0.00048353773792254607,0.00048353773792254607,0.00048353773792254607,0.00048353773792254607,0.00048353773792254607,0.00048353773792254607,0.00043957976174776914,0.00043957976174776914,0.00043957976174776914,0.00043957976174776914,0.00043957976174776914,0.00043957976174776914,0.00043957976174776914,0.00043957976174776914,0.00043957976174776914,0.00043957976174776914,0.00043957976174776914,0.00043957976174776914,0.00043957976174776914,0.00043957976174776914,0.00043957976174776914,0.00043957976174776914,0.00043957976174776914,0.00043957976174776914,0.00043957976174776914,0.00043957976174776914,0.00043957976174776914,0.00043957976174776914,0.00043957976174776914,0.00043957976174776914,0.00043957976174776914,0.00043957976174776914,0.00043957976174776914,0.00043957976174776914,0.00043957976174776914,0.00043957976174776914,0.00043957976174776914,0.00043957976174776914,0.00043957976174776914,0.00043957976174776914,0.00043957976174776914,0.00043957976174776914,0.00043957976174776914,0.00043957976174776914,0.00043957976174776914,0.00043957976174776914,0.00043957976174776914,0.00043957976174776914,0.00043957976174776914,0.00043957976174776914,0.00043957976174776914,0.00043957976174776914,0.00043957976174776914,0.00043957976174776914,0.00043957976174776914,0.00043957976174776914,0.00043957976174776914,0.00043957976174776914,0.00043957976174776914,0.00043957976174776914,0.00043957976174776914,0.00043957976174776914,0.00043957976174776914,0.00043957976174776914,0.00043957976174776914,0.00043957976174776914,0.00043957976174776914,0.00043957976174776914,0.00043957976174776914,0.00043957976174776914,0.00043957976174776914,0.00043957976174776914,0.00043957976174776914,0.00043957976174776914,0.00043957976174776914,0.00043957976174776914,0.00043957976174776914,0.00043957976174776914,0.00043957976174776914,0.00043957976174776914,0.00043957976174776914,0.00043957976174776914,0.00043957976174776914,0.00043957976174776914,0.00043957976174776914,0.00043957976174776914,0.00043957976174776914,0.00043957976174776914,0.00043957976174776914,0.00043957976174776914,0.00043957976174776914,0.00043957976174776914,0.00043957976174776914,0.00043957976174776914,0.00043957976174776914,0.00043957976174776914,0.00043957976174776914,0.00043957976174776914,0.00043957976174776914,0.00043957976174776914,0.00043957976174776914,0.00043957976174776914,0.00043957976174776914,0.00043957976174776914,0.00043957976174776914,0.00043957976174776914,0.00043957976174776914,0.00043957976174776914,0.00043957976174776914,0.00043957976174776914,0.00043957976174776914,0.00043957976174776914,0.00043957976174776914,0.00043957976174776914,0.00043957976174776914,0.00043957976174776914,0.00043957976174776914,0.00043957976174776914,0.00043957976174776914,0.00043957976174776914,0.00043957976174776914,0.00043957976174776914,0.00043957976174776914,0.00043957976174776914,0.00043957976174776914,0.00043957976174776914,0.00043957976174776914,0.00043957976174776914,0.00043957976174776914,0.00043957976174776914,0.00043957976174776914,0.00043957976174776914,0.00043957976174776914,0.00043957976174776914,0.00043957976174776914,0.00043957976174776914,0.00043957976174776914,0.00043957976174776914,0.00043957976174776914,0.00043957976174776914,0.00043957976174776914,0.00043957976174776914,0.00043957976174776914,0.00043957976174776914,0.00043957976174776914,0.00043957976174776914,0.00043957976174776914,0.00043957976174776914,0.00043957976174776914,0.00043957976174776914,0.00043957976174776914,0.00043957976174776914,0.00043957976174776914,0.00043957976174776914,0.00043957976174776914,0.00043957976174776914,0.00043957976174776914,0.00043957976174776914,0.00043957976174776914,0.00043957976174776914,0.00043957976174776914,0.00043957976174776914,0.00043957976174776914,0.00043957976174776914,0.00043957976174776914,0.00043957976174776914,0.00043957976174776914,0.00043957976174776914,0.00043957976174776914,0.00043957976174776914,0.00043957976174776914,0.00043957976174776914,0.00043957976174776914,0.00043957976174776914,0.00043957976174776914,0.00043957976174776914,0.00043957976174776914,0.00043957976174776914,0.00043957976174776914,0.00043957976174776914,0.00043957976174776914,0.00043957976174776914,0.00043957976174776914,0.00043957976174776914,0.00043957976174776914,0.00043957976174776914,0.00043957976174776914,0.00043957976174776914,0.0003956217855729922,0.0003956217855729922,0.0003956217855729922,0.0003956217855729922,0.0003956217855729922,0.0003956217855729922,0.0003956217855729922,0.0003956217855729922,0.0003956217855729922,0.0003956217855729922,0.0003956217855729922,0.0003956217855729922,0.0003956217855729922,0.0003956217855729922,0.0003956217855729922,0.0003956217855729922,0.0003956217855729922,0.0003956217855729922,0.0003956217855729922,0.00035166380939821533,0.00035166380939821533,0.00035166380939821533,0.00035166380939821533,0.00035166380939821533,0.00035166380939821533,0.00035166380939821533,0.00035166380939821533,0.00035166380939821533,0.00035166380939821533,0.00035166380939821533,0.00035166380939821533,0.00035166380939821533,0.00035166380939821533,0.00035166380939821533,0.00035166380939821533,0.00035166380939821533,0.00035166380939821533,0.00035166380939821533,0.00035166380939821533,0.00035166380939821533,0.00035166380939821533,0.00035166380939821533,0.00035166380939821533,0.00035166380939821533,0.00035166380939821533,0.00035166380939821533,0.00035166380939821533,0.00035166380939821533,0.00035166380939821533,0.00035166380939821533,0.00035166380939821533,0.00035166380939821533,0.00035166380939821533,0.00035166380939821533,0.00035166380939821533,0.00035166380939821533,0.00035166380939821533,0.00035166380939821533,0.00035166380939821533,0.00035166380939821533,0.00035166380939821533,0.00035166380939821533,0.00035166380939821533,0.00035166380939821533,0.00035166380939821533,0.00035166380939821533,0.00035166380939821533,0.00035166380939821533,0.00035166380939821533,0.00035166380939821533,0.00035166380939821533,0.00035166380939821533,0.00035166380939821533,0.00035166380939821533,0.00035166380939821533,0.00035166380939821533,0.00035166380939821533,0.00035166380939821533,0.00035166380939821533,0.00035166380939821533,0.00035166380939821533,0.00035166380939821533,0.00035166380939821533,0.00035166380939821533,0.00035166380939821533,0.00035166380939821533,0.00035166380939821533,0.00035166380939821533,0.00035166380939821533,0.00035166380939821533,0.00035166380939821533,0.00035166380939821533,0.00035166380939821533,0.00035166380939821533,0.00035166380939821533,0.00035166380939821533,0.00035166380939821533,0.00035166380939821533,0.00035166380939821533,0.00035166380939821533,0.00035166380939821533,0.00035166380939821533,0.00035166380939821533,0.00035166380939821533,0.00035166380939821533,0.00035166380939821533,0.00035166380939821533,0.00035166380939821533,0.00035166380939821533,0.00035166380939821533,0.00035166380939821533,0.00035166380939821533,0.00035166380939821533,0.00035166380939821533,0.00035166380939821533,0.00035166380939821533,0.00035166380939821533,0.00035166380939821533,0.00035166380939821533,0.00035166380939821533,0.00035166380939821533,0.00035166380939821533,0.00035166380939821533,0.00035166380939821533,0.00035166380939821533,0.00035166380939821533,0.00035166380939821533,0.00035166380939821533,0.00035166380939821533,0.00035166380939821533,0.00035166380939821533,0.00035166380939821533,0.00035166380939821533,0.00035166380939821533,0.00035166380939821533,0.00035166380939821533,0.00035166380939821533,0.00035166380939821533,0.00035166380939821533,0.00035166380939821533,0.00035166380939821533,0.00035166380939821533,0.00035166380939821533,0.00035166380939821533,0.00035166380939821533,0.00035166380939821533,0.00035166380939821533,0.00035166380939821533,0.00035166380939821533,0.00035166380939821533,0.00035166380939821533,0.00035166380939821533,0.00035166380939821533,0.00035166380939821533,0.00035166380939821533,0.00035166380939821533,0.00035166380939821533,0.00035166380939821533,0.00035166380939821533,0.00035166380939821533,0.00035166380939821533,0.0003077058332234384,0.0003077058332234384,0.00026374785704866147,0.00026374785704866147,0.00026374785704866147,0.00026374785704866147,0.00026374785704866147,0.00026374785704866147,0.00026374785704866147,0.00026374785704866147,0.00026374785704866147,0.00026374785704866147,0.00026374785704866147,0.00021978988087388457,0.00021978988087388457,0.00021978988087388457,0.00021978988087388457,0.00021978988087388457,0.00021978988087388457,0.00021978988087388457,0.00021978988087388457,0.00021978988087388457,0.00021978988087388457,0.00021978988087388457,0.00021978988087388457,0.00017583190469910767,0.00017583190469910767,0.00017583190469910767,0.00017583190469910767,0.00017583190469910767,0.00017583190469910767,0.00017583190469910767,0.00017583190469910767,0.00017583190469910767,0.00017583190469910767,0.00017583190469910767,0.00017583190469910767,0.00017583190469910767,0.00017583190469910767,0.00017583190469910767,0.00017583190469910767,0.00017583190469910767,0.00017583190469910767,0.00017583190469910767,0.00017583190469910767,0.00017583190469910767,0.00017583190469910767,0.00017583190469910767,0.00017583190469910767,0.00017583190469910767,0.00017583190469910767,0.00017583190469910767,0.00017583190469910767,0.00017583190469910767,0.00017583190469910767,0.00017583190469910767,0.00017583190469910767,0.00017583190469910767,0.00017583190469910767,0.00017583190469910767,0.00017583190469910767,0.00017583190469910767,0.00017583190469910767,0.00017583190469910767,0.00017583190469910767,0.00017583190469910767,0.00017583190469910767,0.00017583190469910767,0.00017583190469910767,0.00017583190469910767,0.00017583190469910767,0.00017583190469910767,0.00017583190469910767,0.00017583190469910767,0.00017583190469910767,0.00017583190469910767,0.00017583190469910767,0.00017583190469910767,0.00017583190469910767,0.00017583190469910767,0.00017583190469910767,0.00017583190469910767,0.00017583190469910767,0.00017583190469910767,0.00017583190469910767,0.00017583190469910767,0.00017583190469910767,0.00017583190469910767,0.00017583190469910767,0.00017583190469910767,0.00017583190469910767,0.00017583190469910767,0.00017583190469910767,0.00017583190469910767,0.00017583190469910767,0.00017583190469910767,0.00017583190469910767,0.00017583190469910767,0.00017583190469910767,0.00017583190469910767,0.00017583190469910767,0.00017583190469910767,0.00017583190469910767,0.00017583190469910767,0.00017583190469910767,0.00017583190469910767,0.00017583190469910767,0.00017583190469910767,0.00017583190469910767,0.00017583190469910767,0.00017583190469910767,0.00017583190469910767,0.00017583190469910767,0.00017583190469910767,0.00017583190469910767,0.00017583190469910767,0.00017583190469910767,0.00017583190469910767,0.00017583190469910767,0.00017583190469910767,0.00017583190469910767,0.00017583190469910767,0.00017583190469910767,0.00017583190469910767,0.00017583190469910767,0.00017583190469910767,0.00017583190469910767,0.00017583190469910767,0.00017583190469910767,0.00017583190469910767,0.00017583190469910767,0.00017583190469910767,0.00017583190469910767,0.00017583190469910767,0.00017583190469910767,0.00017583190469910767,0.00017583190469910767,0.00017583190469910767,0.00017583190469910767,0.00017583190469910767,0.00017583190469910767,0.00017583190469910767,0.00017583190469910767,0.00017583190469910767,0.00017583190469910767,0.00017583190469910767,0.00017583190469910767,0.00017583190469910767,0.00017583190469910767,0.00017583190469910767,0.00017583190469910767,0.00017583190469910767,0.00017583190469910767,0.00017583190469910767,0.00017583190469910767,0.00017583190469910767,0.00017583190469910767,0.00017583190469910767,0.00017583190469910767,0.00017583190469910767,0.00017583190469910767,0.00017583190469910767,0.00017583190469910767,0.00017583190469910767,0.00017583190469910767,0.00017583190469910767,0.00017583190469910767,0.00017583190469910767,0.00017583190469910767,0.00017583190469910767,0.00017583190469910767,0.00017583190469910767,0.00017583190469910767,0.00017583190469910767,0.00017583190469910767,0.00017583190469910767,0.00017583190469910767,0.00017583190469910767,0.00017583190469910767,0.00017583190469910767,0.00017583190469910767,0.00017583190469910767,0.00017583190469910767,0.00017583190469910767,0.00017583190469910767,0.00017583190469910767,0.00017583190469910767,0.00017583190469910767,0.00017583190469910767,0.00017583190469910767,0.00017583190469910767,0.00017583190469910767,0.00017583190469910767,0.00017583190469910767,0.00017583190469910767,0.00017583190469910767,0.00017583190469910767,0.00017583190469910767,0.00017583190469910767,0.00017583190469910767,0.00017583190469910767,0.00017583190469910767,0.00017583190469910767,0.00017583190469910767,0.00017583190469910767,0.00017583190469910767,0.00017583190469910767,0.00017583190469910767,0.00017583190469910767,0.00017583190469910767,0.00017583190469910767,0.00017583190469910767,0.00017583190469910767,0.00017583190469910767,0.00017583190469910767,0.00017583190469910767,0.00017583190469910767,0.00017583190469910767,0.00017583190469910767,0.00017583190469910767,0.00017583190469910767,0.00017583190469910767,0.00017583190469910767,0.00017583190469910767,0.00017583190469910767,0.00017583190469910767,0.00017583190469910767,0.00017583190469910767,0.00017583190469910767,0.00017583190469910767,0.00017583190469910767,0.00017583190469910767,0.00017583190469910767,0.00017583190469910767,0.00017583190469910767,0.00017583190469910767,0.00017583190469910767,0.00017583190469910767,0.00017583190469910767,0.00017583190469910767,0.00017583190469910767,0.00017583190469910767,0.00017583190469910767,0.00017583190469910767,0.00017583190469910767,0.00017583190469910767,0.00017583190469910767,0.00017583190469910767,0.00017583190469910767,0.00017583190469910767,0.00017583190469910767,0.00017583190469910767,0.00017583190469910767,0.00017583190469910767,0.00017583190469910767,0.00017583190469910767,0.00017583190469910767,0.00017583190469910767,0.00017583190469910767,0.00017583190469910767,0.00017583190469910767,0.00017583190469910767,0.00017583190469910767,0.00017583190469910767,0.00017583190469910767,0.00017583190469910767,0.00017583190469910767,0.00017583190469910767,0.00017583190469910767,0.00017583190469910767,0.00017583190469910767,0.00017583190469910767,0.00017583190469910767,0.00017583190469910767,0.00017583190469910767,0.00017583190469910767,0.00017583190469910767,0.00017583190469910767,0.00017583190469910767,0.00017583190469910767,0.00017583190469910767,0.00017583190469910767,0.00017583190469910767,0.00017583190469910767,0.00017583190469910767,0.00017583190469910767,0.00017583190469910767,0.00017583190469910767,0.00017583190469910767,0.00017583190469910767,0.00017583190469910767,0.00017583190469910767,0.00017583190469910767,0.00017583190469910767,0.00017583190469910767,0.00017583190469910767,0.00017583190469910767,0.00017583190469910767,0.00017583190469910767,0.00017583190469910767,0.00017583190469910767,0.00017583190469910767,0.00017583190469910767,0.00017583190469910767,0.00017583190469910767,0.00017583190469910767,0.00017583190469910767,0.00017583190469910767,0.00017583190469910767,0.00017583190469910767,0.00017583190469910767,0.00017583190469910767,0.00017583190469910767,0.00017583190469910767,0.00017583190469910767,0.00017583190469910767,0.00017583190469910767,0.00017583190469910767,0.00017583190469910767,0.00017583190469910767,0.00017583190469910767,0.00017583190469910767,0.00017583190469910767,0.00017583190469910767,0.00017583190469910767,0.00017583190469910767,0.00017583190469910767,0.00017583190469910767,0.00017583190469910767,0.00017583190469910767,0.00017583190469910767,0.00017583190469910767,0.00017583190469910767,0.00017583190469910767,0.00017583190469910767,0.00017583190469910767,0.00017583190469910767,0.00017583190469910767,0.00017583190469910767,0.00017583190469910767,0.00017583190469910767,0.00017583190469910767,0.00017583190469910767,0.00017583190469910767,0.00017583190469910767,0.00017583190469910767,0.00017583190469910767,0.00017583190469910767,0.00017583190469910767,0.00017583190469910767,0.00017583190469910767,0.00017583190469910767,0.00017583190469910767,0.00017583190469910767,0.00017583190469910767,0.00017583190469910767,0.00017583190469910767,0.00017583190469910767,0.00017583190469910767,0.00017583190469910767,0.00017583190469910767,0.00017583190469910767,0.00017583190469910767,0.00017583190469910767,0.00017583190469910767,0.00017583190469910767,0.00017583190469910767,0.00017583190469910767,0.00017583190469910767,0.00017583190469910767,0.00017583190469910767,0.00017583190469910767,0.00017583190469910767,0.00017583190469910767,0.00017583190469910767,0.00017583190469910767,0.00017583190469910767,0.00017583190469910767,0.00017583190469910767,0.00017583190469910767,0.00017583190469910767,0.00017583190469910767,0.00017583190469910767,0.00017583190469910767,0.00017583190469910767,0.00017583190469910767,0.00017583190469910767,0.00017583190469910767,0.00017583190469910767,0.00017583190469910767,0.00017583190469910767,0.00017583190469910767,0.00017583190469910767,0.00017583190469910767,0.00017583190469910767,0.00017583190469910767,0.00017583190469910767,0.00017583190469910767,0.00017583190469910767,0.00017583190469910767,0.00017583190469910767,0.00017583190469910767,0.00017583190469910767,0.00017583190469910767,0.00017583190469910767,0.00017583190469910767,0.00017583190469910767,0.00017583190469910767,0.00017583190469910767,0.00017583190469910767,0.00017583190469910767,0.00017583190469910767,0.00017583190469910767,0.00017583190469910767,0.00017583190469910767,0.00017583190469910767,0.00017583190469910767,0.00017583190469910767,0.00017583190469910767,0.00017583190469910767,0.00017583190469910767,0.00017583190469910767,0.00017583190469910767,0.00017583190469910767,0.00017583190469910767,0.00017583190469910767,0.00017583190469910767,0.00017583190469910767,0.00017583190469910767,0.00017583190469910767,0.00017583190469910767,0.00017583190469910767,0.00017583190469910767,0.00017583190469910767,0.00017583190469910767,0.00017583190469910767,0.00017583190469910767,0.00017583190469910767,0.00017583190469910767,0.00017583190469910767,0.00017583190469910767,0.00017583190469910767,0.00017583190469910767,0.00017583190469910767,0.00017583190469910767,0.00017583190469910767,0.00017583190469910767,0.00017583190469910767,0.00017583190469910767,0.00017583190469910767,0.00017583190469910767,0.00017583190469910767,0.00017583190469910767,0.00017583190469910767,0.00017583190469910767,0.00017583190469910767,0.00017583190469910767,0.00017583190469910767,0.00017583190469910767,0.00017583190469910767,0.00017583190469910767,0.00017583190469910767,0.00017583190469910767,0.00017583190469910767,0.00017583190469910767,0.00017583190469910767,0.00017583190469910767,0.00017583190469910767,0.00017583190469910767,0.00017583190469910767,0.00017583190469910767,0.00017583190469910767,0.00017583190469910767,0.00017583190469910767,0.00017583190469910767,0.00017583190469910767,0.00017583190469910767,0.00017583190469910767,0.00017583190469910767,0.00017583190469910767,0.00017583190469910767,0.00017583190469910767,0.00017583190469910767,0.00017583190469910767,0.00017583190469910767,0.00017583190469910767,0.00017583190469910767,0.00017583190469910767,0.00017583190469910767,0.00017583190469910767,0.00017583190469910767,0.00017583190469910767,0.00017583190469910767,0.00017583190469910767,0.00017583190469910767,0.00017583190469910767,0.00017583190469910767,0.00017583190469910767,0.00017583190469910767,0.00017583190469910767,0.00017583190469910767,0.00017583190469910767,0.00017583190469910767,0.00017583190469910767,0.00017583190469910767,0.00017583190469910767,0.00017583190469910767,0.00017583190469910767,0.00017583190469910767,0.00017583190469910767,0.00017583190469910767,0.00017583190469910767,0.00017583190469910767,0.00017583190469910767,0.00017583190469910767,0.00017583190469910767,0.00017583190469910767,0.00017583190469910767,0.00017583190469910767,0.00017583190469910767,0.00017583190469910767,0.00017583190469910767,0.00017583190469910767,0.00017583190469910767,0.00017583190469910767,0.00017583190469910767,0.00017583190469910767,0.00017583190469910767,0.00017583190469910767,0.00017583190469910767,0.00017583190469910767,0.00017583190469910767,0.00017583190469910767,0.00017583190469910767,0.00017583190469910767,0.00017583190469910767,0.00017583190469910767,0.00017583190469910767,0.00017583190469910767,0.00017583190469910767,0.00017583190469910767,0.00017583190469910767,0.00017583190469910767,0.00017583190469910767,0.00017583190469910767,0.00017583190469910767,0.00017583190469910767,0.00017583190469910767,0.00017583190469910767,0.00017583190469910767,0.00017583190469910767,0.00017583190469910767,0.00017583190469910767,0.00017583190469910767,0.00017583190469910767,0.00017583190469910767,0.00017583190469910767,0.00017583190469910767,0.00017583190469910767,0.00017583190469910767,0.00017583190469910767,0.00017583190469910767,0.00017583190469910767,0.00017583190469910767,0.00017583190469910767,0.00017583190469910767,0.00017583190469910767,0.00017583190469910767,0.00017583190469910767,0.00017583190469910767,0.00017583190469910767,0.00017583190469910767,0.00017583190469910767,0.00017583190469910767,0.00017583190469910767,0.00017583190469910767,0.00017583190469910767,0.00017583190469910767,0.00017583190469910767,0.00017583190469910767,0.00017583190469910767,0.00017583190469910767,0.00017583190469910767,0.00017583190469910767,0.00017583190469910767,0.00017583190469910767,0.00017583190469910767,0.00017583190469910767,0.00017583190469910767,0.00017583190469910767,0.00017583190469910767,0.00017583190469910767,0.00017583190469910767,0.00017583190469910767,0.00017583190469910767,0.00017583190469910767,0.00017583190469910767,0.00017583190469910767,0.00017583190469910767,0.00017583190469910767,0.00017583190469910767,0.00017583190469910767,0.00017583190469910767,0.00017583190469910767,0.00017583190469910767,0.00017583190469910767,0.00017583190469910767,0.00017583190469910767,0.00017583190469910767,0.00017583190469910767,0.00017583190469910767,0.00017583190469910767,0.00017583190469910767,0.00017583190469910767,0.00017583190469910767,0.00017583190469910767,0.00017583190469910767,0.00017583190469910767,0.00017583190469910767,0.00017583190469910767,0.00017583190469910767,0.00017583190469910767,0.00017583190469910767,0.00017583190469910767,0.00017583190469910767,0.00017583190469910767,0.00017583190469910767,0.00017583190469910767,0.00017583190469910767,0.00017583190469910767,0.00017583190469910767,0.00017583190469910767,0.00017583190469910767,0.00017583190469910767,0.00017583190469910767,0.00017583190469910767,0.00017583190469910767,0.00017583190469910767,0.00017583190469910767,0.00017583190469910767,0.00017583190469910767,0.00017583190469910767,0.00017583190469910767,0.00017583190469910767,0.00017583190469910767,0.00017583190469910767,0.00017583190469910767,0.00017583190469910767,0.00017583190469910767,0.00017583190469910767,0.00017583190469910767,0.00017583190469910767,0.00017583190469910767,0.00017583190469910767,0.00017583190469910767,0.00017583190469910767,0.00017583190469910767,0.00017583190469910767,0.00017583190469910767,0.00017583190469910767,0.00017583190469910767,0.00017583190469910767,0.00017583190469910767,0.00017583190469910767,0.00017583190469910767,0.00017583190469910767,0.00017583190469910767,0.00017583190469910767,0.00017583190469910767,0.00017583190469910767,0.00017583190469910767,0.00017583190469910767,0.00017583190469910767,0.00017583190469910767,0.00017583190469910767,0.00017583190469910767,0.00017583190469910767,0.00017583190469910767,0.00017583190469910767,0.00017583190469910767,0.00017583190469910767,0.00017583190469910767,0.00017583190469910767,0.00017583190469910767,0.00017583190469910767,0.00017583190469910767,0.00017583190469910767,0.00017583190469910767,0.00017583190469910767,0.00017583190469910767,0.00017583190469910767,0.00017583190469910767,0.00017583190469910767,0.00017583190469910767,0.00017583190469910767,0.00017583190469910767,0.00017583190469910767,0.00017583190469910767,0.00017583190469910767,0.00017583190469910767,0.00017583190469910767,0.00017583190469910767,0.00017583190469910767,0.00017583190469910767,0.00017583190469910767,0.00017583190469910767,0.00017583190469910767,0.00017583190469910767,0.00017583190469910767,0.00017583190469910767,0.00017583190469910767,0.00017583190469910767,0.00017583190469910767,0.00017583190469910767,0.00017583190469910767,0.00017583190469910767,0.00017583190469910767,0.00017583190469910767,0.00017583190469910767,0.00017583190469910767,0.00017583190469910767,0.00017583190469910767,0.00017583190469910767,0.00017583190469910767,0.00017583190469910767,0.00017583190469910767,0.00017583190469910767,0.00017583190469910767,0.00017583190469910767,0.00017583190469910767,0.00017583190469910767,0.00017583190469910767,0.00017583190469910767,0.00017583190469910767,0.00017583190469910767,0.00017583190469910767,0.00017583190469910767,0.00017583190469910767,0.00017583190469910767,0.00017583190469910767,0.00017583190469910767,0.00017583190469910767,0.00017583190469910767,0.00017583190469910767,0.00017583190469910767,0.00017583190469910767,0.00017583190469910767,0.00017583190469910767,0.00017583190469910767,0.00017583190469910767,0.00017583190469910767,0.00017583190469910767,0.00017583190469910767,0.00017583190469910767,0.00017583190469910767,0.00017583190469910767,0.00017583190469910767,0.00017583190469910767,0.00017583190469910767,0.00017583190469910767,0.00017583190469910767,0.00017583190469910767,0.00017583190469910767,0.00017583190469910767,0.00017583190469910767,0.00017583190469910767,0.00017583190469910767,0.00017583190469910767,0.00017583190469910767,0.00017583190469910767,0.00017583190469910767,0.00017583190469910767,0.00017583190469910767,0.00017583190469910767,0.00017583190469910767,0.00017583190469910767,0.00017583190469910767,0.00017583190469910767,0.00017583190469910767,0.00017583190469910767,0.00017583190469910767,0.00017583190469910767,0.00017583190469910767,0.00017583190469910767,0.00017583190469910767,0.00017583190469910767,0.00017583190469910767,0.00017583190469910767,0.00017583190469910767,0.00017583190469910767,0.00017583190469910767,0.00017583190469910767,0.00017583190469910767,0.00017583190469910767,0.00017583190469910767,0.00017583190469910767,0.00017583190469910767,0.00017583190469910767,0.00017583190469910767,0.00017583190469910767,0.00017583190469910767,0.00017583190469910767,0.00017583190469910767,0.00017583190469910767,0.00017583190469910767,0.00017583190469910767,0.00017583190469910767,0.00017583190469910767,0.00017583190469910767,0.00017583190469910767,0.00017583190469910767,0.00017583190469910767,0.00017583190469910767,0.00017583190469910767,0.00017583190469910767,0.00017583190469910767,0.00017583190469910767,0.00017583190469910767,0.00017583190469910767,0.00017583190469910767,0.00017583190469910767,0.00017583190469910767,0.00017583190469910767,0.00017583190469910767,0.00017583190469910767,0.00017583190469910767,0.00017583190469910767,0.00017583190469910767,0.00017583190469910767,0.00017583190469910767,0.00017583190469910767,0.00017583190469910767,0.00017583190469910767,0.00017583190469910767,0.00017583190469910767,0.00017583190469910767,0.00017583190469910767,0.00017583190469910767,0.00017583190469910767,0.00017583190469910767,0.00017583190469910767,0.00017583190469910767,0.00017583190469910767,0.00017583190469910767,0.00017583190469910767,0.00017583190469910767,0.00017583190469910767,0.00017583190469910767,0.00017583190469910767,0.00017583190469910767,0.00017583190469910767,0.00017583190469910767,0.00017583190469910767,0.00017583190469910767,0.00017583190469910767,0.00017583190469910767,0.00017583190469910767,0.00017583190469910767,0.00017583190469910767,0.00017583190469910767,0.00017583190469910767,0.00017583190469910767,0.00017583190469910767,0.00017583190469910767,0.00017583190469910767,0.00017583190469910767,0.00017583190469910767,0.00017583190469910767,0.00017583190469910767,0.00017583190469910767,0.00017583190469910767,0.00017583190469910767,0.00017583190469910767,0.00017583190469910767,0.00017583190469910767,0.00017583190469910767,0.00017583190469910767,0.00017583190469910767,0.00017583190469910767,0.00017583190469910767,0.00017583190469910767,0.00017583190469910767,0.00017583190469910767,0.00017583190469910767,0.00017583190469910767,0.00017583190469910767,0.00017583190469910767,0.00017583190469910767,0.00017583190469910767,0.00017583190469910767,0.00017583190469910767,0.00017583190469910767,0.00017583190469910767,0.00017583190469910767,0.00017583190469910767,0.00017583190469910767,0.00017583190469910767,0.00017583190469910767,0.00017583190469910767,0.00017583190469910767,0.00017583190469910767,0.00017583190469910767,0.00017583190469910767,0.00017583190469910767,0.00017583190469910767,0.00017583190469910767,0.00017583190469910767,0.00017583190469910767,0.00017583190469910767,0.00017583190469910767,0.00017583190469910767,0.00017583190469910767,0.00017583190469910767,0.00013187392852433074,0.00013187392852433074,0.00013187392852433074,0.00013187392852433074,0.00013187392852433074,0.00013187392852433074,0.00013187392852433074,0.00013187392852433074,0.00013187392852433074,0.00013187392852433074,0.00013187392852433074,0.00013187392852433074,0.00013187392852433074,0.00013187392852433074,0.00013187392852433074,0.00013187392852433074,0.00013187392852433074,0.00013187392852433074,0.00013187392852433074,0.00013187392852433074,0.00013187392852433074,0.00013187392852433074,0.00013187392852433074,0.00013187392852433074,0.00013187392852433074,0.00013187392852433074,8.791595234955383e-05,8.791595234955383e-05,8.791595234955383e-05,8.791595234955383e-05,8.791595234955383e-05,8.791595234955383e-05,8.791595234955383e-05,8.791595234955383e-05,8.791595234955383e-05,8.791595234955383e-05,8.791595234955383e-05,4.3957976174776917e-05,4.3957976174776917e-05,4.3957976174776917e-05,4.3957976174776917e-05,4.3957976174776917e-05,4.3957976174776917e-05,0.0],\"xaxis\":\"x\",\"y\":[1.0,0.9722222222222222,0.9722222222222222,0.9722222222222222,0.9722222222222222,0.9444444444444444,0.9166666666666666,0.9166666666666666,0.9166666666666666,0.9166666666666666,0.8611111111111112,0.8611111111111112,0.8611111111111112,0.8611111111111112,0.8611111111111112,0.8611111111111112,0.8611111111111112,0.8333333333333334,0.8333333333333334,0.8333333333333334,0.8333333333333334,0.8333333333333334,0.8333333333333334,0.8333333333333334,0.8333333333333334,0.8333333333333334,0.8333333333333334,0.8333333333333334,0.8333333333333334,0.8333333333333334,0.8333333333333334,0.8333333333333334,0.8333333333333334,0.8333333333333334,0.8333333333333334,0.8333333333333334,0.8055555555555556,0.8055555555555556,0.8055555555555556,0.8055555555555556,0.8055555555555556,0.8055555555555556,0.8055555555555556,0.8055555555555556,0.8055555555555556,0.8055555555555556,0.8055555555555556,0.8055555555555556,0.8055555555555556,0.8055555555555556,0.8055555555555556,0.7777777777777778,0.7777777777777778,0.7777777777777778,0.7777777777777778,0.7777777777777778,0.7777777777777778,0.7777777777777778,0.7777777777777778,0.7777777777777778,0.7777777777777778,0.7777777777777778,0.7777777777777778,0.7777777777777778,0.7777777777777778,0.7777777777777778,0.7777777777777778,0.7777777777777778,0.7777777777777778,0.7777777777777778,0.7777777777777778,0.7777777777777778,0.7777777777777778,0.7777777777777778,0.7777777777777778,0.7777777777777778,0.7777777777777778,0.7777777777777778,0.7777777777777778,0.7777777777777778,0.7777777777777778,0.7777777777777778,0.7777777777777778,0.7777777777777778,0.7777777777777778,0.7777777777777778,0.7777777777777778,0.7777777777777778,0.7777777777777778,0.7777777777777778,0.7777777777777778,0.7777777777777778,0.7777777777777778,0.7777777777777778,0.7777777777777778,0.7777777777777778,0.7777777777777778,0.7777777777777778,0.7777777777777778,0.7777777777777778,0.7777777777777778,0.7777777777777778,0.7777777777777778,0.7777777777777778,0.7777777777777778,0.7777777777777778,0.7777777777777778,0.7777777777777778,0.7777777777777778,0.7777777777777778,0.7777777777777778,0.7777777777777778,0.7777777777777778,0.7777777777777778,0.7777777777777778,0.7777777777777778,0.7777777777777778,0.7777777777777778,0.7777777777777778,0.7777777777777778,0.7777777777777778,0.7777777777777778,0.7777777777777778,0.7777777777777778,0.7777777777777778,0.7777777777777778,0.7777777777777778,0.7777777777777778,0.7777777777777778,0.7777777777777778,0.7777777777777778,0.7777777777777778,0.7777777777777778,0.7777777777777778,0.7777777777777778,0.7777777777777778,0.7777777777777778,0.7777777777777778,0.7777777777777778,0.7777777777777778,0.7777777777777778,0.7777777777777778,0.7777777777777778,0.7777777777777778,0.7777777777777778,0.7777777777777778,0.7777777777777778,0.75,0.75,0.75,0.75,0.75,0.75,0.75,0.75,0.75,0.75,0.75,0.75,0.75,0.75,0.75,0.75,0.75,0.75,0.75,0.75,0.75,0.75,0.75,0.75,0.75,0.75,0.75,0.75,0.75,0.75,0.75,0.75,0.75,0.75,0.75,0.75,0.75,0.75,0.75,0.75,0.75,0.75,0.75,0.75,0.75,0.75,0.75,0.75,0.75,0.75,0.75,0.75,0.75,0.75,0.75,0.75,0.75,0.75,0.75,0.75,0.75,0.75,0.75,0.75,0.75,0.75,0.75,0.75,0.75,0.75,0.75,0.75,0.75,0.75,0.75,0.7222222222222222,0.7222222222222222,0.7222222222222222,0.7222222222222222,0.7222222222222222,0.7222222222222222,0.7222222222222222,0.7222222222222222,0.7222222222222222,0.7222222222222222,0.7222222222222222,0.7222222222222222,0.7222222222222222,0.7222222222222222,0.7222222222222222,0.7222222222222222,0.7222222222222222,0.7222222222222222,0.7222222222222222,0.7222222222222222,0.7222222222222222,0.7222222222222222,0.7222222222222222,0.7222222222222222,0.7222222222222222,0.7222222222222222,0.7222222222222222,0.7222222222222222,0.7222222222222222,0.7222222222222222,0.7222222222222222,0.7222222222222222,0.7222222222222222,0.7222222222222222,0.7222222222222222,0.7222222222222222,0.7222222222222222,0.7222222222222222,0.7222222222222222,0.7222222222222222,0.7222222222222222,0.7222222222222222,0.7222222222222222,0.7222222222222222,0.7222222222222222,0.7222222222222222,0.7222222222222222,0.7222222222222222,0.7222222222222222,0.7222222222222222,0.7222222222222222,0.7222222222222222,0.7222222222222222,0.7222222222222222,0.7222222222222222,0.7222222222222222,0.7222222222222222,0.7222222222222222,0.7222222222222222,0.7222222222222222,0.7222222222222222,0.7222222222222222,0.7222222222222222,0.7222222222222222,0.7222222222222222,0.7222222222222222,0.7222222222222222,0.7222222222222222,0.7222222222222222,0.7222222222222222,0.7222222222222222,0.7222222222222222,0.7222222222222222,0.7222222222222222,0.7222222222222222,0.7222222222222222,0.7222222222222222,0.7222222222222222,0.7222222222222222,0.7222222222222222,0.7222222222222222,0.7222222222222222,0.7222222222222222,0.7222222222222222,0.7222222222222222,0.7222222222222222,0.7222222222222222,0.7222222222222222,0.7222222222222222,0.7222222222222222,0.7222222222222222,0.7222222222222222,0.7222222222222222,0.7222222222222222,0.7222222222222222,0.7222222222222222,0.7222222222222222,0.7222222222222222,0.7222222222222222,0.7222222222222222,0.7222222222222222,0.7222222222222222,0.7222222222222222,0.7222222222222222,0.7222222222222222,0.7222222222222222,0.7222222222222222,0.7222222222222222,0.7222222222222222,0.7222222222222222,0.7222222222222222,0.7222222222222222,0.7222222222222222,0.7222222222222222,0.7222222222222222,0.7222222222222222,0.7222222222222222,0.7222222222222222,0.7222222222222222,0.7222222222222222,0.7222222222222222,0.7222222222222222,0.7222222222222222,0.7222222222222222,0.7222222222222222,0.7222222222222222,0.7222222222222222,0.7222222222222222,0.7222222222222222,0.7222222222222222,0.7222222222222222,0.7222222222222222,0.7222222222222222,0.7222222222222222,0.7222222222222222,0.7222222222222222,0.7222222222222222,0.7222222222222222,0.7222222222222222,0.7222222222222222,0.7222222222222222,0.7222222222222222,0.7222222222222222,0.7222222222222222,0.7222222222222222,0.7222222222222222,0.7222222222222222,0.7222222222222222,0.7222222222222222,0.7222222222222222,0.7222222222222222,0.7222222222222222,0.7222222222222222,0.7222222222222222,0.7222222222222222,0.7222222222222222,0.7222222222222222,0.7222222222222222,0.7222222222222222,0.7222222222222222,0.7222222222222222,0.7222222222222222,0.7222222222222222,0.7222222222222222,0.7222222222222222,0.7222222222222222,0.7222222222222222,0.7222222222222222,0.7222222222222222,0.7222222222222222,0.7222222222222222,0.7222222222222222,0.7222222222222222,0.7222222222222222,0.7222222222222222,0.7222222222222222,0.7222222222222222,0.7222222222222222,0.7222222222222222,0.7222222222222222,0.7222222222222222,0.7222222222222222,0.7222222222222222,0.7222222222222222,0.7222222222222222,0.7222222222222222,0.7222222222222222,0.6944444444444444,0.6944444444444444,0.6944444444444444,0.6944444444444444,0.6944444444444444,0.6944444444444444,0.6944444444444444,0.6944444444444444,0.6944444444444444,0.6944444444444444,0.6944444444444444,0.6944444444444444,0.6944444444444444,0.6944444444444444,0.6944444444444444,0.6944444444444444,0.6944444444444444,0.6944444444444444,0.6944444444444444,0.6944444444444444,0.6944444444444444,0.6944444444444444,0.6944444444444444,0.6944444444444444,0.6944444444444444,0.6944444444444444,0.6944444444444444,0.6944444444444444,0.6944444444444444,0.6944444444444444,0.6944444444444444,0.6944444444444444,0.6944444444444444,0.6944444444444444,0.6944444444444444,0.6944444444444444,0.6944444444444444,0.6944444444444444,0.6944444444444444,0.6944444444444444,0.6944444444444444,0.6944444444444444,0.6944444444444444,0.6944444444444444,0.6944444444444444,0.6944444444444444,0.6944444444444444,0.6944444444444444,0.6944444444444444,0.6944444444444444,0.6944444444444444,0.6944444444444444,0.6944444444444444,0.6944444444444444,0.6944444444444444,0.6944444444444444,0.6944444444444444,0.6944444444444444,0.6944444444444444,0.6944444444444444,0.6944444444444444,0.6944444444444444,0.6944444444444444,0.6944444444444444,0.6944444444444444,0.6944444444444444,0.6944444444444444,0.6944444444444444,0.6944444444444444,0.6944444444444444,0.6944444444444444,0.6944444444444444,0.6944444444444444,0.6944444444444444,0.6944444444444444,0.6944444444444444,0.6944444444444444,0.6944444444444444,0.6944444444444444,0.6944444444444444,0.6944444444444444,0.6944444444444444,0.6944444444444444,0.6944444444444444,0.6944444444444444,0.6944444444444444,0.6944444444444444,0.6944444444444444,0.6944444444444444,0.6944444444444444,0.6944444444444444,0.6944444444444444,0.6944444444444444,0.6944444444444444,0.6666666666666666,0.6666666666666666,0.6666666666666666,0.6666666666666666,0.6666666666666666,0.6666666666666666,0.6666666666666666,0.6666666666666666,0.6666666666666666,0.6666666666666666,0.6666666666666666,0.6666666666666666,0.6666666666666666,0.6666666666666666,0.6666666666666666,0.6666666666666666,0.6666666666666666,0.6666666666666666,0.6666666666666666,0.6666666666666666,0.6666666666666666,0.6666666666666666,0.6666666666666666,0.6666666666666666,0.6666666666666666,0.6666666666666666,0.6666666666666666,0.6666666666666666,0.6666666666666666,0.6666666666666666,0.6666666666666666,0.6666666666666666,0.6666666666666666,0.6666666666666666,0.6666666666666666,0.6666666666666666,0.6666666666666666,0.6666666666666666,0.6666666666666666,0.6666666666666666,0.6666666666666666,0.6666666666666666,0.6666666666666666,0.6666666666666666,0.6666666666666666,0.6666666666666666,0.6666666666666666,0.6666666666666666,0.6666666666666666,0.6666666666666666,0.6666666666666666,0.6666666666666666,0.6666666666666666,0.6666666666666666,0.6666666666666666,0.6666666666666666,0.6666666666666666,0.6666666666666666,0.6666666666666666,0.6666666666666666,0.6666666666666666,0.6666666666666666,0.6666666666666666,0.6666666666666666,0.6666666666666666,0.6666666666666666,0.6666666666666666,0.6666666666666666,0.6666666666666666,0.6666666666666666,0.6666666666666666,0.6666666666666666,0.6666666666666666,0.6666666666666666,0.6666666666666666,0.6666666666666666,0.6666666666666666,0.6666666666666666,0.6666666666666666,0.6666666666666666,0.6666666666666666,0.6666666666666666,0.6666666666666666,0.6666666666666666,0.6666666666666666,0.6666666666666666,0.6666666666666666,0.6666666666666666,0.6666666666666666,0.6666666666666666,0.6666666666666666,0.6666666666666666,0.6666666666666666,0.6666666666666666,0.6666666666666666,0.6666666666666666,0.6666666666666666,0.6666666666666666,0.6666666666666666,0.6666666666666666,0.6666666666666666,0.6666666666666666,0.6666666666666666,0.6666666666666666,0.6666666666666666,0.6666666666666666,0.6666666666666666,0.6666666666666666,0.6666666666666666,0.6666666666666666,0.6666666666666666,0.6388888888888888,0.6388888888888888,0.6388888888888888,0.6388888888888888,0.6388888888888888,0.6388888888888888,0.6388888888888888,0.6388888888888888,0.6388888888888888,0.6388888888888888,0.6388888888888888,0.6388888888888888,0.6388888888888888,0.6388888888888888,0.6388888888888888,0.6388888888888888,0.6388888888888888,0.6388888888888888,0.6388888888888888,0.6388888888888888,0.6388888888888888,0.6388888888888888,0.6111111111111112,0.6111111111111112,0.6111111111111112,0.6111111111111112,0.6111111111111112,0.6111111111111112,0.6111111111111112,0.6111111111111112,0.6111111111111112,0.6111111111111112,0.6111111111111112,0.6111111111111112,0.6111111111111112,0.6111111111111112,0.6111111111111112,0.6111111111111112,0.6111111111111112,0.6111111111111112,0.6111111111111112,0.6111111111111112,0.6111111111111112,0.6111111111111112,0.6111111111111112,0.6111111111111112,0.6111111111111112,0.6111111111111112,0.6111111111111112,0.6111111111111112,0.6111111111111112,0.6111111111111112,0.6111111111111112,0.6111111111111112,0.6111111111111112,0.6111111111111112,0.6111111111111112,0.6111111111111112,0.6111111111111112,0.6111111111111112,0.6111111111111112,0.6111111111111112,0.6111111111111112,0.6111111111111112,0.6111111111111112,0.6111111111111112,0.6111111111111112,0.6111111111111112,0.5833333333333334,0.5833333333333334,0.5833333333333334,0.5833333333333334,0.5833333333333334,0.5833333333333334,0.5833333333333334,0.5833333333333334,0.5833333333333334,0.5833333333333334,0.5833333333333334,0.5833333333333334,0.5833333333333334,0.5833333333333334,0.5833333333333334,0.5833333333333334,0.5833333333333334,0.5833333333333334,0.5833333333333334,0.5833333333333334,0.5833333333333334,0.5833333333333334,0.5833333333333334,0.5833333333333334,0.5833333333333334,0.5833333333333334,0.5833333333333334,0.5833333333333334,0.5833333333333334,0.5833333333333334,0.5833333333333334,0.5833333333333334,0.5833333333333334,0.5833333333333334,0.5833333333333334,0.5833333333333334,0.5833333333333334,0.5833333333333334,0.5833333333333334,0.5833333333333334,0.5833333333333334,0.5833333333333334,0.5833333333333334,0.5833333333333334,0.5833333333333334,0.5833333333333334,0.5833333333333334,0.5833333333333334,0.5833333333333334,0.5833333333333334,0.5833333333333334,0.5833333333333334,0.5833333333333334,0.5833333333333334,0.5833333333333334,0.5833333333333334,0.5833333333333334,0.5833333333333334,0.5833333333333334,0.5833333333333334,0.5833333333333334,0.5833333333333334,0.5833333333333334,0.5833333333333334,0.5833333333333334,0.5833333333333334,0.5833333333333334,0.5833333333333334,0.5833333333333334,0.5833333333333334,0.5833333333333334,0.5833333333333334,0.5833333333333334,0.5833333333333334,0.5833333333333334,0.5833333333333334,0.5833333333333334,0.5833333333333334,0.5833333333333334,0.5833333333333334,0.5833333333333334,0.5833333333333334,0.5833333333333334,0.5833333333333334,0.5833333333333334,0.5833333333333334,0.5833333333333334,0.5833333333333334,0.5833333333333334,0.5833333333333334,0.5833333333333334,0.5833333333333334,0.5833333333333334,0.5833333333333334,0.5833333333333334,0.5833333333333334,0.5833333333333334,0.5833333333333334,0.5833333333333334,0.5833333333333334,0.5833333333333334,0.5833333333333334,0.5833333333333334,0.5833333333333334,0.5833333333333334,0.5833333333333334,0.5833333333333334,0.5833333333333334,0.5833333333333334,0.5833333333333334,0.5833333333333334,0.5833333333333334,0.5833333333333334,0.5833333333333334,0.5833333333333334,0.5833333333333334,0.5833333333333334,0.5833333333333334,0.5833333333333334,0.5833333333333334,0.5833333333333334,0.5833333333333334,0.5833333333333334,0.5833333333333334,0.5833333333333334,0.5833333333333334,0.5833333333333334,0.5833333333333334,0.5833333333333334,0.5833333333333334,0.5833333333333334,0.5833333333333334,0.5833333333333334,0.5833333333333334,0.5833333333333334,0.5833333333333334,0.5833333333333334,0.5833333333333334,0.5833333333333334,0.5833333333333334,0.5833333333333334,0.5833333333333334,0.5833333333333334,0.5833333333333334,0.5833333333333334,0.5833333333333334,0.5833333333333334,0.5833333333333334,0.5833333333333334,0.5833333333333334,0.5833333333333334,0.5833333333333334,0.5833333333333334,0.5833333333333334,0.5833333333333334,0.5833333333333334,0.5833333333333334,0.5833333333333334,0.5833333333333334,0.5833333333333334,0.5833333333333334,0.5833333333333334,0.5833333333333334,0.5833333333333334,0.5833333333333334,0.5833333333333334,0.5833333333333334,0.5833333333333334,0.5833333333333334,0.5833333333333334,0.5833333333333334,0.5833333333333334,0.5833333333333334,0.5833333333333334,0.5833333333333334,0.5833333333333334,0.5833333333333334,0.5833333333333334,0.5833333333333334,0.5833333333333334,0.5833333333333334,0.5833333333333334,0.5833333333333334,0.5833333333333334,0.5833333333333334,0.5833333333333334,0.5833333333333334,0.5833333333333334,0.5833333333333334,0.5833333333333334,0.5833333333333334,0.5833333333333334,0.5833333333333334,0.5833333333333334,0.5833333333333334,0.5833333333333334,0.5833333333333334,0.5833333333333334,0.5833333333333334,0.5833333333333334,0.5833333333333334,0.5833333333333334,0.5833333333333334,0.5555555555555556,0.5555555555555556,0.5555555555555556,0.5555555555555556,0.5555555555555556,0.5555555555555556,0.5555555555555556,0.5555555555555556,0.5555555555555556,0.5555555555555556,0.5555555555555556,0.5555555555555556,0.5555555555555556,0.5555555555555556,0.5555555555555556,0.5555555555555556,0.5555555555555556,0.5555555555555556,0.5555555555555556,0.5555555555555556,0.5555555555555556,0.5555555555555556,0.5555555555555556,0.5555555555555556,0.5555555555555556,0.5555555555555556,0.5555555555555556,0.5555555555555556,0.5555555555555556,0.5555555555555556,0.5555555555555556,0.5555555555555556,0.5555555555555556,0.5555555555555556,0.5555555555555556,0.5555555555555556,0.5555555555555556,0.5555555555555556,0.5555555555555556,0.5555555555555556,0.5555555555555556,0.5555555555555556,0.5555555555555556,0.5555555555555556,0.5555555555555556,0.5555555555555556,0.5555555555555556,0.5555555555555556,0.5555555555555556,0.5555555555555556,0.5555555555555556,0.5555555555555556,0.5555555555555556,0.5555555555555556,0.5555555555555556,0.5555555555555556,0.5555555555555556,0.5555555555555556,0.5555555555555556,0.5555555555555556,0.5555555555555556,0.5555555555555556,0.5555555555555556,0.5555555555555556,0.5555555555555556,0.5555555555555556,0.5555555555555556,0.5555555555555556,0.5555555555555556,0.5555555555555556,0.5555555555555556,0.5555555555555556,0.5555555555555556,0.5555555555555556,0.5555555555555556,0.5555555555555556,0.5555555555555556,0.5555555555555556,0.5555555555555556,0.5555555555555556,0.5555555555555556,0.5555555555555556,0.5555555555555556,0.5555555555555556,0.5555555555555556,0.5555555555555556,0.5555555555555556,0.5555555555555556,0.5555555555555556,0.5555555555555556,0.5555555555555556,0.5555555555555556,0.5555555555555556,0.5555555555555556,0.5555555555555556,0.5555555555555556,0.5555555555555556,0.5555555555555556,0.5555555555555556,0.5555555555555556,0.5555555555555556,0.5555555555555556,0.5555555555555556,0.5555555555555556,0.5555555555555556,0.5555555555555556,0.5555555555555556,0.5555555555555556,0.5555555555555556,0.5555555555555556,0.5555555555555556,0.5555555555555556,0.5555555555555556,0.5555555555555556,0.5555555555555556,0.5555555555555556,0.5555555555555556,0.5555555555555556,0.5555555555555556,0.5555555555555556,0.5555555555555556,0.5555555555555556,0.5555555555555556,0.5555555555555556,0.5277777777777778,0.5277777777777778,0.5277777777777778,0.5277777777777778,0.5277777777777778,0.5277777777777778,0.5277777777777778,0.5277777777777778,0.5277777777777778,0.5277777777777778,0.5277777777777778,0.5277777777777778,0.5277777777777778,0.5277777777777778,0.5277777777777778,0.5277777777777778,0.5277777777777778,0.5277777777777778,0.5277777777777778,0.5277777777777778,0.5277777777777778,0.5277777777777778,0.5277777777777778,0.5277777777777778,0.5277777777777778,0.5277777777777778,0.5277777777777778,0.5277777777777778,0.5277777777777778,0.5277777777777778,0.5277777777777778,0.5277777777777778,0.5277777777777778,0.5277777777777778,0.5277777777777778,0.5277777777777778,0.5277777777777778,0.5277777777777778,0.5277777777777778,0.5277777777777778,0.5277777777777778,0.5277777777777778,0.5277777777777778,0.5277777777777778,0.5277777777777778,0.5277777777777778,0.5277777777777778,0.5277777777777778,0.5277777777777778,0.5277777777777778,0.5277777777777778,0.5277777777777778,0.5277777777777778,0.5277777777777778,0.5277777777777778,0.5277777777777778,0.5277777777777778,0.5277777777777778,0.5277777777777778,0.5277777777777778,0.5277777777777778,0.5277777777777778,0.5277777777777778,0.5277777777777778,0.5277777777777778,0.5277777777777778,0.5277777777777778,0.5277777777777778,0.5277777777777778,0.5277777777777778,0.5277777777777778,0.5277777777777778,0.5277777777777778,0.5277777777777778,0.5277777777777778,0.5277777777777778,0.5277777777777778,0.5277777777777778,0.5277777777777778,0.5277777777777778,0.5277777777777778,0.5277777777777778,0.5277777777777778,0.5277777777777778,0.5277777777777778,0.5277777777777778,0.5277777777777778,0.5277777777777778,0.5277777777777778,0.5277777777777778,0.5277777777777778,0.5277777777777778,0.5277777777777778,0.5277777777777778,0.5277777777777778,0.5277777777777778,0.5277777777777778,0.5277777777777778,0.5277777777777778,0.5277777777777778,0.5277777777777778,0.5277777777777778,0.5277777777777778,0.5277777777777778,0.5277777777777778,0.5277777777777778,0.5277777777777778,0.5277777777777778,0.5277777777777778,0.5277777777777778,0.5277777777777778,0.5277777777777778,0.5277777777777778,0.5277777777777778,0.5277777777777778,0.5277777777777778,0.5277777777777778,0.5277777777777778,0.5277777777777778,0.5277777777777778,0.5277777777777778,0.5277777777777778,0.5277777777777778,0.5277777777777778,0.5277777777777778,0.5277777777777778,0.5277777777777778,0.5277777777777778,0.5277777777777778,0.5277777777777778,0.5277777777777778,0.5277777777777778,0.5277777777777778,0.5277777777777778,0.5277777777777778,0.5277777777777778,0.5277777777777778,0.5277777777777778,0.5277777777777778,0.5277777777777778,0.5277777777777778,0.5277777777777778,0.5277777777777778,0.5277777777777778,0.5277777777777778,0.5277777777777778,0.5277777777777778,0.5277777777777778,0.5277777777777778,0.5277777777777778,0.5277777777777778,0.5277777777777778,0.5277777777777778,0.5277777777777778,0.5277777777777778,0.5277777777777778,0.5277777777777778,0.5277777777777778,0.5277777777777778,0.5277777777777778,0.5277777777777778,0.5277777777777778,0.5277777777777778,0.5277777777777778,0.5277777777777778,0.5277777777777778,0.5277777777777778,0.5277777777777778,0.5277777777777778,0.5277777777777778,0.5277777777777778,0.5277777777777778,0.5277777777777778,0.5277777777777778,0.5277777777777778,0.5277777777777778,0.5277777777777778,0.5277777777777778,0.5277777777777778,0.5277777777777778,0.5277777777777778,0.5277777777777778,0.5277777777777778,0.5277777777777778,0.5277777777777778,0.5277777777777778,0.5277777777777778,0.5277777777777778,0.5277777777777778,0.5277777777777778,0.5277777777777778,0.5277777777777778,0.5277777777777778,0.5277777777777778,0.5277777777777778,0.5277777777777778,0.5277777777777778,0.5277777777777778,0.5277777777777778,0.5277777777777778,0.5277777777777778,0.5277777777777778,0.5277777777777778,0.5277777777777778,0.5277777777777778,0.5277777777777778,0.5277777777777778,0.5277777777777778,0.5277777777777778,0.5277777777777778,0.5277777777777778,0.5277777777777778,0.5277777777777778,0.5277777777777778,0.5277777777777778,0.5277777777777778,0.5277777777777778,0.5277777777777778,0.5277777777777778,0.5277777777777778,0.5277777777777778,0.5277777777777778,0.5,0.5,0.5,0.5,0.5,0.5,0.5,0.5,0.5,0.5,0.5,0.5,0.5,0.5,0.5,0.5,0.5,0.5,0.5,0.5,0.5,0.5,0.5,0.5,0.5,0.5,0.5,0.5,0.5,0.5,0.5,0.5,0.5,0.5,0.5,0.5,0.5,0.5,0.5,0.5,0.5,0.5,0.5,0.5,0.5,0.5,0.5,0.5,0.5,0.5,0.5,0.5,0.5,0.5,0.5,0.5,0.5,0.5,0.5,0.5,0.5,0.5,0.5,0.5,0.5,0.5,0.5,0.5,0.5,0.5,0.5,0.5,0.5,0.5,0.5,0.5,0.5,0.5,0.5,0.5,0.5,0.5,0.5,0.5,0.5,0.5,0.5,0.5,0.5,0.5,0.5,0.5,0.5,0.5,0.5,0.5,0.5,0.5,0.5,0.5,0.5,0.5,0.5,0.5,0.5,0.5,0.5,0.5,0.5,0.5,0.5,0.5,0.5,0.5,0.5,0.5,0.5,0.5,0.5,0.5,0.5,0.5,0.5,0.5,0.5,0.5,0.5,0.5,0.5,0.5,0.5,0.5,0.5,0.5,0.5,0.5,0.5,0.5,0.5,0.5,0.5,0.5,0.5,0.5,0.5,0.5,0.5,0.5,0.5,0.5,0.5,0.5,0.5,0.5,0.5,0.5,0.5,0.5,0.5,0.5,0.5,0.5,0.5,0.5,0.5,0.5,0.5,0.5,0.5,0.5,0.5,0.5,0.5,0.5,0.5,0.5,0.4722222222222222,0.4722222222222222,0.4722222222222222,0.4722222222222222,0.4722222222222222,0.4722222222222222,0.4722222222222222,0.4722222222222222,0.4722222222222222,0.4722222222222222,0.4722222222222222,0.4722222222222222,0.4722222222222222,0.4722222222222222,0.4722222222222222,0.4722222222222222,0.4722222222222222,0.4722222222222222,0.4722222222222222,0.4722222222222222,0.4722222222222222,0.4722222222222222,0.4722222222222222,0.4722222222222222,0.4722222222222222,0.4722222222222222,0.4722222222222222,0.4722222222222222,0.4722222222222222,0.4722222222222222,0.4722222222222222,0.4722222222222222,0.4722222222222222,0.4722222222222222,0.4722222222222222,0.4722222222222222,0.4722222222222222,0.4722222222222222,0.4722222222222222,0.4722222222222222,0.4722222222222222,0.4722222222222222,0.4722222222222222,0.4722222222222222,0.4722222222222222,0.4722222222222222,0.4722222222222222,0.4722222222222222,0.4722222222222222,0.4722222222222222,0.4722222222222222,0.4722222222222222,0.4722222222222222,0.4444444444444444,0.4444444444444444,0.4444444444444444,0.4444444444444444,0.4444444444444444,0.4444444444444444,0.4444444444444444,0.4444444444444444,0.4444444444444444,0.4444444444444444,0.4444444444444444,0.4444444444444444,0.4444444444444444,0.4444444444444444,0.4444444444444444,0.4444444444444444,0.4444444444444444,0.4444444444444444,0.4444444444444444,0.4444444444444444,0.4444444444444444,0.4444444444444444,0.4444444444444444,0.4444444444444444,0.4444444444444444,0.4444444444444444,0.4444444444444444,0.4444444444444444,0.4444444444444444,0.4444444444444444,0.4444444444444444,0.4444444444444444,0.4444444444444444,0.4444444444444444,0.4444444444444444,0.4444444444444444,0.4444444444444444,0.4444444444444444,0.4444444444444444,0.4444444444444444,0.4444444444444444,0.4444444444444444,0.4444444444444444,0.4444444444444444,0.4444444444444444,0.4444444444444444,0.4444444444444444,0.4444444444444444,0.4444444444444444,0.4444444444444444,0.4444444444444444,0.4444444444444444,0.4444444444444444,0.4444444444444444,0.4444444444444444,0.4444444444444444,0.4444444444444444,0.4444444444444444,0.4444444444444444,0.4444444444444444,0.4444444444444444,0.4444444444444444,0.4444444444444444,0.4444444444444444,0.4444444444444444,0.4444444444444444,0.4444444444444444,0.4444444444444444,0.4444444444444444,0.4444444444444444,0.4444444444444444,0.4444444444444444,0.4444444444444444,0.4444444444444444,0.4444444444444444,0.4444444444444444,0.4444444444444444,0.4444444444444444,0.4444444444444444,0.4444444444444444,0.4444444444444444,0.4444444444444444,0.4444444444444444,0.4444444444444444,0.4444444444444444,0.4444444444444444,0.4444444444444444,0.4444444444444444,0.4444444444444444,0.4444444444444444,0.4444444444444444,0.4444444444444444,0.4444444444444444,0.4444444444444444,0.4444444444444444,0.4444444444444444,0.4444444444444444,0.4444444444444444,0.4444444444444444,0.4444444444444444,0.4444444444444444,0.4444444444444444,0.4444444444444444,0.4444444444444444,0.4444444444444444,0.4444444444444444,0.4444444444444444,0.4444444444444444,0.4444444444444444,0.4444444444444444,0.4444444444444444,0.4444444444444444,0.4444444444444444,0.4444444444444444,0.4444444444444444,0.4444444444444444,0.4444444444444444,0.4444444444444444,0.4444444444444444,0.4444444444444444,0.4444444444444444,0.4444444444444444,0.4444444444444444,0.4444444444444444,0.4444444444444444,0.4444444444444444,0.4444444444444444,0.4444444444444444,0.4444444444444444,0.4444444444444444,0.4444444444444444,0.4444444444444444,0.4444444444444444,0.4444444444444444,0.4444444444444444,0.4444444444444444,0.4444444444444444,0.4444444444444444,0.4444444444444444,0.4444444444444444,0.4444444444444444,0.4444444444444444,0.4444444444444444,0.4444444444444444,0.4444444444444444,0.4444444444444444,0.4444444444444444,0.4444444444444444,0.4444444444444444,0.4444444444444444,0.4444444444444444,0.4444444444444444,0.4444444444444444,0.4444444444444444,0.4444444444444444,0.4444444444444444,0.4444444444444444,0.4444444444444444,0.4444444444444444,0.4444444444444444,0.4444444444444444,0.4444444444444444,0.4444444444444444,0.4444444444444444,0.4444444444444444,0.4444444444444444,0.4444444444444444,0.4444444444444444,0.4444444444444444,0.4444444444444444,0.4444444444444444,0.4444444444444444,0.4444444444444444,0.4444444444444444,0.4444444444444444,0.4444444444444444,0.4444444444444444,0.4444444444444444,0.4444444444444444,0.4444444444444444,0.4444444444444444,0.4444444444444444,0.4444444444444444,0.4444444444444444,0.4166666666666667,0.4166666666666667,0.4166666666666667,0.4166666666666667,0.4166666666666667,0.4166666666666667,0.4166666666666667,0.4166666666666667,0.4166666666666667,0.4166666666666667,0.4166666666666667,0.4166666666666667,0.4166666666666667,0.4166666666666667,0.4166666666666667,0.4166666666666667,0.4166666666666667,0.4166666666666667,0.4166666666666667,0.4166666666666667,0.4166666666666667,0.4166666666666667,0.4166666666666667,0.4166666666666667,0.4166666666666667,0.4166666666666667,0.4166666666666667,0.4166666666666667,0.4166666666666667,0.4166666666666667,0.4166666666666667,0.4166666666666667,0.4166666666666667,0.4166666666666667,0.4166666666666667,0.4166666666666667,0.4166666666666667,0.4166666666666667,0.4166666666666667,0.4166666666666667,0.4166666666666667,0.4166666666666667,0.4166666666666667,0.4166666666666667,0.4166666666666667,0.4166666666666667,0.4166666666666667,0.4166666666666667,0.4166666666666667,0.4166666666666667,0.4166666666666667,0.4166666666666667,0.4166666666666667,0.4166666666666667,0.4166666666666667,0.4166666666666667,0.4166666666666667,0.4166666666666667,0.4166666666666667,0.4166666666666667,0.4166666666666667,0.4166666666666667,0.4166666666666667,0.4166666666666667,0.4166666666666667,0.4166666666666667,0.4166666666666667,0.4166666666666667,0.4166666666666667,0.4166666666666667,0.4166666666666667,0.4166666666666667,0.4166666666666667,0.4166666666666667,0.4166666666666667,0.4166666666666667,0.4166666666666667,0.4166666666666667,0.4166666666666667,0.4166666666666667,0.4166666666666667,0.4166666666666667,0.4166666666666667,0.4166666666666667,0.4166666666666667,0.4166666666666667,0.4166666666666667,0.4166666666666667,0.4166666666666667,0.4166666666666667,0.4166666666666667,0.4166666666666667,0.4166666666666667,0.4166666666666667,0.4166666666666667,0.4166666666666667,0.4166666666666667,0.4166666666666667,0.4166666666666667,0.4166666666666667,0.4166666666666667,0.4166666666666667,0.4166666666666667,0.4166666666666667,0.4166666666666667,0.4166666666666667,0.4166666666666667,0.4166666666666667,0.4166666666666667,0.4166666666666667,0.4166666666666667,0.4166666666666667,0.4166666666666667,0.4166666666666667,0.4166666666666667,0.4166666666666667,0.4166666666666667,0.4166666666666667,0.4166666666666667,0.4166666666666667,0.4166666666666667,0.4166666666666667,0.4166666666666667,0.4166666666666667,0.4166666666666667,0.4166666666666667,0.4166666666666667,0.4166666666666667,0.4166666666666667,0.4166666666666667,0.4166666666666667,0.4166666666666667,0.4166666666666667,0.4166666666666667,0.4166666666666667,0.4166666666666667,0.4166666666666667,0.4166666666666667,0.4166666666666667,0.4166666666666667,0.4166666666666667,0.4166666666666667,0.4166666666666667,0.4166666666666667,0.4166666666666667,0.4166666666666667,0.4166666666666667,0.4166666666666667,0.4166666666666667,0.4166666666666667,0.4166666666666667,0.4166666666666667,0.4166666666666667,0.4166666666666667,0.4166666666666667,0.4166666666666667,0.4166666666666667,0.4166666666666667,0.4166666666666667,0.4166666666666667,0.4166666666666667,0.4166666666666667,0.4166666666666667,0.4166666666666667,0.4166666666666667,0.4166666666666667,0.4166666666666667,0.4166666666666667,0.4166666666666667,0.4166666666666667,0.4166666666666667,0.4166666666666667,0.4166666666666667,0.4166666666666667,0.4166666666666667,0.4166666666666667,0.4166666666666667,0.4166666666666667,0.4166666666666667,0.4166666666666667,0.4166666666666667,0.4166666666666667,0.4166666666666667,0.4166666666666667,0.4166666666666667,0.4166666666666667,0.4166666666666667,0.4166666666666667,0.4166666666666667,0.4166666666666667,0.4166666666666667,0.4166666666666667,0.4166666666666667,0.4166666666666667,0.4166666666666667,0.4166666666666667,0.4166666666666667,0.4166666666666667,0.4166666666666667,0.4166666666666667,0.4166666666666667,0.4166666666666667,0.4166666666666667,0.4166666666666667,0.4166666666666667,0.4166666666666667,0.4166666666666667,0.4166666666666667,0.4166666666666667,0.4166666666666667,0.4166666666666667,0.4166666666666667,0.4166666666666667,0.4166666666666667,0.4166666666666667,0.4166666666666667,0.4166666666666667,0.4166666666666667,0.4166666666666667,0.4166666666666667,0.4166666666666667,0.4166666666666667,0.4166666666666667,0.4166666666666667,0.4166666666666667,0.4166666666666667,0.4166666666666667,0.4166666666666667,0.4166666666666667,0.4166666666666667,0.4166666666666667,0.4166666666666667,0.4166666666666667,0.4166666666666667,0.4166666666666667,0.4166666666666667,0.4166666666666667,0.4166666666666667,0.4166666666666667,0.4166666666666667,0.4166666666666667,0.4166666666666667,0.4166666666666667,0.4166666666666667,0.4166666666666667,0.4166666666666667,0.4166666666666667,0.4166666666666667,0.4166666666666667,0.4166666666666667,0.4166666666666667,0.4166666666666667,0.4166666666666667,0.4166666666666667,0.4166666666666667,0.4166666666666667,0.4166666666666667,0.4166666666666667,0.4166666666666667,0.4166666666666667,0.4166666666666667,0.4166666666666667,0.4166666666666667,0.4166666666666667,0.4166666666666667,0.4166666666666667,0.4166666666666667,0.4166666666666667,0.4166666666666667,0.4166666666666667,0.4166666666666667,0.4166666666666667,0.3888888888888889,0.3888888888888889,0.3888888888888889,0.3888888888888889,0.3888888888888889,0.3888888888888889,0.3611111111111111,0.3611111111111111,0.3611111111111111,0.3611111111111111,0.3611111111111111,0.3611111111111111,0.3611111111111111,0.3611111111111111,0.3611111111111111,0.3611111111111111,0.3611111111111111,0.3611111111111111,0.3611111111111111,0.3611111111111111,0.3611111111111111,0.3611111111111111,0.3611111111111111,0.3611111111111111,0.3611111111111111,0.3611111111111111,0.3611111111111111,0.3611111111111111,0.3611111111111111,0.3611111111111111,0.3611111111111111,0.3611111111111111,0.3611111111111111,0.3611111111111111,0.3611111111111111,0.3611111111111111,0.3611111111111111,0.3611111111111111,0.3611111111111111,0.3611111111111111,0.3611111111111111,0.3611111111111111,0.3611111111111111,0.3611111111111111,0.3611111111111111,0.3611111111111111,0.3611111111111111,0.3611111111111111,0.3611111111111111,0.3611111111111111,0.3611111111111111,0.3611111111111111,0.3611111111111111,0.3611111111111111,0.3333333333333333,0.3333333333333333,0.3333333333333333,0.3333333333333333,0.3333333333333333,0.3333333333333333,0.3333333333333333,0.3333333333333333,0.3333333333333333,0.3333333333333333,0.3333333333333333,0.3333333333333333,0.3333333333333333,0.3055555555555556,0.3055555555555556,0.3055555555555556,0.2777777777777778,0.2777777777777778,0.25,0.25,0.25,0.2222222222222222,0.2222222222222222,0.2222222222222222,0.2222222222222222,0.2222222222222222,0.2222222222222222,0.2222222222222222,0.2222222222222222,0.0],\"yaxis\":\"y\",\"type\":\"scattergl\"}],                        {\"template\":{\"data\":{\"histogram2dcontour\":[{\"type\":\"histogram2dcontour\",\"colorbar\":{\"outlinewidth\":0,\"ticks\":\"\"},\"colorscale\":[[0.0,\"#0d0887\"],[0.1111111111111111,\"#46039f\"],[0.2222222222222222,\"#7201a8\"],[0.3333333333333333,\"#9c179e\"],[0.4444444444444444,\"#bd3786\"],[0.5555555555555556,\"#d8576b\"],[0.6666666666666666,\"#ed7953\"],[0.7777777777777778,\"#fb9f3a\"],[0.8888888888888888,\"#fdca26\"],[1.0,\"#f0f921\"]]}],\"choropleth\":[{\"type\":\"choropleth\",\"colorbar\":{\"outlinewidth\":0,\"ticks\":\"\"}}],\"histogram2d\":[{\"type\":\"histogram2d\",\"colorbar\":{\"outlinewidth\":0,\"ticks\":\"\"},\"colorscale\":[[0.0,\"#0d0887\"],[0.1111111111111111,\"#46039f\"],[0.2222222222222222,\"#7201a8\"],[0.3333333333333333,\"#9c179e\"],[0.4444444444444444,\"#bd3786\"],[0.5555555555555556,\"#d8576b\"],[0.6666666666666666,\"#ed7953\"],[0.7777777777777778,\"#fb9f3a\"],[0.8888888888888888,\"#fdca26\"],[1.0,\"#f0f921\"]]}],\"heatmap\":[{\"type\":\"heatmap\",\"colorbar\":{\"outlinewidth\":0,\"ticks\":\"\"},\"colorscale\":[[0.0,\"#0d0887\"],[0.1111111111111111,\"#46039f\"],[0.2222222222222222,\"#7201a8\"],[0.3333333333333333,\"#9c179e\"],[0.4444444444444444,\"#bd3786\"],[0.5555555555555556,\"#d8576b\"],[0.6666666666666666,\"#ed7953\"],[0.7777777777777778,\"#fb9f3a\"],[0.8888888888888888,\"#fdca26\"],[1.0,\"#f0f921\"]]}],\"heatmapgl\":[{\"type\":\"heatmapgl\",\"colorbar\":{\"outlinewidth\":0,\"ticks\":\"\"},\"colorscale\":[[0.0,\"#0d0887\"],[0.1111111111111111,\"#46039f\"],[0.2222222222222222,\"#7201a8\"],[0.3333333333333333,\"#9c179e\"],[0.4444444444444444,\"#bd3786\"],[0.5555555555555556,\"#d8576b\"],[0.6666666666666666,\"#ed7953\"],[0.7777777777777778,\"#fb9f3a\"],[0.8888888888888888,\"#fdca26\"],[1.0,\"#f0f921\"]]}],\"contourcarpet\":[{\"type\":\"contourcarpet\",\"colorbar\":{\"outlinewidth\":0,\"ticks\":\"\"}}],\"contour\":[{\"type\":\"contour\",\"colorbar\":{\"outlinewidth\":0,\"ticks\":\"\"},\"colorscale\":[[0.0,\"#0d0887\"],[0.1111111111111111,\"#46039f\"],[0.2222222222222222,\"#7201a8\"],[0.3333333333333333,\"#9c179e\"],[0.4444444444444444,\"#bd3786\"],[0.5555555555555556,\"#d8576b\"],[0.6666666666666666,\"#ed7953\"],[0.7777777777777778,\"#fb9f3a\"],[0.8888888888888888,\"#fdca26\"],[1.0,\"#f0f921\"]]}],\"surface\":[{\"type\":\"surface\",\"colorbar\":{\"outlinewidth\":0,\"ticks\":\"\"},\"colorscale\":[[0.0,\"#0d0887\"],[0.1111111111111111,\"#46039f\"],[0.2222222222222222,\"#7201a8\"],[0.3333333333333333,\"#9c179e\"],[0.4444444444444444,\"#bd3786\"],[0.5555555555555556,\"#d8576b\"],[0.6666666666666666,\"#ed7953\"],[0.7777777777777778,\"#fb9f3a\"],[0.8888888888888888,\"#fdca26\"],[1.0,\"#f0f921\"]]}],\"mesh3d\":[{\"type\":\"mesh3d\",\"colorbar\":{\"outlinewidth\":0,\"ticks\":\"\"}}],\"scatter\":[{\"fillpattern\":{\"fillmode\":\"overlay\",\"size\":10,\"solidity\":0.2},\"type\":\"scatter\"}],\"parcoords\":[{\"type\":\"parcoords\",\"line\":{\"colorbar\":{\"outlinewidth\":0,\"ticks\":\"\"}}}],\"scatterpolargl\":[{\"type\":\"scatterpolargl\",\"marker\":{\"colorbar\":{\"outlinewidth\":0,\"ticks\":\"\"}}}],\"bar\":[{\"error_x\":{\"color\":\"#2a3f5f\"},\"error_y\":{\"color\":\"#2a3f5f\"},\"marker\":{\"line\":{\"color\":\"#E5ECF6\",\"width\":0.5},\"pattern\":{\"fillmode\":\"overlay\",\"size\":10,\"solidity\":0.2}},\"type\":\"bar\"}],\"scattergeo\":[{\"type\":\"scattergeo\",\"marker\":{\"colorbar\":{\"outlinewidth\":0,\"ticks\":\"\"}}}],\"scatterpolar\":[{\"type\":\"scatterpolar\",\"marker\":{\"colorbar\":{\"outlinewidth\":0,\"ticks\":\"\"}}}],\"histogram\":[{\"marker\":{\"pattern\":{\"fillmode\":\"overlay\",\"size\":10,\"solidity\":0.2}},\"type\":\"histogram\"}],\"scattergl\":[{\"type\":\"scattergl\",\"marker\":{\"colorbar\":{\"outlinewidth\":0,\"ticks\":\"\"}}}],\"scatter3d\":[{\"type\":\"scatter3d\",\"line\":{\"colorbar\":{\"outlinewidth\":0,\"ticks\":\"\"}},\"marker\":{\"colorbar\":{\"outlinewidth\":0,\"ticks\":\"\"}}}],\"scattermapbox\":[{\"type\":\"scattermapbox\",\"marker\":{\"colorbar\":{\"outlinewidth\":0,\"ticks\":\"\"}}}],\"scatterternary\":[{\"type\":\"scatterternary\",\"marker\":{\"colorbar\":{\"outlinewidth\":0,\"ticks\":\"\"}}}],\"scattercarpet\":[{\"type\":\"scattercarpet\",\"marker\":{\"colorbar\":{\"outlinewidth\":0,\"ticks\":\"\"}}}],\"carpet\":[{\"aaxis\":{\"endlinecolor\":\"#2a3f5f\",\"gridcolor\":\"white\",\"linecolor\":\"white\",\"minorgridcolor\":\"white\",\"startlinecolor\":\"#2a3f5f\"},\"baxis\":{\"endlinecolor\":\"#2a3f5f\",\"gridcolor\":\"white\",\"linecolor\":\"white\",\"minorgridcolor\":\"white\",\"startlinecolor\":\"#2a3f5f\"},\"type\":\"carpet\"}],\"table\":[{\"cells\":{\"fill\":{\"color\":\"#EBF0F8\"},\"line\":{\"color\":\"white\"}},\"header\":{\"fill\":{\"color\":\"#C8D4E3\"},\"line\":{\"color\":\"white\"}},\"type\":\"table\"}],\"barpolar\":[{\"marker\":{\"line\":{\"color\":\"#E5ECF6\",\"width\":0.5},\"pattern\":{\"fillmode\":\"overlay\",\"size\":10,\"solidity\":0.2}},\"type\":\"barpolar\"}],\"pie\":[{\"automargin\":true,\"type\":\"pie\"}]},\"layout\":{\"autotypenumbers\":\"strict\",\"colorway\":[\"#636efa\",\"#EF553B\",\"#00cc96\",\"#ab63fa\",\"#FFA15A\",\"#19d3f3\",\"#FF6692\",\"#B6E880\",\"#FF97FF\",\"#FECB52\"],\"font\":{\"color\":\"#2a3f5f\"},\"hovermode\":\"closest\",\"hoverlabel\":{\"align\":\"left\"},\"paper_bgcolor\":\"white\",\"plot_bgcolor\":\"#E5ECF6\",\"polar\":{\"bgcolor\":\"#E5ECF6\",\"angularaxis\":{\"gridcolor\":\"white\",\"linecolor\":\"white\",\"ticks\":\"\"},\"radialaxis\":{\"gridcolor\":\"white\",\"linecolor\":\"white\",\"ticks\":\"\"}},\"ternary\":{\"bgcolor\":\"#E5ECF6\",\"aaxis\":{\"gridcolor\":\"white\",\"linecolor\":\"white\",\"ticks\":\"\"},\"baxis\":{\"gridcolor\":\"white\",\"linecolor\":\"white\",\"ticks\":\"\"},\"caxis\":{\"gridcolor\":\"white\",\"linecolor\":\"white\",\"ticks\":\"\"}},\"coloraxis\":{\"colorbar\":{\"outlinewidth\":0,\"ticks\":\"\"}},\"colorscale\":{\"sequential\":[[0.0,\"#0d0887\"],[0.1111111111111111,\"#46039f\"],[0.2222222222222222,\"#7201a8\"],[0.3333333333333333,\"#9c179e\"],[0.4444444444444444,\"#bd3786\"],[0.5555555555555556,\"#d8576b\"],[0.6666666666666666,\"#ed7953\"],[0.7777777777777778,\"#fb9f3a\"],[0.8888888888888888,\"#fdca26\"],[1.0,\"#f0f921\"]],\"sequentialminus\":[[0.0,\"#0d0887\"],[0.1111111111111111,\"#46039f\"],[0.2222222222222222,\"#7201a8\"],[0.3333333333333333,\"#9c179e\"],[0.4444444444444444,\"#bd3786\"],[0.5555555555555556,\"#d8576b\"],[0.6666666666666666,\"#ed7953\"],[0.7777777777777778,\"#fb9f3a\"],[0.8888888888888888,\"#fdca26\"],[1.0,\"#f0f921\"]],\"diverging\":[[0,\"#8e0152\"],[0.1,\"#c51b7d\"],[0.2,\"#de77ae\"],[0.3,\"#f1b6da\"],[0.4,\"#fde0ef\"],[0.5,\"#f7f7f7\"],[0.6,\"#e6f5d0\"],[0.7,\"#b8e186\"],[0.8,\"#7fbc41\"],[0.9,\"#4d9221\"],[1,\"#276419\"]]},\"xaxis\":{\"gridcolor\":\"white\",\"linecolor\":\"white\",\"ticks\":\"\",\"title\":{\"standoff\":15},\"zerolinecolor\":\"white\",\"automargin\":true,\"zerolinewidth\":2},\"yaxis\":{\"gridcolor\":\"white\",\"linecolor\":\"white\",\"ticks\":\"\",\"title\":{\"standoff\":15},\"zerolinecolor\":\"white\",\"automargin\":true,\"zerolinewidth\":2},\"scene\":{\"xaxis\":{\"backgroundcolor\":\"#E5ECF6\",\"gridcolor\":\"white\",\"linecolor\":\"white\",\"showbackground\":true,\"ticks\":\"\",\"zerolinecolor\":\"white\",\"gridwidth\":2},\"yaxis\":{\"backgroundcolor\":\"#E5ECF6\",\"gridcolor\":\"white\",\"linecolor\":\"white\",\"showbackground\":true,\"ticks\":\"\",\"zerolinecolor\":\"white\",\"gridwidth\":2},\"zaxis\":{\"backgroundcolor\":\"#E5ECF6\",\"gridcolor\":\"white\",\"linecolor\":\"white\",\"showbackground\":true,\"ticks\":\"\",\"zerolinecolor\":\"white\",\"gridwidth\":2}},\"shapedefaults\":{\"line\":{\"color\":\"#2a3f5f\"}},\"annotationdefaults\":{\"arrowcolor\":\"#2a3f5f\",\"arrowhead\":0,\"arrowwidth\":1},\"geo\":{\"bgcolor\":\"white\",\"landcolor\":\"#E5ECF6\",\"subunitcolor\":\"white\",\"showland\":true,\"showlakes\":true,\"lakecolor\":\"white\"},\"title\":{\"x\":0.05},\"mapbox\":{\"style\":\"light\"}}},\"xaxis\":{\"anchor\":\"y\",\"domain\":[0.0,1.0],\"title\":{\"text\":\"False Positive Rate\"}},\"yaxis\":{\"anchor\":\"x\",\"domain\":[0.0,1.0],\"title\":{\"text\":\"True Positive Rate\"}},\"coloraxis\":{\"colorbar\":{\"title\":{\"text\":\"Threshold\"}},\"colorscale\":[[0.0,\"#0d0887\"],[0.1111111111111111,\"#46039f\"],[0.2222222222222222,\"#7201a8\"],[0.3333333333333333,\"#9c179e\"],[0.4444444444444444,\"#bd3786\"],[0.5555555555555556,\"#d8576b\"],[0.6666666666666666,\"#ed7953\"],[0.7777777777777778,\"#fb9f3a\"],[0.8888888888888888,\"#fdca26\"],[1.0,\"#f0f921\"]]},\"legend\":{\"tracegroupgap\":0},\"title\":{\"text\":\"ROC Curve\"}},                        {\"responsive\": true}                    ).then(function(){\n",
              "                            \n",
              "var gd = document.getElementById('19362281-b3ff-4fce-9a16-45a6d9dc4a9b');\n",
              "var x = new MutationObserver(function (mutations, observer) {{\n",
              "        var display = window.getComputedStyle(gd).display;\n",
              "        if (!display || display === 'none') {{\n",
              "            console.log([gd, 'removed!']);\n",
              "            Plotly.purge(gd);\n",
              "            observer.disconnect();\n",
              "        }}\n",
              "}});\n",
              "\n",
              "// Listen for the removal of the full notebook cells\n",
              "var notebookContainer = gd.closest('#notebook-container');\n",
              "if (notebookContainer) {{\n",
              "    x.observe(notebookContainer, {childList: true});\n",
              "}}\n",
              "\n",
              "// Listen for the clearing of the current output cell\n",
              "var outputEl = gd.closest('.output');\n",
              "if (outputEl) {{\n",
              "    x.observe(outputEl, {childList: true});\n",
              "}}\n",
              "\n",
              "                        })                };                            </script>        </div>\n",
              "</body>\n",
              "</html>"
            ]
          },
          "metadata": {}
        }
      ]
    },
    {
      "cell_type": "code",
      "source": [
        "from sklearn.metrics import auc\n",
        "\n",
        "auc(fprs, tprs)"
      ],
      "metadata": {
        "colab": {
          "base_uri": "https://localhost:8080/"
        },
        "id": "1uTv4MwsSA7u",
        "outputId": "fd4cc81b-14d9-4063-bad8-93624288cd26"
      },
      "execution_count": null,
      "outputs": [
        {
          "output_type": "execute_result",
          "data": {
            "text/plain": [
              "0.9810064911278153"
            ]
          },
          "metadata": {},
          "execution_count": 33
        }
      ]
    },
    {
      "cell_type": "code",
      "source": [
        "from math import sqrt\n",
        "\n",
        "def mcc(tn, fp, fn, tp):\n",
        "  top = (tp * tn) - (fp * fn)\n",
        "  bot = (tp + fp) * (tp + fn) * (tn + fp) * (tn + fn)\n",
        "  return top / sqrt(bot)\n",
        "\n",
        "\"Matthews Correlation Coefficient: {0}\".format(mcc(tn, fp, fn, tp))"
      ],
      "metadata": {
        "colab": {
          "base_uri": "https://localhost:8080/",
          "height": 36
        },
        "id": "M1qM7PJpSBMq",
        "outputId": "aaca66c1-b38b-4ca2-d0da-c2c6f29ec712"
      },
      "execution_count": null,
      "outputs": [
        {
          "output_type": "execute_result",
          "data": {
            "text/plain": [
              "'Matthews Correlation Coefficient: 0.6294313746803477'"
            ],
            "application/vnd.google.colaboratory.intrinsic+json": {
              "type": "string"
            }
          },
          "metadata": {},
          "execution_count": 34
        }
      ]
    },
    {
      "cell_type": "code",
      "source": [
        "\n",
        "y_test.shape, test_predictions.shape, probabilities.shape"
      ],
      "metadata": {
        "colab": {
          "base_uri": "https://localhost:8080/"
        },
        "id": "8mMqVas5SEeX",
        "outputId": "7e5adaad-04d6-402d-b9be-679632a6e906"
      },
      "execution_count": null,
      "outputs": [
        {
          "output_type": "execute_result",
          "data": {
            "text/plain": [
              "((22785,), (22785,), (22785,))"
            ]
          },
          "metadata": {},
          "execution_count": 35
        }
      ]
    },
    {
      "cell_type": "code",
      "source": [
        "from sklearn.metrics import confusion_matrix, ConfusionMatrixDisplay\n",
        "\n",
        "cm = confusion_matrix(y_test, test_predictions, labels=[0, 1])\n",
        "disp = ConfusionMatrixDisplay(confusion_matrix=cm,\n",
        "                              display_labels=['Not Fraud', 'Fraud'])\n",
        "disp.plot()"
      ],
      "metadata": {
        "colab": {
          "base_uri": "https://localhost:8080/",
          "height": 466
        },
        "id": "GMD6Eb6VSNSF",
        "outputId": "1cb6f102-d288-404c-b886-49a0b1d247a5"
      },
      "execution_count": null,
      "outputs": [
        {
          "output_type": "execute_result",
          "data": {
            "text/plain": [
              "<sklearn.metrics._plot.confusion_matrix.ConfusionMatrixDisplay at 0x79a9eff20cd0>"
            ]
          },
          "metadata": {},
          "execution_count": 36
        },
        {
          "output_type": "display_data",
          "data": {
            "text/plain": [
              "<Figure size 640x480 with 2 Axes>"
            ],
            "image/png": "[encoded data removed]"
          },
          "metadata": {}
        }
      ]
    },
    {
      "cell_type": "code",
      "source": [
        "from sklearn.metrics import classification_report\n",
        "\n",
        "print(classification_report(y_test, test_predictions, labels=[0, 1], target_names=['Not Fraud', 'Fraud']))"
      ],
      "metadata": {
        "colab": {
          "base_uri": "https://localhost:8080/"
        },
        "id": "G8j_R12uSNm5",
        "outputId": "3e2f4443-5baf-44f7-ad07-003565c2a4d2"
      },
      "execution_count": null,
      "outputs": [
        {
          "output_type": "stream",
          "name": "stdout",
          "text": [
            "              precision    recall  f1-score   support\n",
            "\n",
            "   Not Fraud       1.00      1.00      1.00     22749\n",
            "       Fraud       0.71      0.56      0.63        36\n",
            "\n",
            "    accuracy                           1.00     22785\n",
            "   macro avg       0.86      0.78      0.81     22785\n",
            "weighted avg       1.00      1.00      1.00     22785\n",
            "\n"
          ]
        }
      ]
    },
    {
      "cell_type": "code",
      "source": [
        "from sklearn.metrics import matthews_corrcoef\n",
        "\n",
        "matthews_corrcoef(y_test, test_predictions)"
      ],
      "metadata": {
        "colab": {
          "base_uri": "https://localhost:8080/"
        },
        "id": "3Uu4hgzYSNqg",
        "outputId": "9788f7ed-1359-4924-c439-c4eb65081bcc"
      },
      "execution_count": null,
      "outputs": [
        {
          "output_type": "execute_result",
          "data": {
            "text/plain": [
              "0.6294313746803477"
            ]
          },
          "metadata": {},
          "execution_count": 38
        }
      ]
    },
    {
      "cell_type": "code",
      "source": [
        "from sklearn.metrics import RocCurveDisplay, roc_curve\n",
        "\n",
        "fprs, tprs, thresholdss = roc_curve(y_test, probabilities)\n",
        "roc_auc = auc(fprs, tprs)\n",
        "display = RocCurveDisplay(fpr=fprs, tpr=tprs, roc_auc=roc_auc)\n",
        "display.plot()"
      ],
      "metadata": {
        "colab": {
          "base_uri": "https://localhost:8080/",
          "height": 466
        },
        "id": "5B1n_sg-SYKr",
        "outputId": "c848fc07-46d8-4837-c198-1813e1c62272"
      },
      "execution_count": null,
      "outputs": [
        {
          "output_type": "execute_result",
          "data": {
            "text/plain": [
              "<sklearn.metrics._plot.roc_curve.RocCurveDisplay at 0x79aa3bb4e9b0>"
            ]
          },
          "metadata": {},
          "execution_count": 39
        },
        {
          "output_type": "display_data",
          "data": {
            "text/plain": [
              "<Figure size 640x480 with 1 Axes>"
            ],
            "image/png": "[encoded data removed]"
          },
          "metadata": {}
        }
      ]
    }
  ]
}